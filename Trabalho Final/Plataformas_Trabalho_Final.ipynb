{
  "nbformat": 4,
  "nbformat_minor": 0,
  "metadata": {
    "colab": {
      "name": "Plataformas_Trabalho_Final.ipynb",
      "provenance": [],
      "collapsed_sections": [],
      "toc_visible": true,
      "include_colab_link": true
    },
    "kernelspec": {
      "name": "python3",
      "display_name": "Python 3"
    }
  },
  "cells": [
    {
      "cell_type": "markdown",
      "metadata": {
        "id": "view-in-github",
        "colab_type": "text"
      },
      "source": [
        "<a href=\"https://colab.research.google.com/github/tpessoa-dev/plataformas-cognitivas/blob/main/Trabalho%20Final/Plataformas_Trabalho_Final.ipynb\" target=\"_parent\"><img src=\"https://colab.research.google.com/assets/colab-badge.svg\" alt=\"Open In Colab\"/></a>"
      ]
    },
    {
      "cell_type": "markdown",
      "metadata": {
        "id": "225yIrPK2V3z"
      },
      "source": [
        "# **Trabalho Final - Plataformas Cognitivas**\n",
        "\n",
        "**Componentes**<br>\n",
        "Bartira Lira RM 340177<br> \n",
        "Ricardo Antonelli RM 339505<br>\n",
        "Vitor Carvalhal RM 337129<br>\n",
        "Tiago Pessoa RM 339575<br>\n",
        "\n",
        "#Links\n",
        "\n",
        "**Video Youtube** - https://youtu.be/Xg8BxHoremk <br>\n",
        "\n",
        "Estamos incluindo o link do git para acesso a todos os arquivos do trabalho uma vez que o portal da FIAP restringe o tamanho dos arquivos a serem enviados\n",
        "\n",
        "**Github** - https://github.com/tpessoa-dev/plataformas-cognitivas/tree/main/Trabalho%20Final <br>\n",
        "\n",
        "OBS: Os arquivos .joblib precisaram ser compactados em formato .rar em virtude do tamanho superior ao suportado pelo git<br>\n"
      ]
    },
    {
      "cell_type": "markdown",
      "metadata": {
        "id": "ITZ8X-hf6DZ2"
      },
      "source": [
        "# Configurações"
      ]
    },
    {
      "cell_type": "markdown",
      "metadata": {
        "id": "AuzRkIfO6M_d"
      },
      "source": [
        "Imports de Pacotes"
      ]
    },
    {
      "cell_type": "code",
      "metadata": {
        "id": "GMPxIg3j480h"
      },
      "source": [
        "from IPython.display import display, Javascript\n",
        "from IPython.display import Image\n",
        "from google.colab.output import eval_js\n",
        "from base64 import b64decode"
      ],
      "execution_count": null,
      "outputs": []
    },
    {
      "cell_type": "markdown",
      "metadata": {
        "id": "SsLYaoPJ6O65"
      },
      "source": [
        "Funções úteis"
      ]
    },
    {
      "cell_type": "code",
      "metadata": {
        "id": "fgjAkHGT4_PW"
      },
      "source": [
        "def take_photo(filename='photo.jpg', quality=0.8):\n",
        "  js = Javascript('''\n",
        "    async function takePhoto(quality) {\n",
        "      const div = document.createElement('div');\n",
        "      const capture = document.createElement('button');\n",
        "      capture.textContent = 'Capture';\n",
        "      div.appendChild(capture);\n",
        "\n",
        "      const video = document.createElement('video');\n",
        "      video.style.display = 'block';\n",
        "      const stream = await navigator.mediaDevices.getUserMedia({video: true});\n",
        "\n",
        "      document.body.appendChild(div);\n",
        "      div.appendChild(video);\n",
        "      video.srcObject = stream;\n",
        "      await video.play();\n",
        "\n",
        "      // Resize the output to fit the video element.\n",
        "      google.colab.output.setIframeHeight(document.documentElement.scrollHeight, true);\n",
        "\n",
        "      // Wait for Capture to be clicked.\n",
        "      await new Promise((resolve) => capture.onclick = resolve);\n",
        "\n",
        "      const canvas = document.createElement('canvas');\n",
        "      canvas.width = video.videoWidth;\n",
        "      canvas.height = video.videoHeight;\n",
        "      canvas.getContext('2d').drawImage(video, 0, 0);\n",
        "      stream.getVideoTracks()[0].stop();\n",
        "      div.remove();\n",
        "      return canvas.toDataURL('image/jpeg', quality);\n",
        "    }\n",
        "    ''')\n",
        "  display(js)\n",
        "  data = eval_js('takePhoto({})'.format(quality))\n",
        "  binary = b64decode(data.split(',')[1])\n",
        "  with open(filename, 'wb') as f:\n",
        "    f.write(binary)\n",
        "  return filename"
      ],
      "execution_count": null,
      "outputs": []
    },
    {
      "cell_type": "markdown",
      "metadata": {
        "id": "ylp3x05m6Sp9"
      },
      "source": [
        "# Informações do cliente"
      ]
    },
    {
      "cell_type": "code",
      "metadata": {
        "id": "DP6I38-R6Zpp",
        "cellView": "form"
      },
      "source": [
        "#@title Preencha aqui com as informações do cliente requisitante\n",
        "\n",
        "#@markdown Informe todos os campos a seguir:\n",
        "nome = \"Vitor\" #@param {type:\"string\"}\n",
        "\n",
        "renda = 6000.00 #@param {type:\"number\"}\n",
        "idade = 26 #@param {type:\"slider\", min:18, max:100, step:1}\n",
        "etnia = \"Etnia01\"  #@param [\"Selecionar etnia\", \"Etnia01\", \"Etnia02\"]\n",
        "genero = \"Masculino\" #@param [\"Masculino\", \"Feminino\"]\n",
        "casa_propria = \"Sim\" #@param [\"Selecionar\", \"Sim\", \"Não\"]\n",
        "outras_rendas = \"Não\" #@param [\"Selecionar\", \"Sim\", \"Não\"]\n",
        "estado_civil = \"Estado01\" #@param [\"Selecionar\", \"Estado01\", \"Estado02\"]\n",
        "escolaridade = 3 #@param {type:\"slider\", min:0, max:3, step:1}\n",
        "\n",
        "#@markdown ---\n"
      ],
      "execution_count": null,
      "outputs": []
    },
    {
      "cell_type": "code",
      "metadata": {
        "id": "dlLpClyi4_PB",
        "colab": {
          "base_uri": "https://localhost:8080/",
          "height": 514
        },
        "cellView": "form",
        "outputId": "cf67b6cc-076f-4891-db36-833b3e1248e3"
      },
      "source": [
        "#@title Tire uma foto do cliente requerente (ou tire uma foto sua mesmo)\n",
        "\n",
        "try:\n",
        "  filename = take_photo()\n",
        "  print('Saved to {}'.format(filename))\n",
        "  \n",
        "  # Show the image which was just taken.\n",
        "  display(Image(filename))\n",
        "except Exception as err:\n",
        "  # Errors will be thrown if the user does not have a webcam or if they do not\n",
        "  # grant the page permission to access it.\n",
        "  print(str(err))"
      ],
      "execution_count": null,
      "outputs": [
        {
          "output_type": "display_data",
          "data": {
            "application/javascript": [
              "\n",
              "    async function takePhoto(quality) {\n",
              "      const div = document.createElement('div');\n",
              "      const capture = document.createElement('button');\n",
              "      capture.textContent = 'Capture';\n",
              "      div.appendChild(capture);\n",
              "\n",
              "      const video = document.createElement('video');\n",
              "      video.style.display = 'block';\n",
              "      const stream = await navigator.mediaDevices.getUserMedia({video: true});\n",
              "\n",
              "      document.body.appendChild(div);\n",
              "      div.appendChild(video);\n",
              "      video.srcObject = stream;\n",
              "      await video.play();\n",
              "\n",
              "      // Resize the output to fit the video element.\n",
              "      google.colab.output.setIframeHeight(document.documentElement.scrollHeight, true);\n",
              "\n",
              "      // Wait for Capture to be clicked.\n",
              "      await new Promise((resolve) => capture.onclick = resolve);\n",
              "\n",
              "      const canvas = document.createElement('canvas');\n",
              "      canvas.width = video.videoWidth;\n",
              "      canvas.height = video.videoHeight;\n",
              "      canvas.getContext('2d').drawImage(video, 0, 0);\n",
              "      stream.getVideoTracks()[0].stop();\n",
              "      div.remove();\n",
              "      return canvas.toDataURL('image/jpeg', quality);\n",
              "    }\n",
              "    "
            ],
            "text/plain": [
              "<IPython.core.display.Javascript object>"
            ]
          },
          "metadata": {}
        },
        {
          "output_type": "stream",
          "name": "stdout",
          "text": [
            "Saved to photo.jpg\n"
          ]
        },
        {
          "output_type": "display_data",
          "data": {
            "image/jpeg": "[encoded data removed]",
            "text/plain": [
              "<IPython.core.display.Image object>"
            ]
          },
          "metadata": {}
        }
      ]
    },
    {
      "cell_type": "markdown",
      "metadata": {
        "id": "3l57T0ap-sgc"
      },
      "source": [
        "# Análise de crédito"
      ]
    },
    {
      "cell_type": "markdown",
      "metadata": {
        "id": "SQDMb5NN-0wc"
      },
      "source": [
        "1. Verifique se na imagem possui uma pessoa, utilizando a API \"default\" da IBM; Se não possuir, informar mensagem e não conceder o empréstimo.\n",
        "\n",
        "\n",
        "2.  Verifique se a imagem apresenta conteúdo explícito , utilizando a API \"explicit\"da IBM; Se possuir, informar mensagem e não conceder o empréstimo.  \n",
        "\n",
        "\n",
        "3. Verificar o gênero e a idade da pessoa utilizando a API de reconhecimento facial da Microsoft Azure; Se não for o mesmo gênero ou se a idade diferir em 5 anos (para mais ou para menos), informar mensagem e não conceder o empréstimo.\n",
        "\n",
        "\n",
        "4. Exibir a imagem novamente no notebook com os pontos \"fiduciais\" da face da pessoa, obtidos pela API da Azure. (em uma aplicação corporativa, estes pontos ficam gravados para futuras autenticações)\n",
        "\n",
        "\n",
        "5. Chamar a API de Machine Learning em um contêiner feito em Docker e que esteja rodando em uma máquina virtual no Google Cloud. Esta API deve usar os dados informados neste notebook e **automaticamente** vetar ou conceder o empréstimo.\n",
        "\n",
        "\n",
        "ATENÇÃO PARA O BULLET 5: É necessário chamar tanto um modelo que possua a variável ETNIA quanto um modelo que não possui esta variável, assim como fizemos em aula!!!\n",
        "\n",
        "\n",
        "6. Gravar um vídeo \"operando\" o notebook e simulando a avaliação com concessão ou reprovação do crédito.\n",
        "\n",
        "\n",
        "7. Submeter o Notebook e o vídeo da plataforma da FIAP, se o vídeo ficar muito grande, submeter ao Youtube (pode ser privado) e anexar o Link.\n",
        "\n",
        "---  \n",
        "(Dica: Você pode usar este vídeo para divulgar seu trabalho como Engenheiro de ML)\n"
      ]
    },
    {
      "cell_type": "markdown",
      "metadata": {
        "id": "D1n3Hu5EyZ-x"
      },
      "source": [
        "## Utilizando Google Drive\n",
        "\n",
        "Utilizaremos o Google Drive para armazenar as imagens, assim sera utilizado o comando abaixo para montar seu drive."
      ]
    },
    {
      "cell_type": "code",
      "metadata": {
        "colab": {
          "base_uri": "https://localhost:8080/"
        },
        "id": "6j21dBx9yxX2",
        "outputId": "24a445c3-51d0-4014-ad1f-9f221167fbc0"
      },
      "source": [
        "from google.colab import drive\n",
        "drive.mount('/content/drive')"
      ],
      "execution_count": null,
      "outputs": [
        {
          "output_type": "stream",
          "name": "stdout",
          "text": [
            "Drive already mounted at /content/drive; to attempt to forcibly remount, call drive.mount(\"/content/drive\", force_remount=True).\n"
          ]
        }
      ]
    },
    {
      "cell_type": "markdown",
      "metadata": {
        "id": "oSUiTW9szK47"
      },
      "source": [
        "Criando o caminho para as bases de dados e chaves JSON."
      ]
    },
    {
      "cell_type": "code",
      "metadata": {
        "id": "28f1ahjXy3Rz"
      },
      "source": [
        "data_path = '/content/drive/MyDrive/MBA/Plataformas Cognitivas/Trabalho/data/'\n",
        "key_path = '/content/drive/MyDrive/MBA/Plataformas Cognitivas/Trabalho/keys/modelosinteligenciaartificial-3594e5388fb6.json'"
      ],
      "execution_count": null,
      "outputs": []
    },
    {
      "cell_type": "markdown",
      "metadata": {
        "id": "ZW0kjw9Nzxf_"
      },
      "source": [
        "A API IBM Watson™ Visual Recognition , que apresenta os classifier_ids *default* e *explicit* não está mais disponivel para criação de novas instâncias\n",
        "\n",
        "![image.png](data:image/png;base64,iVBORw0KGgoAAAANSUhEUgAAAskAAAB2CAYAAAA6Ng5kAAAgAElEQVR4Ae29749Vx5U2mr9g8n7a0tZRchAHY5gO2NCxO7dtMBfbwcMPuy+Ezuu0Adsty215wAEs4TdHVlDHMEMCoTVDAna7J9wWkIlasRnf0GZaSUzG7ck4jAcm2IN4nbQzOJ5wxZHsozvyh/7yXK2qWrWrau99zu5fmIb1oXX61Nm7fqz1rFVPVa2q+hzqdcifyEAwIBgQDAgGBAOCAcGAYEAwkGDgcyKMRBgiC5GFYEAwIBgQDAgGBAOCAcEAYUBIssyky0qCYEAwIBgQDAgGBAOCAcFAgAEhyYFAZPQoo0fBgGBAMCAYEAwIBgQDggEhyUKSZeQoGBAMCAYEA4IBwYBgQDAQYEBIciAQGTnKyFEwIBgQDAgGBAOCAcGAYEBIspBkGTkKBgQDggHBgGBAMCAYEAwEGBCSHAhERo4ychQMCAYEA4IBwYBgQDAgGBCSLCRZRo6CAcGAYEAwIBgQDAgGBAMBBoQkBwKRkaOMHAUDggHBgGBAMCAYEAwIBoQkC0mWkaNgQDAgGBAMCAYEA4IBwUCAASHJgUBk5CgjR8GAYEAwIBgQDAgGBAOCASHJQpJl5CgYEAwIBgQDggHBgGBAMBBgQEhyIBAZOcrIUTAgGBAMCAYEA4IBwYBgQEiykGQZOQoGBAOCAcGAYEAwIBgQDAQYEJIcCERGjjJyFAwIBgQDggHBgGBAMCAYEJIsJFlGjoIBwYBgQDAgGBAMCAYEAwEGhCQHApGRo4wcBQOCAcGAYEAwIBgQDAgGhCQLSZaRo2BAMCAYEAwIBgQDggHBQIABIcmBQGTkKCNHwYBgQDAgGBAMCAYEA4KBa0qSP758GWdOnQJ9CvgEfIIBwYBgQDAgGBAMCAYEA9crBmaUJH9w4QL6/vqvcfuiRfjc5z6X+qN0+p2eu/YCehu9rRGiKO+vE0M36Szzu9VWRK1VvDtt7R9El5HzHdW3J6xrVZ+oFb1vG0fydhV3ZOqthMqSldg6cB7jbt0HO62eHzyUP0DT5RAe8nRvMLNgG95y81f/J3hauG0k3caRbVgYRSjc/tol/Lz6ALaf+GydZyIT3066Brm9q/HyZa7jZRxdFyNydZWS0xt4riVCVO7GSOo3zqcOvLEDi5S8/l7b6bTi0SmnUR3Mb1oGeZjQeeXJSfmX0ly0ruzB4NkraVwUKP/a+8bm8tHtdWwyhVeDj2uot1SdplW22odZ+zU+pWuwuaw+M/2ldFLHzMpoarLQdWtsZ1myHOr0fVNWn2711hQTk8Ptp2dfRPfGF5I+85rjw/SxnYPT72MycJSlhxs1bUZIMpHeR7u6PFJ825e+hHvuvtv+0XeXONPz15Yscyff2MCuayfY1OAn7rSsw5nWzm1mSPKctg489sgjyd+GlbitTCQtxr37nIGXQ5Kj1YfwcabcXDzkO+q3ti1AFLVh7zuBbC/uw71RjDiOMgcYf9y3AlG0ADtHgvcy61IHzEDgusGfqo8rF5LXEtyzrIKOI2bgURtEV6WMOQ1Jch2/2dGCKCrjiaFarkMf6S4jipZh/4XJdVrT6bCLdN76mQX4+nf6cazf/etD76bluJVwEa9A34WC+s/DxXWSniJbKbxee72l6jStspqFJDmlkxuZJLfgq25fEPz/reMXc32N7ysmh1vVb7p95o1EkjNw5MvsxvBpeW2adpL86vHj+B+f/7wiwOUvfAE/+uEPc8kvkWL6nZ4jwkzvvXHqVEEwT1UxxhgyZyRd4uzMlkyr051q/Wfm/dlEkjNnB8YG0FmOELXtxiXWl3FYd7S2IorcmU9HhsoRtGARzXLmziTXgZPdmBNFCGekPz60GlG0Aru2Exlegb6LTt71Go6vLzB7yvWlz+vNMan6hCS5Fc/veRTz1h1RA4/xwU6UOjvR2YQk48Ie3BNFmPPokD/jz+2vDeGJcoTY5JvnvK5VenGSnO8rrg6sV7jJXGXgds/mz+sNr9Muy4AkT3v+rr+Ypv9nmU6K2FmWzes+y/VN0yS/Ceg4RZIn8G5Wm66rtFmGo+mW3bSSZCK8PDt88K/+akJk99vPPWffpXymu6Hp/BySnLFEYclixhK5+xst7YRkzf5OI0t3FjN81oCP8ugaTGZbPZIWvJ8XBmHLZNLvjmqNwWon5A4A3Lq75TvPuLKZVF3IeSV5W1k5eTWbLU3NEBm52bw8h2T0umQXznG6KaurqsM0QoJL2FCzm61V9KqluwYOtzaATiJ43ScdjNYw1BnrGWRTN7+Mk+gh0tc5qEjh+PkBbF25BJWSkXNcxvz2zTh+3sysOrLRS4dcnzGcqa5F69ySDh+hZfy1Vfz8kjsjW8NHr+3Bw+1zUVJYKKHSvhH7h8ec+nKHP6zy07PvEUpz29EdhqqwDFW7uB7UCZGcW9E7OoQnKutw9DLJoISuwQF0NSPJ9ct4eTXNrHZiqJbu0Ihsx1GMrkFql9Gni+exYfSuTeRXmrsEHdXX8JHNi9sXhvak05vqos6zb27b03VOYZTlxp8GN5FrT2oZc61Z/YgQlxfh/p4BvG/bYcoZG8b+je0WL6Snh/cM4yrnXS+ic8prDGf2bMRX1GpLhFLLWvQOD+twFq6Xwl6rTl+7CGWaAY8IQw4+rUzMoCATrxl6K1RP1tEEsGnkkNJBU5yk9aj7CW1nvCpVvrMHp8a4XgZT7FNsuEUR26zj6nAz27yCiy/24P5FZcRkv3EZt63sSXwDtbWIjjJ1wljmwZzRUecA3h/YjLuNXyEcdlRdfAVtt7jLSC+IabK7bvZRpRZ07BvFOQrzazRBYcv19ab7vsb2qfRaO4meCk1WdGLIhojVMX6yG/OiCPO6TuDjCfsbI0Pud7mPD/FRRGemfdontWj/HZfxlc2kHwoZZL357deY1bpI/Avrppkd1bTub0nwRn2RDQ3LwRH7krv5vYj6D/LDWbhpVoc6UDuP4z28EpzjC6+cxeDmRn6wDkza5rNkqtOmjSTTDDIR5M//2Z9NejaYZpHpfcpn5meUHXBzB+EZofO77aCdNMcoFJFx8kgR1rxnHZKsyZAhTSavLFLrkyZSYoM6OQ4nPy8mysbIcuqa/77rnBrVRbfNElvH+KaNJNc+xG9f7MSiKEb7bocgWYd1AfuXRUiHXOg4Wapbc4d7EX0rwpAKTYL1LOEIdi5ICLFyYC5xHjuEB+MI8fzl2LqXluVpOf4u5aSjSjdGiCC9+zqOfWeDimG+52l65nX8wRKTCpZtquJIfz+OVDtwO5GYlh34jcHu1cFOlVe8uAO9ff04trcHK+ZTCEoFXYNMlLWu51QqKHE97HMteO6NDIeRR5Lf1uS449CAIcuUdyNnrvP++Mg6RYRtqIa1PRPXXH4UpxRZNJgKbbByFx6v9mn5dSxWhGLRjjfMQIA7CAcDKv8gvYgurNxdnKflkyJotj3m2REdk54Mrt7G9+4uIYrnY0XPXhWicaBHh2XEbVWcY6JM5Iw6dvvcXmxdPl/JjjFeTOc1nKu2qfduXd6DA4S7jUtRiiuYRysv7L+UrZQxr1KCfq4fXC8XZ157M/Ea6q2OYvWcBDaNrL06sV9siJO0HlGvYaS7okK2bn1gB44YOZXb2tQ+iNB/se/SZRe0zdDm4jbsVfstWEcR5t1FOiIb34gv02A6bkPvqDuIbqKjTJ3kkORKBfNKS/Ew2VNfFQ8vpUF4nIRRmUkO23aL7cCe6gUxfWEf7iW/VVqKbvKByvfMR3sbhbI1tjNNCH29NffZyfMfn+jShLj7pF7FYuLMvpdxU9jfXMb5n/Tjm9SvLNiA7/b347W3LpuBDE1+mbIL2hXY3lkfxi/PqxAmG/lVrQtrx0ZnzXz8x4OdmBPFuH3VdoU30sUy5W9o4iOvL6rhrW0UMlfClzfqvujY3u1YvTgMdSxoy7VR9LbRu5yf8U124FIHLp9AN/VjLBf2X/RM56CZMDA+Z8I2n+AjC1/TQpIpbIJDLKZKbul9Dr2Y2Rhlh9BxB2GNXwtNOz4id9pwk+8OWC3ZS9I8kuzknaSbZz2SHDgH57fEORlD4NGq7cA1AfUN0iWlyXv2GXYGRIqtQ6gbkuin8dI/EfRGddEzHG65JEdHzu77Vm6OIwnkz4D1O78kFMEbWDjk/ivbf4lP3LxMWdT2D/YsS4dcqE1iWidFHK6ujxO2oQhQGT0nNW5UPK2zMU3HI+sQjLH9a1ApJVjhNuo4XSfd6D+lr/UDXojC1YNfRVy+C3vepNG4DlOIWnclJIvkcGUYz1AYiSXTBg/l9Tg+5jgIU2ai4/A3F6OkV11fFWZBHa0Kj6C8nXa4enD/zwupuHwID0YREsJr8MMYNXXsHHBnz8dw+Ksxynd926we6Pal2+GnF9WF1rfbdkcupk0pjNq2XkHtn17EFtWBtGDniK63HiS04JlhfzPf+Mg2NcjjwYPGRfKexssYXl5dQnnJs3izqM5NiEvSoVAbElJmO1djK3PWDzgz1SG5Sn9nH5HCK+utaD151Wki2MzSQSGcpPXIoUApOe2iWU7H/zk+xfq4RrZZNxtWW7bhLR4AUb1poFYqo/XZ0+CyQ9mPXzqoB9YcflRQR2mdhHpj39yK55mAU51obwGRWNt3+XbDPgsBeS6G6RpOPVr2Sb+SgwmTmzRJ1v1Odp/g+qPLeLWLCCfZ1BUzIHLtazL+xvSbjHVqj4eP5HuoW99v5MnGDJQb+lWto1BnURM7Uv2du+par2N8+CksLM3F40f/pCcdUn3RK/jmwrIip97+nstH0JGBm2Z14AmTBw/xJI72TUTES3M34O9+Z1Z649U47K2a1nH10GrEkZnYmazNk74a/E0LSd7yjW8oYjvREIu8inHoBeWb98zU09lBuM7AF5YGMBkfdZB5zyfp3CknZDjsWA2Q2dkapXrO1yjLLzupl01XBpmUnRgHPavLSTqs5H0lN2PA1qE4xm3r7qTZMgMHZtPNs/bd4Dl21lntLKJHXY7j6IzcGm3cu717KOnkXYdlyIIbDqGIyLI9+KDOg4RQb4H8RmhWMCHFqn5O6IAOF+BNek4oRgND1E6V30kGAokOzQxrvBhbDp7G7z90SaKpX068NMlYDw44f4PDoFNn3PhYMnkrmbtyIewZnZhOVcuU8nZ01aDNenOeM9iw9XRnsw3GGY/GEceLu3D49L/jE5dw2LJ0+9geE4zlpQf6VXhhWTGxcNsePB8MVq1dOQO3uHwntv74khngmBj1L65C1dvkR6sGT6t4ba2Dd7C3LRiw2jZOTOe5G0fDMBBjK/4gJOnkGY95Nsm/W+LIeptJbBqZeHUqhJO0HvXegkT3Fjtm8GYx5fqUegHbfGc32tnvhzo033N1VDfkifdTFNQR+91EJ4xltk9jWwFJSukuIMNWJl56UUzrlbb0al4delN0YztLyk50p/udRhv3nsWr7h6RyyewpUKrefPVrPIdu0adiYfJ+JviJLmxXekVySzZnNu1ZFIzyVETH68H4RWs2nEM73zgD9itrE1/6+LI/uZh2cjObo4v1s+82hXnht7pckbx/JII0ZJN+EHoL82Kq7LLSdp8dlsSfE2ZJNNsL8380ua7ZoVN5HfezDdzs8lGodSR2RFzIhiqq3a6TJKNwp2OL9UZmnwsWeQOwgIpKNMhySEAbR655ZEzCfKz5fjtUHI3jjVVZ8rfqactNyutYV2YYPr5aZ0nsrOdTKO6Br95nR/9ZuSWmVftEgbX08kIFWz9mZGD16GFIRfaad+zR5+GodvfzFGfwJY4wtJdo0DdhF9Yx0BLQ3o2VNdP5x9u2Pr0g//AO6/QUuN2PLYmibOyOMhwTOOj+7BGhU4QJmOUb2nHw9WX8C88ulbtzOjgSWaeDIw+UrjPS8/AU6Cjidi2fdYc83bvPt55bnRjBiz6OYNxi8cazu17QJ8WQXhU8dwb0fvSLyYVk0xlNNOFxl9jTOhn3NMteMnwC2h7/Ch+75F5x27zbEptPNU4y/NPSj4Fda472fU47tWD9GrqwljwcOLoPUjPs0mLX86X9VawnvkDtebY9OtUBCdO+wyedR7+wE3jUBMY63MCeTS1zRNdKiQokc9Eyua+yJDboGxdv9DGEz/plunLKLQtrlOYrmVv225t300vimn9TugPqQ16kNDYzmxbbR2435nYezrMgIjXTpz1bCJsezEcqX6DsU51C3UUfuf6u+lmwKr7FdaF+VTP8eAm+E3lFdpH+J3fCdLHhrBVhdfomXiKK76/Zy9Ou8dVZvRFSg+1D/Ff/3oar1Low5Mbkjh6K4egLG6zGVwVngjg5/N8ZRQh7jqhV8aa9g0sh+KfUybJNHtMJHm6N9txvtM1O502LseouYOwSiQBOr8rpRuFN1AUd2ZZRFOX7+RJZV4rkuyUQyRZO02nLhbU7HB8omvbk9t27aDsc05+ut2J7NKOtjlYfceeOP/cvMyslf3ddUR2ttJ0hCM0K0xHjel66DY0c7hm4xkRY0OIE6JH+TjEWc0gxdjC5x17TomI7kK0rtyAXZ0UBsK6SdrodnBallfwn6dfQu+mlckGPo5XVO2cRSS5HpBihVM3FtKxwxBTV97Dmy9V8bizATKJ5dV4s/q3dh2kF9SFxl9jTKQwqspMwhn85Xtje2GbbD3ZJozdZPon80xBnetZupuJJBv5NMQJyzn51HrMIsl6sGsxFfiUYrbp2HdK10yEs8rm32YBSS6I6SySrGfxG9uZlnOiL/pezGe773BMLRFDN9SCnsmxzSY4UnVw2x7iI/zO+nfTTV9yTUmy8VOf/PoVHNi+BslGPGcPS4okBwOH0lz8+cJ2PPRkNx5c4HKHPP/lpufIm+WjPt3nXT3m/N9EV1kYapQ2ZZLM5x1P94wvz1DThSONGjD53xySmNEJaWepR1ea/DZ+3q2HJYth2IEzIlLO1iGvIRlKym/kNJw6uQbKhs7tMobIsdW6rtnv2ro7+RWrCzsrkllQZ6edtpPxjCAH7OYZXb4zijb55ebVhCTr2D9NxhR5cGYuizpcNesRd+FVVZZTN7fO5W4MqaPhuOPjZdNWPPPT9/CpIwPdQTidaMoxZcmohk9+vlNtKFIbwpouaS/B86OUT57TyUvPKnt60nQYiB6kqKW/2GwYsbIxOHXw6Nqa+r/2If55J8WMcgiMbkeySc7U1VvyLq4Ljb8A07Z+Ou8URu3vYxjq1BvB2qu8rGsGWbx8bp8NZZofbnFpd5uO1/u/s48kJLlo2Wqd5y7lh/Gnbqft1itIT7U3hddAb9cAm6k6ufWn/1M4CeVdx+TCLdL5ULy3Z5se9tznScclVDb8EOdzz1JnrJpBTqALaw9hekonAdnmfiJlW4HujL9obE9FMT1T4RaN7dPKiGJuVdx/hEVP7TV7Ndw48bDtrq7M/xk4mhaSXM8Pt2iK7ZRPz/PleelJOz997wf6GNUV+/BHspsQR3yE5+rv4bde2J/RrcVTXll+em64xYkulMpL8K3TJt/MS7ySers6tv9n6Mr+FvqHnO9TJsk0i0xEeaIFF3meCXiRZyf+jDGG3NlRQ5Cd+EoNVEp3SJEBkDsLaIkm5c1E1Y54nfcz3rXtcH5LyKBTZ5NvUqc0wVKhFfSccZ5uHd20ZuEWbCT0fqO6eHnadjt1dt/PqlMOSFMOwsgmqYtrKGM4rsItmDBlLH2ZGcx43RN4YkEEdxa4KEnWMlmC9Q8tQZRlvCM0Q92GVfeVEbGz4U4pjAGsXcLh1bS7N61DO3j601E8fksZ88KzhccO4i/4SLpmm6MqPfilkrHvpCzmUo7WlesM/W/iyO7ZM6BOBUmfnex3Wv99dBPmlyupi0hoA2NCkk1n4wx+1CY1b/OVybeALjT+GnfCKYy6WOYd6/YUgzr0ZpUIfjxkHeOju3BHVMJttJGLjyYMZ7tqo3iebgulzqiozjM37vHGF8dPhUSL2xGkp9prbNLilbHOHWbReuZiMA+zCS7dOhXDSfKutYGLB7AqjuBvsEpWBKzPceVRxDZzNu5pfRu/yuQj2DRpN+7dd0CTFrds1g99hukpnUyWJBexp+KY/mWPPqnB2yzINhJOsLjty/m/sM+m92sj2EmbmM1pFnz826JtIyYueTL+xkwQMdazdBHqhtvipZvBEK8M8jNcZ5d38G/2M7SP8Dtj3U1/E3uWz0XJ85Mko2E8QzPC3G+FODJ1DuOrPx1+St2SmvAJtywunz799OyNe6YfN3t9dOx0GZ0D7ua+OtT583EZG374O0za5q0M3Tom/0+JJH98+bIKtaCb9KyTMQX+/Y9+hCN9fYX/6PkwD8qXSHiYPj3fffKmCGUGYbZOUbXLKDfjuQQY7owqE+3gkwmkAZ9HjhyFeWTbK9Mh6dwZeb9zefxcg3rTe45x646G3086z6nXRedp5WkMLa/tro7dzk+lG7mlNu49siY563PFPrURTz3vOSINfj3LRnXyL/4o7nBNx8EE1dGbrjv9rm/gs21OHS+ljz+6v6WEuFTyYxbVDX4R5qzYhiPqCDjelV3Cl9fwcT3m2B2HfE3kmC13AKfr7DsvnZY4i5n5bjY20ukYmTcS+p0WHQVEm27oKKCHtpuj07avUkfhxW27zbWwyTFet3fQEUUmPrjShvYFPNBLntFHfeXrQuNvCiS5bpw5xc5xHe2xRzG4fFruVMd9VToxxKeOMHmIF+Nr6si7vehWMYQVbDmhbzospvMa3tpxu3MEXD8ObKYj4GJ9Hi/7pAxbUXoP0lM2mcJroDeSwQSOJ5wMNr06FcJJFraZEMfJEXgkJ+NfrS178pisbW42+u7Cq+rcXi67yBFwzoCafY9XpzqQ0slkSXJiK/n2ROSKj/IqiGk+zqtvh7PXwrEz0x4rc25n8Kl9dqONe4/gsWeP4491DrNIbAf1yxjqpD0sHHYR4LYgjvQm5BZ07W10BFwBnY0dQQcd+RfIJo5pEoX78yzchr47/M7v+Onv7uZjITfpI0P7qnj8LhrEODIKcRQe4af8650oxyWUqO6WT/hlJf1HkG5xU8EydRxmH557wD/m0h6NR8fEbSa/n9xkasPsCuoqqQfLpPHnlEgyH9eWRZIXzJ+vCC6R3CJ/9HxYeSbJUz1WLsxXf29Gkh1jzTTKNJHkciyhJLA4RJgIoWfwzm/JDEygMOMoEhKfXS9bpiXLwXNOWbYeNm/X+AyAOR8L+GSmYmJ1obyTPG37bdkZjiOQt9f50W9BW5L6mM1se9yLJZJ6ezI2szZ2tGzKLE6SDbmzl14EeuNb9kLiR4emeweiL0HHjmO4+G90rbV79NkYTvWQ4yGcmWuwa5dwcrsTi2wuebAHv6s2ZF0ssRmHf+WOwAMnZeWdlx62bXq/jw89qm6jS46oc/MPOi1aLr30Y+xyYpGj0lzcvflFXLzivOfJmS/DGFUXZ1gMes+Yw/AzdDEdJJkO39crHM6V6cEB+tSO9OUw+oD85DKRGOVFdAmIq88iOifZuJdk8GUiB9FFtj5VklwP8ZrWG83mpy+6mT5shn6iEE4s9h3s1OlCj+RyDX3JTq+6RMhix/gv61MK2WZwmQhdFLK2ijM8IFJ1ybhMZO0O/ANfNETPhGVzG1LpoU4mS5KJALt+K8eeqB4FMT1+6TX08mU1Rg6HnwouEzHtsTLndgaf6b7P6Zudfuy8WqUJVwnMMXzkZ9XRmWncFsERbdzsaNGXPKlNZKEuwu/chox076IVc5nIP6hVMLefdvFK/4e+O/zOz4fpV3D2+xudWGTjX17jk3jovTSOrg5X0eFceEMXkBz+xSWc6qbj/ThkLiwrrw5p3GRebBVcqhSXb0n5/SK6Yp5W9HNKJHl2zySzwqb/0xqtSzDZKOQzNRgqClZ5bvqxKjK9yWXaaEe9+CrxVYKB6wID+afT3OT+6xrgc0okmTpYmiWeqc11MxuTPHPgEpI8c7IVUieyFQxMAgN09W75Fjx5wj9fW8X05a6GTKKca9Bpif5FLzcmBuhUpBIq975gwsaMnt09CGJf13zQMmWSzER2pk63mKlNgTNpZEKSxYnPJL4kb8HXhDHA1+9yrGN/ct20jemTDviad8AT1qPo6IbW0Qf7Vnj7BpJrwp0j2QQD1xQDUybJfJ7xdJ+TTPnRLPXMnZM8cx2tkOSZk610KiJbwcDkMKDjQJegQptraBNheRHu7wliuaUDvqYdsGB5cli+ceVm4uFvKesNtWrfyUbs92KERWbXUv9TJsl8nvGcL35xWp3LzN+4J0C7lkCTsgRvggHBgGBAMCAYEAzMJgxMmSRTY7d84xvTOuv77eeeU/lRvrNJmFJXMX7BgGBAMCAYEAwIBgQDNwYGpoUk02zy5//szxSxnepxbXysHOU33XHOAtobA7SiR9GjYEAwIBgQDAgGBAMzjYFpIclUyVePH1ck+X98/vOYLFGm9+h9ikWebB4zLTDJX4xSMCAYEAwIBgQDggHBwI2PgWkjyQQW3mxHJHf3//pfEwqV4BALene6NwEKkG98IIuORceCAcGAYEAwIBgQDEwnBqaVJFPFaEaZQy9oM9/Rw4dzwyYonIJ+p+eIHNN7MoMsAJ9OgEtegifBgGBAMCAYEAwIBiaDgWknyVQJIr+8mY/IL/3RhSMr7r7b/tF3/o0+6XmJQRYQTwbE8o7gRjAgGBAMCAYEA4KB6cbAjJBkriSRXjrnmC8ccUkx/U/p9LuQYwE2Y0Y+BQuCAcGAYEAwIBgQDFwPGJhRkpzVQAmnEOBn4ULSBBeCAcGAYEAwIBgQDFxPGLjmJPl6arzURYxRMCAYEAwIBgQDggHBgGAgCwNCkuUa1gmdQpIFIkkT5yIYEAwIBgQDggHBwI2GASHJQpKniSTrO+cffuHtacrvbfS2Rog6B6cpv+bOa/zSa+h94C/xqsWEqUNrFe+qtEF0RRHuqBZv4/hoFe1xK3rfbl7+UGeEKMr4K81F68oeHP7V2DWTxbQ7usFO1bauweZymMUKwB8AACAASURBVPay6xqbd99SRqzkW0KlfTMGz14J5DmGM9W1uK0cq7qW5rbj4e+fwacWD7ruCidrl6BS0rqKy4vQUX0NH9Xy2jaGoc7KpLH8brUVUVQMQ0Vk9+nZF9G98QWD6bw6Xx/pV4d6cPfckraL+P/C8T+F9TI2mmU3Jm0i9gqD0wm9E+CjiA6uz2dq+Oi1KjqWzEVJyS5GedFa9L52CeNBG68OV9GxyNhTaS7u3vh9nL0S6ObKWQxubsd8Y08RPbf5RVwMn3PyvjrYiXlRJ4actOtTVkFbP6v6hnitXcLPqw9g+4nrpH5N5JLuc6+/egtJbqJEMdCioJ04gWws22tPkjUZcR301Ejyp2f2YFWFiFQxgqNJchn/R8cjeOyR5O+h9ltQjimfCjoOnU91WI3lWFR/M/zcZ0aSazhXbUMcxbh1eQ8O9Pfj2N4eLCO9xG3oHa0ZolzDSHcFUVTClzdWcaR/L7Yun6/ea9/tDIrGBtFF75aW4uFqH47196G3Y7Ei3/M6B3E19Ce1SzjZrX+f7IBvukmywpkd+M2w3kN5TOj7KJ5fEiGq3Ifn+vpxrP91/CH1/kW8+mxiK4nd/E+svFXbzJYTl4PBUIM2h6QjVV6Dd2f5s5qgRigt3YhekndfFV9bTAPGCroGkwH6+MluzIuS5w70LMetcYS4bXcy8KqNorctRhTPx4qevTjW348DPXep9+K2Ks6lBpQ1fPTjbtyu/Jzrg29ceU+L3w7x+nYVd0QRPpvJiInrKt3nTjyPaZFjA9sVktxAODMt/Bsr/xuRJIcGW7CNV97D69UHVMehZ4YnQpKznx2/NKDJWdyGvQVmpa87bH1WJPnyEXTEEeasH/AJ7NghPEgd+7oj+Jh8wIU9uCeKsGjbiDMIGcPx9WVE8Tocvayx8JsdLWrQ87wl15Rew1vbKL0Fz73BmKnhk1+/iO6lZhaUZuYmuSpy85JkbW+Tkdv46C7cEcVor446+mTdNPgMScdN0z+8gedaIkStu3wCWxvBTkpv2YHfKFlcwP5l9H0b3nKI7tWB9ZgTxeg4ogckHx9Zhzgqo3MgIdfkk64eWq0GnvwcpY1/+GsMbl5qZq9pYCMkubD/Nnh98JAZCApJLj4gLmjbNzdJrp3H8Z6VaOXlvChG+ZZ2dA84s3UKhK14fmA3VtKyUVxG67OntSLMchIvu6rl2T3DfmecpYixYfQ6y7WluUuC5do8Mhakm7r1DlN+LdrJpJa0eEZ2AO8PbMZX1NJX3jIaLUv34H5eRovLuG1lD46f59m2OvRyZCCP7sfU6DUJFXCIXiEZ1VTdeFm11LIWfaOjzcMtuP0haQzSebR6/PwAutvNUiK1bW0VZ8Z0h5kKdVCEZnIzybo8mmnpwamDFGbgyCMLDyZN1yH/2fGhRzEnijCn+6TjCMwSaSOdUf4G6xxKQCEC9/cM4H2no0NTXWVhKQLpq3d4DLhyBvvXLtKz3nEZX9ns5K90EqHrYCOsGvJSuB4HMbRZ4740dwP+7ncZ5OeVpzG/FKFzwMGwkvcYDn+VSIEOpfnjvhXZejrZrTr/rkF6/7f421VlxEt24Vyox+GnMN+bwTEEL56PNfsG8PwUQoeYJD//9wPovlMvcadDPFg3YXiSm27+d0ITGoUVjJ8fwNaVSVgJ+b757Zt9f1DXISrWh1Jo0Noqfn4plHeomya+xuAl8SkTCHNiYhcSvlBnWd9Nua5cisihiI9B3dWFK4+M9Mn2TVu+gUU5IWFvbVuAKO7EkGvzLIPf7sfqcoylu0Yd36LreOapWxLienEf7s3M/yR6yhHizkE1KDn99C0oRetxPCxr7CD+Inhf+70Ytz6wD8d3UWjRJEiyGQxz+S7J/PjQas+2aYl//8Z2Gy6V7rcz9KHklJfu6pL+p/6scT/aHFNclu63uW/Udu9wjNFdWBotwM4R7ptpkMF/jeV4dXgPHub+MKIQtI3YT35ctdVwjV0D2HsP+ZwY5SXP4k36TYV0JGFpmX0JDYhU/rwKSqtv2jc07nO1/FTYT7M+jbE7w583MUkew8ur/eWgI9VNehk2qqDnpHHyymnGiOMKVu3ow7G929H3jzXg8gl0z4/9ZdeNejScuexqFWnAX7kLjwfLtYt2vOEDNBX7mkWSy5hXiVFaulktJSdLWrz0xeVVMI86bGqDs4yWLEXysnSEeXfpZekj1Y34MsVdusvSWfJ45Vd4rf9pNRO3cMN3cKz/JzhPM28FZfTBvhVquTppw3LcOr8N7QuazL6pumSQyiBdd2AVzKvwUnofeo2ueCbxD6/347sbFiCKluGbtCT/+ruwnZpdmg7kb3XqO8l3X1ibDHqCurjOO/y/GUlGfQQ7SSYOSXv3hbtRCkIJVhAuXZ3x0qcNJUjaP6/rhJ5JLaQrB0scbsChC+UVWNVWwq0P7MARJwTBYlrJIUIcN8JqUcyYelBei7twgMr71lF8kKOPUM7qe20IT5QjRCv24Y90U2gXLStndCqXD+HBKMokD26+H+xZhigqo+ckY+EEnryT455Nfac0k0w+iIiEL1+rv0IE7DLO/6Qf36SZwAUb8N3+frz2Vk4oAs+0z1+OrXsp1KEPvZv0cnlU6caIIT9sW8s2UYhKP45UO/SSuZ15ZHm4nwV8zbuv45jxKdGyp9VyfW5dA71znawPD3539Zb63+DUkuQJyqGRj7H+JIWDEB9T6Zve0pML1mex3LXvmPPo0MRm1utm5rjcjRGS44ku5avTy/mX8fJq3zelZEuzxmagf+++i5aMv/r4neh+8ayK/efBxsRjkmsY6iS/Fw4CTL2W7dH+gcOl4sX4mup/OawqQtJvh/pgGeal8+/0mWCbw1ZsP1rpwqvULxbClCmrUsE89rV9VTysVqaSGXvUBtAZrUDfxTpANvOdDVgYRbjn6bzwJF1XDq2J2b739oD7Db1Sqfs68jnz7iOfsxe7/vofMV5/G9+7uxSE0XC4TRJGMz6yTQ3WWAbH6P1VOuwsXrFP6SK7z62jUJ82EZue4rM3L0n+7X48NLeU3oT1xg5/JG6c5sKnhj3nopZd49U4HMyY6OUkd9nVNaA6YJZD/JktmtWKUb7r22aGKo+MBelMPIIYL39JyxhbEFcGnm3hzswsN4fL0uOXDvrL0jnyQD2oW72OQjIyZCWMU9PLd9NJkiPcsctdejVO1SFGaQdtZGc7nHQbszoCL03JK4PIZxhuc5J8EX0rnOVIM3uy6Klhf3OZ0S0PAPTSZ4wHD/EsgXbmFCLAM7CFdMVELGqFG26gZ2rCkAZD6Nt24xK1lbG6+pC30sJY1TO1BTFj6/FVHDYrAZ7MM2Tr/84dWdLZKNk7g4/kea3zhkv+3PGyLaXKL9K5Bn7CyUPjMgwF4RAPxlZeGel01VaL6exyx/avQaXEeSfPcLiJ3ohq8l4/4PnGqwe/irh8F/a8mbyXyDMJbWnqa4xPaSh7R06qDJ5RDHDmlR++4343OGWSXEwOdbCOGvuYtC50vYL0KfZNesAW6G5kGxZGZTwx1GyG39cZkyl/sLsEz4/6z1E7tP/KGGiyfHmw7oQvhXpJ++B0OeE7/F0T8BjsS1S6GeTes+eCIrCnHi1nhEtdwZmn3HCpQB9cf/Y7qUGOU8cc/CnSWJqLr//wdyiGKVOHwNeiNoguitvOq0OhcAsTWhOEzCjyXuKVcuP3FjyFM85qgO5LWvDMsL/pWZPixJ+efnohypVODJkwNa2jyzi6zp+MSOm7YJ/GOr8WnzcvSbbAdwCu0jQ4Fm4b0SNd4zT9kbPZULJkE35As47unxnJsZNNKZGNaHEXDp/+d3ziADB5No+MBemqboFToDYYQ4q7TmTMhibt1QBtw9536tDLzWbZxpNNDdqxrMbLBPhMeVCeQd3qBWU0Qs47go2psmUbkpXnDOg5VZegM8hI1+1MO3adnryfMlh2ipZQhG1MZJnoLkjLq6NtZ/J8c5Lsd0TjA+sRRV/E6mcDDPab2UIzAFCzpKkZlqRcFNUVyyMkkwYT/sCvhuPrk3AGrauMTlrNhETQWC2IGa6H1Yvblmb/1/D+oXVqA1Eyc/Rf+NE6p66ebrTOczulsWHsVBuU3E2AYR3yOt3wuezvGpfLsP9C8Ltaao3QvvudxM5T9pIuuwhJboxn9hOm04sXY8vB0/j9h8UIWGFfMwmSrAmisxLo6TKQX9ZvBsu5/pvfUc+xHJgkN/MxaV1oOeelh/XVWGzcNyWDELcNI91lROVHcSqzvwnL0d+vDm9Du9qQl8wQ/n+H13mhCy5OGpLk2nm8vI42xvqbAN336f+0D86uW/ie+s4TLibkg9I01th2dEhItPqQXj1jXdKnmSTSss3TR166U0c1057RJ7tl5f3vYcqUFfraZr6vCEl+Zzfag5CXtDyz/J7x6V9charLedT/eiU510+aNmv9Gi6Roe+ifVq6vo4O8uQ7yXQhyVc+wIf/9ArUcsAja5LjhrizMU7TJ8kGQDb2h2OAkk/d6WcproZz+5xNXSrObyN6X/qFc4SUzt91choUQbqqW0LyEuAYA1MkooFhO20LwZvkxY7LlOO84z6TJskFZaTySzqbJE8za8p6yAJ4XvuDdN22tJzCdP3dnQlx5Ui6DOSfVacwLahL0r40NpqT5Hewty2ZSdb1TTCXxKJxGg2AzDsNCWVBXeU5aNXG9I5qj4zlysHIWIU9TLEeoexT36/gbJXCUyLMW3fIi8dWdU11SInOs5w/babcYkJbdtpYvrRe85fZs55Np6Vxyc9oeekY9Tw7T6d7eknJiPPWn59+8B945xU6EWQ7HluTxHGyPxwf3Yc1JAPlC/WejoerL+FfghU2F/e6PUlHmf6NbdXgoZEP8OrPM2S8ycxvi1tO7v8Gy6HvbSYH3Saud1Kun57Wha5HTvqk+iYq24RIWJvX5NDfy5DUMS2LGj4a6DInVmyz+zbUc0o+6cEA/ab9l+s/TRlXzqCXlugLnM6Tj/VG9eXfzISOnRAwfYgJqWL/bQcZHnZcrOXog/1fAzxe2t2WO4gI5dwYU6YOVofcxrx083sRkpwbMsNl0KcrD043ZTfgPRGvHCrZ1vDJ//5XvHmcwrCexNdXmv0qzh6dUN/6O/dfWZ96Ui+U5Ux+v4lJ8hhO9SQ7auPyLfjzJSvx9e2dKrbWdoqZBCALQAykgp9X3sObL1XxuLMxJgk50PmHjpqBa9ObEQ8F2DyD55nYGFtOMBEu0HFlyiMxKlu3TCPLkI3KL4skm1iyBg5pYjPJzTowloHr5EOHlKeXjHaxA87VUfod3cmk65k4ADMTYhyn3wGn89PvhW3Ieq4onnPyysGER8Zy5WDyVLM7U6wHyzzrs3YJx7v0kW63dw95IR8kp4nGJH96porlFK9fuQ993kkXWfI1bWyE5aw6m7SwI0nwoOU10dkvTy955Y4NYas9mYPI70K0rtyAXZ0Uex0OiK7gP0+/hN5NziZoNyY+KEO3p4CvKepDOP8wVI7TJ/JpsGz9WEE55Nmin56HgzB9Kn2Txp83g6o2n7rx8lkY5TRnIHnfPv+kC5JjLsHKjklOBpKL0TPkhntxef5nPtb95xIbCNJNW1VYidlkmMQ/u/YSvOdhLdQHP5uXzr9zH9LIh1NMchHbMmXNBEnO8de+TLN8cV6dkvZzHv7guYTKwoW4e82T6FlN+34S+YT69u0lnS/nfy0/b1qSzBsI7njqp/hP93BzE8PUmCSbUIAF2/DWRBxw3rO1D/HPO2lXLzsyDdDUyD9cJlFg53ccQJlwC2+GyY6mk+c0IHXQf/MlULNTOdfAdJ1t58KbzJrJaGSq4Rbp9oej+TzDC9P19+uXJDNmOT6QY4HToSqJjsmZ5IZbnOhCqbwE3zpdFM85TjIHEx4Zy8UqbTzhEzumWI9c+xpF3316qXfVPjcuPZGTxn/ivK0TVp2ufzrG1SF9nmu8uBunCsVEN+9cbXkZbXDt1HvOhFtoEmDKSNn5CWwJYhg9vWSUR5uPOHbzmZ++58W7M+Z4Jtmrj8qrhk9+vlOddpPyX6aswr7GIy6JrtJl6t9Cu897jtP/nydvQZk2IboyMFjWNlVcDqEv4TL89GI6YjufXN9k5OTE4qpQi2Z+WMlgDKfUmd4xsgaSqk1NTreInPh0IkrqnPhCA0ld77QPbq53lrX+1D6ENijShvAocgdjzcMt9OkexfTkl2vqmRtucQJbVLzvzwralqnDTJDkkEdY/NOqYwmVDT/E/5tpe2Yg5Mk0Sz+82XM1/ubXH3r7FdQJKw1IMvuXZn1apuxtO7LqNPm0m5Yka2MMl41q+OggnePoBMbnEAC9gSXjHEg6LzIuY8MPf2d377oK/e+jmzC/XEltoKDNLglJNsbMO3KV8ms4p47HcY5CMnXzN8DU8L/30GkRHP9pjC3cAHBlCE/QpQhcRrONe/cdUKcAFI9JNpuwss7K9GT0M2ylegTHNfGGETtYyTIAQ2D0pgxjBLVRfdxWyhDTBMjvwHgW4Pokyck5ySvQx7GpJr49lB2MDEqL9JE92Rv3+AxgvRu8GJ5zHHeOjXhkLAer+qIPxmpRzOTUIwsjdXPbXZNYSI5JbHZOsr5BkS5OSOI0XfvO/t/Ud0ozyeHGU24Xx1uapeUg7jRrA6ynl0yZmfqG4Se1SzhMJwLxTPKfjuLxW8qYF56YYI75yiPJLGvfb9VhNwmzr8nsqPM6OxMvyacwZLbLf/fcriXqbOudIxxLzZsheeBdUA42trKZjymmo6n2TRqDJl58RSe6FkTggXU2PkkuyWbWxmdLFzsnGbyZlTZvFRpIat1MnSQbH1LuRNdq5xx0hYdk0ONuPEadN+5VsPVnVI9iesqUJe85CjaO8jnSXYPm9JFmtsWhHTNBkuscluSfda3PFmd+kTWTXIfuS0JfVId+t4Tb1PG45l1nwKRkdWUYz9CZ26m+2elzC/ZpmbIvYPOTee+mJcl8a1A8/wFzm9NebF3ZglJcQsmdeckhANYJ0LFam+lGIToiKX0USkopl09gi7mx66Ht5iai7avUsUnJjUV8+1eM2zvoaCVzZFdFH4tmZ2tN3SLnCLAD5lD2ZFOScfRE/O1RMjt0HKG3JMpOssgRcOFyKzkWQ+xbOnGAj4BjR9lERkyI+biYIzucmO1GxKJ2Ej0kSz7OxxyRM6+tDQtThtisA+NNHmXcu61vSkfAeTpXOkqX7T1jjFuRlyjrxj2+Jjbc9JLozOJ473Y8pJbJnWd5V3lUwTJ1+1UfnnsguE2ukK4MlkLHnWMjHhlTz9BxhSVz851zDJ17U91U6pHhJNnOo1vvwSPOLYb2ZrZnj+vBX/0yXu2i2Wa2OT4ayr2Q4gL6VhBJ/AK+vDbrlrdH8Le/1J29r18jtxSWc+QZtEMTB/cIw6y61dXMGQ3w+QhHdRNaqQ3twRnNamYxakHX3rwj4BL/o4+c07cU3t9SQlwqOUeAscxK+PKa7eY2w+1YTbe0Nbz0JsEt19Uek+X5pOyO2pcty9ts+kzNpPPvGZ9v71Yb06JSC+7f8Ai+Tv6f/KTd9V9UDjzATtt5OBDn4y653Vk6Ysxam6bbHyfSNxn8KEITx4i9S24y5EDPX9iHe6nf+8JSdGTZySP78Tbne6JL35y3uEPdzJfcuMcDR5ZbhAX3/E/v9lC2u28dT46Ac/WZR5JDObrvpP5XYTf6yET30hL1HPsX7jPszZruEXDFbSlVth1sJHbI/Znu31k2fJxjnm3l+Ya8dKNXM9M/Z8U2HMm8oVI/x31ubHR4bO9mfdwrH1OXN0C1fUlS/wPb15h3eUDEfpK5EcUkb1R3NJRKFJue2IleVXL73MQ3WPxn9WmBj0zrIQfnk3jvpiXJ+sDvzclGPXXQ9Q789Oy/6WO2+DinHAKgDW7YO5Sc4pqb3U1P741f+jF2ObHImXfa02Hym3mjDB30TYf46ws2QpLcdXAIW82h4LmXDLTuwvF9fAC4zm/wrH+MC42oU5eJrN2Bf0hdJpJFkmlD4lp8ieI0Ix3nXFxG/oUYug0H8UzQuWcZAh3Kbi8IURepDOD9UbqaMzHEPAebSqdYMXNZg96AEDqkMKSkgCFOmCSnNysoXK3ZjrS+qPzg4Ho6FH7JWvS+dslb5govE6ED9L1Lc8h5jDXDcygP0/4cG0mT5Fb0DidYVeRk+4+dDasmv8nWI8MBakKYlqnd5OgS/uCQfHXJwPfPJOEGpgOy72ZsYMkOQzBymxJJ7sTx0X3oMAfsx+U78bBbN9V2fbGHvjDGXBg0TDPOzsoY+R/Kp0XfBJi7wdjzPxHUhUc7juHiv+nLJOzMJF27vd2JRVaXEvD50I3so4CvyeuoM/TM+zUarjxlvHd1uGplSpel0AVD3kUoBeWQ8iWmrHR6ER35lyvpSxgm2DdR+Twrx31ZRvvZp2qy0sBOnKMyyed4lz2Q3934fZy1YYtmwiTDPth2bB8W1EnLy5lZzJVjI2yZmdKco+ayLhPpPvirYJ9CET3l1SHwydwv8ckihTCV42tzZ5i5LhTPfqe+0ClqvMnNu0wkuFyroT1R/XtWgi+m4ktCPLtRF6bxRj1zSdvBX+CjIX05kx28pPpcakcgv7w+LcAOY3m6P29iksygmsWfOeTEB0mesc3idl8j4/DlKPISecwABugIPJeoC7Yzw9QEe5PAntmbkkdIZ5dMKZwmmfhoXHfd52Xdvtf4vUnIWOz1hrdXIcmzGeRCkm94AxWnfiN3XHoPRGndkfS5rbPZL0ndrwu/pC/q4Zj12W1HKl69tA5HvcspstukL7ZI9jmID82Wk8ilmFyEJM9mhy4k+brojMTZFHM2IqdQThewf12RI+TC9+S7YCkfA2/vfwSPbdD7Y+Z0Dt4QA7AP9qxD3sk0jIU/Hn8Wjz1i4mNldUb6xmnidkKSp0mQbKjX9FNIsjiC2YxfqbvgVzAw7Rj45V/qTbnle3b4F4Hc4LL+4988oDZello68bK7j+YGb/c15Rw3oSyFJN+EShejyp+FEdmIbAQDggHBgGBAMCAYIAwISRaSPO0zGeJcxLkIBgQDggHBgGBAMDDbMSAkWUiykGTBgGBAMCAYEAwIBgQDgoEAA0KSA4HM9lGP1F9G7oIBwYBgQDAgGBAMCAamjgEhyUKSZeQoGBAMCAYEA4IBwYBgQDAQYEBIciAQGXlNfeQlMhQZCgYEA4IBwYBgQDAw2zEgJFlIsowcBQOCAcGAYEAwIBgQDAgGAgwISQ4EMttHPVJ/GbkLBgQDggHBgGBAMCAYmDoGhCQLSZaRo2BAMCAYEAwIBgQDggHBQIABIcmBQGTkNfWRl8hQZCgYEAwIBgQDggHBwGzHgJBkIckychQMCAYEA4IBwYBgQDAgGAgwcBOT5EF0RRGizsHpB0XtEn5efQDbT9yso8gL2L8sQhRFuGfPhemXbwDi1Eh1sFOV3TU4/fL/9OyL6N74At5tVofr8vcruPjiZjz8wttWJ+9WWxFFreh9e3pkVUg+M6ifFBZmXA9vo7c1QtRaLY6J67r92i/eUU0wcu1l6mNxfLSK9rggRo1syff4fyVUlqzE1oO/wtUZx4Rf/2mT32eKG+077r6ljFjJtoRK+2YMnr1ifYlu5xjOVNfitnKs5F+a246Hv38GnwYyH7/0GnrXLkGlpPUUlxeho/oaPqrlyW4MQ52Vmemv63X4ftDYtOUG4fesOs4gnwhk5+OpSN0y6quwVNCmnPKV3h74S7zqpPn1ySir4bPXn78J2yMk2RrCRJXb4Pm3q7gjijATJC1U4HX5/cIe3BOVMa8SI2rZgd80NJIGcpzsezPYmQx1TpAQTbYNM/Je2iH5ncPUdVFIPjOon2tvD0KSZ1Lmn57Zg1UVIlIFO3SDrTltHXjskUeSvzXtmG+I27x1h/B+Lhmbug3MmDw+M7up4Vy1DXEU49blPTjQ349je3uwjPQSt6F3tGaIcg0j3RVEUQlf3ljFkf692Lp8vnqvfbcz6BobRBe9W1qKh6t9ONbfh96OxYp8z+scTA9iapdwslv/PiOTWkKSg4FOvg3o/qITQ9PWP6X7pBmzn0nW+SYmyflAmLKSbnKS/JsdLYii1Tjw3XWIozKeGGInOoMyn6QBTFTXhUjgNarLROuOetohfSYk+bqVz+zH58QxEbY5jZGp5xmWUeD7lffwevUB3BrzjPDESHLmTHjtEo7TbGQUwyNtswWPnxVJvnwEHXGEOesHfAI7dggPxhHidUfwMclQTY5EWLRtBONWpmM4vr6MKF6Ho5e13nX/0IrnLbmm9Bre2kb9Rguee4PxUcMnv34R3UtLyarATExq2bpyueHsbPidn3M/td3MFInPt8EidXPraf5XWCpoU458hCQ7wshXSobAZ+V7Iai5cxhOLRd1D5x3jL6G9wc2wy47xWXMd5edjCNLlvp41DWGM3s2Ju9FEUpzl6CjOuw4nqJ1qAO18zjes9Iua9Fy1f09A/4MyZWzGNzcbpe01NLXHre8OjA27C176To1WvZqpv8R7FwQIVqxD380ztU6UYsTNuwBLcu52gnqJTeu32UcXRcjijsxFM76XD6EB6MImR0hlRF0JmzYx88PoLt9Lkq0XBiXcdvaKs6MOe1pKAtTZ2cZl8sfPz+ArSuTpUPKmzBx/HwyOChch3odV4f34GGuZ0TLmhuxf3jMGe3X8NFrVXQsMkuf1JaVPV55Kfs1A7cEl9pBMkl+/rUfY9fKlnzZ1JvhN18+qboE+gHlXV2LVoODqDQXrWur+PmlRH6pPOo+hr6iZgljlBetRe9rlxx7NTa1awB77yF5xSgveRZvEk7IPhrZ0MluzIkiPHjosiN7wksNQ50xovKjOFUz9XDCLQgP3e23oKwIXozyLe3ofvFssuScan+ButjZrk40xXG9DhX20hBD1A53aTxG+c4enKJZvka2ZWyYll33b2zkW3z93J1pm+xI5wAAF+pJREFU447tWd+g0zQuI5SW9uDUQQqfKtihG9mybaZwUxvCE+UIUbkbI7bMgvY0LT7Xl4vGbYRSy1r0ko1fOYP9axdp7MRlfGWz49MZNwfJZxtbLc3F3ZtfxMUrgSyb+n6ux0EMbdZ5leZuwN/9LsiHZPTK05hfitA5ENrjGA5/NVlZ++O+Fdl6UnYUo2uQ3v8t/nZVGfGSXThn5W/KHH4K870VWI3FKJ6PNfsG8DyFNTUjyV5Z3JaT6CGdx11+mIB6dgF2jkxnuMVB5cu+pMJIckJSVDhmEpKS2XeHslHfDfcwtkSY6Rsd1eFenlwK4FlhKbCpJvVSE0RO/+fqYqb9TcqOM+XD+p7ez5t4JtkYoAWX/j6nUkFp/nJs3auXlFbMp9iqZHT78WAn5kQxbl+1PVh2MiPld1/Hse9swEKKx326H8f6X8cf7CiZl6Eo7+1YvZjyjnHvPo7bLVYH1EbR20bvcn596N24VBGceV0n9Kj+8gl0U93dJS1+xi5pGUdZuQuPB8tei3a8ERCDYsAbH3pUEYt7911MyES0DPsvuO9zuRXM4/r1VfGwmjGI0XFEk5LxwU5FarRzTd7/+NBqRKk8k9+zSXIF8yppeSUEnuuUJ4vLOP+TfnyTYq0XbMB3+/vx2luXAZ5NYczQ0uGmuzCPnEmlGyOG4OtOv1kd6rg62KnejTm/vT1QGIzbsNfEDb/7wt0oBUuf/Eyy9OnIgxzK5bfwWv/TuCeKsHDDd3Cs/yc4f5k7hxhxzLLpx4HNGkuJbHiWJ3kmjd8c+WQ5M+7sTcw4y2bZJlqi7ceRagduJ4LZMFSH9VXBPOpEd/ThWF8VX1M2VcGWE0xstU3FcYx59+1QS8C7/vofMW5tqIJlPXv1kq+xj7itinNKb2bAt/qQtiluS20QXTSz1n0SYLLOJPnyILrKEeLFq7CLfAgtOd+lZy8Z1yE+E3tuVBfWVXMMfXxis5qBLS3diN6+fiUXbVsVdA3yYIuXxmPc+gDJRfuQclubChXLJZkkA14ujxfja8pv8LJ6hGS53NFPAxvP6/zefWFtEqOa1aGzLsJPg61G9X9r2wJE0RI8P6ptpJA9WbywDUzV5zq+j0MXyiuwqq2U6MOEIFhfbNpGWC4t3az6nwM92tfEbbuTmPiJ+H7Ka3EXDpD+v3UUH4TybPSdBxw0IVKv49Uu6pN4UsjxP2ZSY+mu0YZ9ygd7liGKyug5ye+ewJN3ctyzwZPtr/mZ4NOzTfObnSDQhJgxN9JdtoMlnizQezPCssLvQZlKRoZPxDHi0lJ0G/7AISnsu8lffO/uEoj4r1B+px8HepYre038Tlb+dXywb4UKSUl0vxy3zm9DO01KOXIphOeUTTWv1x9e78d3N5DtLMM3KeTm9XeVPmfc3zTC4DX4TUiyBZcBeXk9jruzi8bA2Omq0VQwCh4ffgoLS3Px+NE/aSeQCrd4Bd9cWFYdiFqWYsWamdYE4MXq8PERCmOI8eAh7vDIqDSR4dkAtaQVr8bhYDbu6qHViJn0m3r6MwQ0OxCjfNe30yN9rnfup5lhi1bjZbO0poluuIHPOJ0oWHIzDs7KwzjhuHPQmRm8jJdXR4iW7cl36KYz4ZhwnpW6Y9eokw/X1Tj1grIIwy3G9q9BpRSMyOt18JIib4grVIf6G3iuhcjhNrzlzp4TES+V0frsacBgZtFTw8nMJOmjNoKdLc7SZ6aONL4Yy9RZcL38JVIzix+tx3FVj6L4rSOUD3dI3qenH4OF9QOObuq4evCriMt3Yc+b2R2GJaeRS/wSOSQE29jUgqdwxpEpd8idA74NfXSQ7CMZqHHoEOOZ2qExzR2uqT+TZNW2hICpdteG8cyCEiqbjuK/SS9e++soWhfWVUMcGwzFqw8Gm6DG8PJqZ4+AWRpPSK32Ied20UbOBqs09RpOPVpWM4b+cvkVnHnKXS4vaOOZOA10ruSVtjEPU5yPka2L8fA5PeNp9owUtKdp87k8qAp8nx74hyENZpDWthuXHNzEqw85q491aJ/OM7XG9zTz/bYeX8Vht79jOTb9TOKUefCX1Tdq2RsbtH1toF8qiwdeuQNjg6dGeag6m/6B7bFeh9J3mQbTEfTkDZWvZTvn0SHld7RtMcbCssLvGfU3oWxRvBovu/LkSRTTh2kcteCZYX/D4/jINixy/E6IWXBfaAfwug5XB9arSSnbZxbEs/ZB3N46itZLy8kdCOk+a+b8TZasr22akGRrdMaQg86a4zgZhLrTrGDVjmN45wMf6BbYKZKcp1RjfHamqlgd1Ig9KwzBOrZRPL8kQrRkE35AIz73z8xyq07EGFS8uAuHT/87PnFIhG2LzTOvDU4658cxavQuzzZ4zs+0OxhsWOJjHZzpkN22XtyHe5udmhGQEG3YAXGxBNE4Cq57E1kUIoHUblUHJlJMRpvU4Z3daG9IUOoYH1iPKPoiVj8b6LXfzHJnzeRYHWp8uQSikGzs+46uVVqI38mQZA6rWYwtB0/j9x+GS7phmfzdlG2xwuks6zbsfYfSsjroi+hbQSsC2/BW2DbGK9vkGzuwyAu5MIMri+egHuZ5mrX+6T994A9kuCwPn8XrUkhXo7uwNIrQuumAb/f9PAuk8a5JWYJPa+/NQpnqZuma5cNtok9DvBduG0lm2JvaeKI3Wwc3T/pfySvp0HOfs882IvmcnybJRe1p2nwuk9NQLgYT/oRFDcfXJ+EMWg4ZezxqA+iMIsRdJ4B6Qd/P9ciwn4byVbqp4f1D69SKVzLI+i/8aJ1TV0+HWTbo6H1sGDtpZdTbBOj8rvIydmb76/D35LseBK1A30VKM/a6fg/2r4hgJ1xUH50MLLRtMcbCssLvSVmJrHQbmXQn6UaHKtTD/P/FVai6fbL6X6/yMc9I3jdljWxTq9Pp0C8zkDJyKYpn36aK10vLySHJM+5vsmR9bdOEJFujyzPkIH1sCFudjQQUw3t/z16cdo/CySPJtQ/xX/96Gq/S0taTG3A/x5RaRxWUZR2Nm/4O9rblOSMGj3nejR8K/tcOtYZz+5zNMSqWdiN6X/pFMAvF+Tb+1DNiySycNnSeeXKde0AsbDvT6Tp8I3FmvgPMqY9HQpg0sQNM3vEdYzFZ5JHkTz/4D7zzig6jeWxNEqvpz2Y3qcOJLrWcxu+kHKUl9ryZKeuTyWHSziQfjYs0SW5SL9ZPU/xOhiTXMT66D2tUWBO1R8fwPlx9Cf8SrIIk7aC2Nei4PP27tsMyMe9mET3O19pk8KxZ7bBL4Knnx3CqR4erqPhviq9e2YMDr+TFJAf5s6zVp/nN1MXHK7clwLdpexJ7HmIkxpYT/E6y4pPIVpNgFyPJb1Smlqcmwkkd9DOurP26J3nkpYd5Od9Vm9IYTfIMn21Mki/tblOz5WRnWqahjNzvZE/T6XNz2u9hNmmP529y5WDyVGEPRgeBv3fxoH1/Tj08/CX1SGR9BWerFO4VITwlZDIzyeOXBrCFbD9uw05v30VYtqmv7a/D353vpv/VhFKTSJpBPrdriR0Y634kwb9vW2FZ4XenLCsvLfcsu9F5E2k3+TTQTcSrBjZfU5bSfcagtm4G2UYuxfDMA0W2qeL10vk7JNng1sWX//9U/U2WrK9tmpBka3Sug3eVkJVOu25fwYHta5yNeM6yb4okBwSsNBd/vrAdDz3ZjQcpnsh2yFllUV3cdANo+45bV/7ffZ7TGnxeeQ9vvlTF487ms2bxUYnT5HyTs5F9I0k6nCTGNa8NWem609YjdOMQTAxcug6mLkGH4ztAri93kOwoTHoTWXidFjkyb9BEBG8hWlduwK5Oiq9LjgEsVIeg3lnty8sn69l0msaF68jz8vPTi+J3ciRZ1/MK/vP0S+jdtDLZwDfZmSUlR+2cfdth3RucFSLJJhzC7M7XoRbJHgVL1gN7HP/w1zi9dzseshv4nHhdT8/F6+LrhNsS4NjLO3kmxILOKyEJye+aVLgYSX6j/DSGZjNJVrGoZiNgnkz9Nmf5pVC2RX1uTl45evP8jXom8FeKTLkYmmI9QnLmfqfTQbr0kW63dw95IR8kr4nGJH96porltMGtch/6vJMuQtnSd9NG219nPcNpGsNq1litzpkVPLVRjwY9JiTD6Ud8HIRlhd+5HPcz7VsZQ4mtmXwCX8HPNfxUus8iyaYtHknOwohb1xySXKBeui1pktxoYofalcggqIcJe8n3N+Hz1/67kGRrdHnOJS89Udan7/0AnbR7lo0uJMlmGXLO6u/ht95yslkqseDMK8tPz136O9GFUnkJvnXa5Ju1nOw6vaz/ax/in3dSXKK7gSJpa64hm2Xm+P/cllrmPdb/V+iiWFu72S7PWWSnq402dJLABR1qkV5yCuoXdDi+A0yezUu3bcyQhddpOfGZz/z0PW9pnWMM2XnkleWl54Zb0ExWCZUNP8T7atNi1okLSbts/VP61ThyHZJXvvO8l14Yv1MhyW79a/jk5zvVBjK9Oc79jf83WGGbS9Wdl1t929GyKRDi4IZdqfbTCgldaBA7g1qqSzZmPR1ceQ8DdAxWZOrk4bN4XTydpNprOsYRvSybTWJZdnXMZLiF3qCVJ5e89KRunuyonbnkMOMdI1sX415+HE5jwmXYTpv5lOnzuTnt9zCRtMvzN+qZDL9swi20rRT1/Tn1cHDly20UfffRBtQKVu1z93YkddWzsxkETZFT/3SMq0PdanNuvLgbp9wY3rzy2c5sf52U69XTvK8GQgu2YZj8JZ9kYkKJOl8cUBtvk/hkJnFcdyMbW1b4Pats7WfS/sqEMqg6GELr7NnJqntm2kixcIuiePZtqni9tA9ySLKp18z5myxZX9s0IcnWELI6U1KGm/4m9iyfi1K4aUxtzGlAko0D9OPN6vh0+CkV7zixmWQOsg837vF5lPrINB07XYa/MakOFegfl7Hhh7/Dfx/dhPnlSuocY9o0NVGSrHeMuyEVPpB1KEYEvUyd56Bz0hUBL6Orc7V33mamM7Gd6sRmcYvKwuu02HGH8YW1SzhMm6QmOpOcs3FvfHRXcuKAiZ2OWneZExiMnGuj6oik0iJzvFlmZ6Ox7BKIQsSrMH4nQZL/dBSP31LGPLOBxup07CD+IuITJHws6WcMVoINULgyhCfoogJro679Jvk02yy36gCdzsLPayIbr+9EZ5yzCdUMdM99ezkqpfA0lxrOPEW7wrNIcvONe1yXQrpiDIUbkOvaP8TlDn3M18UDWJU6+5Y3YzUKV+DwqWDTbZ037lWw9Wcktxxbzk1nWWd8Kvwxgcn43eqJCXVO/Z1zku2JQgXtKXvj3sR9bq5cjI3xoJqx5/kb84x/XjHrLPG9RXx/bj1cWdr/zW134SZZ+7vRiRlM+5uAWUbJOcn6BsUIE1utNHiy/XVjHOgVnzYsvztGZFeMdNjMnJYWzAmOFPRtKywr/J5VtvEzgd1xWzlWWeMogr/5lkLOyMeXcBttzg7lqr7/DFvJrwV+n09DsrHMBfHsk2TmFM3rlSLJM+5vsmR9bdOEJFujy+5MfZJcx7u7+eahTfZ4pcfVEU/OsVNmc9mcFdtwhI6AoxlQOtKKj4ZRxy3diXJcQomWmyY4k5x1ZNRzDwQ3G/FuYTombrM54mpTcNTM5RPYYm4+emg7PdOPA9tX6RG+c6SQNoyEdKaMOJidSf1ORs7Gm3O2rH4nr2M1O2jpeB13U2CmM0k6Su5wfAeYGJiXXlAWeqm2BV176Qi435sbpvgYLX1s4P0tJcSlkhdf7JXl1DtMZ6cXL+7Q+Nq7GV9WS5JdeFWdGMKdYoR4/gN4jo74omV9FSfvhPw4ZST6MJuuWjpxwDsCLk1AvHoVxm8dvnz4GLZE5qouHiG4jFe7zC1da/hYRXM8onPsXdIGzstgheL77BFjO3RssxemkWPX9kivxseucbl6lsxdDQnqwTb89m600wUL85cnxyqaIwHt8Yxe+2lzKx/p2Lgunk4c/YbpjCHrb/qqeJxvPqvyLCDjKLlFjY/+o8GdO5BiGdhP9i1FjoBjudj65tk4yzPjU8krjVFbH5t3YvtZN+7xFcjJZjMqi+XQxJ4ydDQpn5s3SAgxYdqUJsl0k2nJ3HznHENnj/V0Topo5Pvz6uHK0vw/frJbH2l56z14xL3FkP9/9rg6Ag51tuUYt3cEN+5Z3F1A3wqaQPgCvrzWuRGR83rkEfztLzMwwPW1/XXWM06amTUmLLfvfscST+2f0sdL+jYUkuLwu1OOlZf2M+4RskeqG43v7sQQz5ZbHCV9BoVtah/vPGfzTcpiu+ajHY/scPYTWbkUxHNoUwXrpf1gGfdu67NHwHG9psffsF93ZqszZJFp+zP0nJBkC66cztSbSSbAXsHZ77uXgmRdYECbd4gEU6eqN1JdHfYvf6DLJg7/4hJO0VmN9jaionWgjtW/TIQuCvEvPSFnOewd+B+Xb0kdPD9+iS6RcC7CyDicXjuQfJLMo+N79vB5z4lhJ2DmGSia8XhLH4A+gQ5Uz46EmwKzykk6ygmRZDraq4AsaJNZR4u5/IR2k5MevAtblqBjxzFc/DcdGsIbvHwnnNQ7K927TCTr0pM6HSrfk2z8pAtHloSXaCRluDo4t28t9EH37oaKNAEJ61UMv3oTniefLMcVEgK6dna7E4usLlDh81Gz2kFpTLZ24fg+Ppg/6/D+PJvKvsCjY8ff+xfycP25002Fd3A9qvac2k/PfB8PO7HI+pIc54KesP1URsbFJmFdQp2wXrPSPQyZzZDehSaqXVdw8cXN4Is+tA/pVSclNCTJylbSl4l0H/yVE6ealouub156np7ZntMY5fZ7n0a2RI68P7UpeQ12uZe6sG6L2tO0+Nyc9mdhoh6szKhnWtE7PIStfFFMqQX3b/9xeqN1U9+fUw8rk0QflliGMuXvrh8PLqRQF1h9/0wSimYmkDzdcD7mk/22p1e2d9tfJ/Xzn+N0E8YU+XG8+vSHCGF4gG9DRja2rPA7l+F+aj9zR3UYp3p443YJX1q5HSfDDcgBjopdnkRl+ZeEaL9yEM+kLlkp0D8wlszZ+0qGRepFe3DuNJdYOZsMp8/fGFk3PKXJlfvM/38Tk+SZF2628Uq5k5GLcmLuUXAZznwy+co7sxWPxTt50fFs1bHUW7ArGBAMfLYYEJIsZMsuRV23xmguyuC4ruu2noKla4glIcliB59t5ynyF/kLBm58DAhJFmJzDYnNBA3q4nF865FHTLxtweVW0ef1q89p1Y2QZOmgJ+hPphV/UrbgTzBwM2BASLI4zuuXVF38G6yhTWulFnzj0Hnv2uKbwTiljY06ISHJgo9G+JDfBB+CAcHA1DEgJFlI8vVLkkU3ohvBgGBAMCAYEAwIBj4jDAhJ/owELyO8qY/wRIYiQ8GAYEAwIBgQDAgGZgoDQpKFJMsIVTAgGBAMCAYEA4IBwYBgIMCAkORAIDM1GpF8ZaQrGBAMCAYEA4IBwYBgYPZgQEiykGQZOQoGBAOCAcGAYEAwIBgQDAQYEJIcCERGeLNnhCe6El0JBgQDggHBgGBAMDBTGBCSLCRZRo6CAcGAYEAwIBgQDAgGBAMBBoQkBwKZqdGI5CsjXcGAYEAwIBgQDAgGBAOzBwNCkoUky8hRMCAYEAwIBgQDggHBgGAgwICQ5EAgMsKbPSM80ZXoSjAgGBAMCAYEA4KBmcKAkGQhyTJyFAwIBgQDggHBgGBAMCAYCDAgJDkQyEyNRiRfGekKBgQDggHBgGBAMCAYmD0YEJIsJFlGjoIBwYBgQDAgGBAMCAYEAwEGhCQHApER3uwZ4YmuRFeCAcGAYEAwIBgQDMwUBoQkC0mWkaNgQDAgGBAMCAYEA4IBwUCAASHJgUBmajQi+cpIVzAgGBAMCAYEA4IBwcDswYCQZCHJMnIUDAgGBAOCAcGAYEAwIBgIMCAkORCIjPBmzwhPdCW6EgwIBgQDggHBgGBgpjAgJFlIsowcBQOCAcGAYEAwIBgQDAgGAgwISQ4EMlOjEclXRrqCAcGAYEAwIBgQDAgGZg8GhCQLSZaRo2BAMCAYEAwIBgQDggHBQIABIcmBQGSEN3tGeKIr0ZVgQDAgGBAMCAYEAzOFASHJQpJl5CgYEAwIBgQDggHBgGBAMBBgQEhyIJCZGo1IvjLSFQwIBgQDggHBgGBAMDB7MPD/A3ixIgQykhIXAAAAAElFTkSuQmCC)\n",
        "\n",
        "A informação pode ser validada em : https://cloud.ibm.com/apidocs/visual-recognition/visual-recognition-v3\n",
        "\n",
        "Por este motivo as atividades do trabalho serão executadas utilizando a API do Google **\"CLOUD VISION\"** que contém funções similares."
      ]
    },
    {
      "cell_type": "markdown",
      "metadata": {
        "id": "tprK22en0J_n"
      },
      "source": [
        "## CLOUD VISION"
      ]
    },
    {
      "cell_type": "code",
      "metadata": {
        "colab": {
          "base_uri": "https://localhost:8080/"
        },
        "id": "NPyBuNRpDvII",
        "outputId": "301cd367-c8ce-4cb8-f66c-34b52254bae5"
      },
      "source": [
        "!pip install google-cloud-vision"
      ],
      "execution_count": null,
      "outputs": [
        {
          "output_type": "stream",
          "name": "stdout",
          "text": [
            "Requirement already satisfied: google-cloud-vision in /usr/local/lib/python3.7/dist-packages (2.4.2)\n",
            "Requirement already satisfied: google-api-core[grpc]<3.0.0dev,>=1.26.0 in /usr/local/lib/python3.7/dist-packages (from google-cloud-vision) (1.26.3)\n",
            "Requirement already satisfied: packaging>=14.3 in /usr/local/lib/python3.7/dist-packages (from google-cloud-vision) (21.0)\n",
            "Requirement already satisfied: proto-plus>=1.15.0 in /usr/local/lib/python3.7/dist-packages (from google-cloud-vision) (1.19.0)\n",
            "Requirement already satisfied: six>=1.13.0 in /usr/local/lib/python3.7/dist-packages (from google-api-core[grpc]<3.0.0dev,>=1.26.0->google-cloud-vision) (1.15.0)\n",
            "Requirement already satisfied: googleapis-common-protos<2.0dev,>=1.6.0 in /usr/local/lib/python3.7/dist-packages (from google-api-core[grpc]<3.0.0dev,>=1.26.0->google-cloud-vision) (1.53.0)\n",
            "Requirement already satisfied: requests<3.0.0dev,>=2.18.0 in /usr/local/lib/python3.7/dist-packages (from google-api-core[grpc]<3.0.0dev,>=1.26.0->google-cloud-vision) (2.23.0)\n",
            "Requirement already satisfied: pytz in /usr/local/lib/python3.7/dist-packages (from google-api-core[grpc]<3.0.0dev,>=1.26.0->google-cloud-vision) (2018.9)\n",
            "Requirement already satisfied: google-auth<2.0dev,>=1.21.1 in /usr/local/lib/python3.7/dist-packages (from google-api-core[grpc]<3.0.0dev,>=1.26.0->google-cloud-vision) (1.35.0)\n",
            "Requirement already satisfied: protobuf>=3.12.0 in /usr/local/lib/python3.7/dist-packages (from google-api-core[grpc]<3.0.0dev,>=1.26.0->google-cloud-vision) (3.17.3)\n",
            "Requirement already satisfied: setuptools>=40.3.0 in /usr/local/lib/python3.7/dist-packages (from google-api-core[grpc]<3.0.0dev,>=1.26.0->google-cloud-vision) (57.4.0)\n",
            "Requirement already satisfied: grpcio<2.0dev,>=1.29.0 in /usr/local/lib/python3.7/dist-packages (from google-api-core[grpc]<3.0.0dev,>=1.26.0->google-cloud-vision) (1.40.0)\n",
            "Requirement already satisfied: cachetools<5.0,>=2.0.0 in /usr/local/lib/python3.7/dist-packages (from google-auth<2.0dev,>=1.21.1->google-api-core[grpc]<3.0.0dev,>=1.26.0->google-cloud-vision) (4.2.2)\n",
            "Requirement already satisfied: pyasn1-modules>=0.2.1 in /usr/local/lib/python3.7/dist-packages (from google-auth<2.0dev,>=1.21.1->google-api-core[grpc]<3.0.0dev,>=1.26.0->google-cloud-vision) (0.2.8)\n",
            "Requirement already satisfied: rsa<5,>=3.1.4 in /usr/local/lib/python3.7/dist-packages (from google-auth<2.0dev,>=1.21.1->google-api-core[grpc]<3.0.0dev,>=1.26.0->google-cloud-vision) (4.7.2)\n",
            "Requirement already satisfied: pyparsing>=2.0.2 in /usr/local/lib/python3.7/dist-packages (from packaging>=14.3->google-cloud-vision) (2.4.7)\n",
            "Requirement already satisfied: pyasn1<0.5.0,>=0.4.6 in /usr/local/lib/python3.7/dist-packages (from pyasn1-modules>=0.2.1->google-auth<2.0dev,>=1.21.1->google-api-core[grpc]<3.0.0dev,>=1.26.0->google-cloud-vision) (0.4.8)\n",
            "Requirement already satisfied: chardet<4,>=3.0.2 in /usr/local/lib/python3.7/dist-packages (from requests<3.0.0dev,>=2.18.0->google-api-core[grpc]<3.0.0dev,>=1.26.0->google-cloud-vision) (3.0.4)\n",
            "Requirement already satisfied: certifi>=2017.4.17 in /usr/local/lib/python3.7/dist-packages (from requests<3.0.0dev,>=2.18.0->google-api-core[grpc]<3.0.0dev,>=1.26.0->google-cloud-vision) (2021.5.30)\n",
            "Requirement already satisfied: urllib3!=1.25.0,!=1.25.1,<1.26,>=1.21.1 in /usr/local/lib/python3.7/dist-packages (from requests<3.0.0dev,>=2.18.0->google-api-core[grpc]<3.0.0dev,>=1.26.0->google-cloud-vision) (1.24.3)\n",
            "Requirement already satisfied: idna<3,>=2.5 in /usr/local/lib/python3.7/dist-packages (from requests<3.0.0dev,>=2.18.0->google-api-core[grpc]<3.0.0dev,>=1.26.0->google-cloud-vision) (2.10)\n"
          ]
        }
      ]
    },
    {
      "cell_type": "markdown",
      "metadata": {
        "id": "GjBroe3gF589"
      },
      "source": [
        "Inserindo credenciais"
      ]
    },
    {
      "cell_type": "code",
      "metadata": {
        "id": "lZTlDnIXF4d1"
      },
      "source": [
        "import os, io"
      ],
      "execution_count": null,
      "outputs": []
    },
    {
      "cell_type": "code",
      "metadata": {
        "id": "6uh-AH-0HIg1"
      },
      "source": [
        "os.environ['GOOGLE_APPLICATION_CREDENTIALS'] = key_path"
      ],
      "execution_count": null,
      "outputs": []
    },
    {
      "cell_type": "markdown",
      "metadata": {
        "id": "uGYZO2nKyqH9"
      },
      "source": [
        "Inicia o **CLOUD VISION**"
      ]
    },
    {
      "cell_type": "code",
      "metadata": {
        "id": "OpbF5Y8M0Iks"
      },
      "source": [
        "from google.cloud import vision\n",
        "client = vision.ImageAnnotatorClient()"
      ],
      "execution_count": null,
      "outputs": []
    },
    {
      "cell_type": "markdown",
      "metadata": {
        "id": "O98cC4iIyxwJ"
      },
      "source": [
        "Função para verificar se na imagem existe uma pessoa ou não."
      ]
    },
    {
      "cell_type": "code",
      "metadata": {
        "id": "DOoSvtKux7Xp"
      },
      "source": [
        "def person(path):\n",
        "  with io.open(path, 'rb') as image_file:\n",
        "    content = image_file.read()\n",
        "\n",
        "  image = vision.Image(content=content)\n",
        "\n",
        "  response = client.face_detection(image=image)\n",
        "  faces = response.face_annotations\n",
        "\n",
        "  if faces == []:\n",
        "    pessoa = False\n",
        "\n",
        "  else:\n",
        "    pessoa = True\n",
        "\n",
        "  return pessoa"
      ],
      "execution_count": null,
      "outputs": []
    },
    {
      "cell_type": "markdown",
      "metadata": {
        "id": "0hTab-qU4cio"
      },
      "source": [
        "Função para verificar se na imagem contém conteudo explicito."
      ]
    },
    {
      "cell_type": "code",
      "metadata": {
        "id": "s1KtxkdYQ5w0"
      },
      "source": [
        "def detect_safe_search(path):\n",
        "    with io.open(path, 'rb') as image_file:\n",
        "        content = image_file.read()\n",
        "\n",
        "    image = vision.Image(content=content)\n",
        "\n",
        "    response = client.safe_search_detection(image=image)\n",
        "    safe = response.safe_search_annotation\n",
        "\n",
        "    likelihood_name = ('UNKNOWN', 'VERY_UNLIKELY', 'UNLIKELY', 'POSSIBLE',\n",
        "                       'LIKELY', 'VERY_LIKELY')\n",
        "\n",
        "    safe = likelihood_name[safe.adult]\n",
        "\n",
        "    if (safe == 'UNKNOWN') or (safe == 'VERY_UNLIKELY') or (safe == 'UNLIKELY'):\n",
        "      img_safe = True\n",
        "\n",
        "    else:\n",
        "      img_safe = False\n",
        "\n",
        "    return img_safe"
      ],
      "execution_count": null,
      "outputs": []
    },
    {
      "cell_type": "code",
      "metadata": {
        "id": "mHOEleQq1iXE"
      },
      "source": [
        "is_person = person(filename)"
      ],
      "execution_count": null,
      "outputs": []
    },
    {
      "cell_type": "code",
      "metadata": {
        "id": "7HzjlXz33qpp"
      },
      "source": [
        "is_safe = detect_safe_search(filename)"
      ],
      "execution_count": null,
      "outputs": []
    },
    {
      "cell_type": "markdown",
      "metadata": {
        "id": "vZYqparUI129"
      },
      "source": [
        "## FACE API"
      ]
    },
    {
      "cell_type": "code",
      "metadata": {
        "colab": {
          "base_uri": "https://localhost:8080/"
        },
        "id": "46oUPaRGJJwd",
        "outputId": "19bb5480-4193-4f91-b36a-25a28205aa0d"
      },
      "source": [
        "!pip install azure-cognitiveservices-vision-face\n",
        "!pip install Pillow"
      ],
      "execution_count": null,
      "outputs": [
        {
          "output_type": "stream",
          "name": "stdout",
          "text": [
            "Collecting azure-cognitiveservices-vision-face\n",
            "  Downloading azure_cognitiveservices_vision_face-0.5.0-py2.py3-none-any.whl (66 kB)\n",
            "\u001b[K     |████████████████████████████████| 66 kB 3.7 MB/s \n",
            "\u001b[?25hCollecting msrest>=0.5.0\n",
            "  Downloading msrest-0.6.21-py2.py3-none-any.whl (85 kB)\n",
            "\u001b[K     |████████████████████████████████| 85 kB 4.1 MB/s \n",
            "\u001b[?25hCollecting azure-common~=1.1\n",
            "  Downloading azure_common-1.1.27-py2.py3-none-any.whl (12 kB)\n",
            "Requirement already satisfied: requests~=2.16 in /usr/local/lib/python3.7/dist-packages (from msrest>=0.5.0->azure-cognitiveservices-vision-face) (2.23.0)\n",
            "Requirement already satisfied: certifi>=2017.4.17 in /usr/local/lib/python3.7/dist-packages (from msrest>=0.5.0->azure-cognitiveservices-vision-face) (2021.5.30)\n",
            "Requirement already satisfied: requests-oauthlib>=0.5.0 in /usr/local/lib/python3.7/dist-packages (from msrest>=0.5.0->azure-cognitiveservices-vision-face) (1.3.0)\n",
            "Collecting isodate>=0.6.0\n",
            "  Downloading isodate-0.6.0-py2.py3-none-any.whl (45 kB)\n",
            "\u001b[K     |████████████████████████████████| 45 kB 3.6 MB/s \n",
            "\u001b[?25hRequirement already satisfied: six in /usr/local/lib/python3.7/dist-packages (from isodate>=0.6.0->msrest>=0.5.0->azure-cognitiveservices-vision-face) (1.15.0)\n",
            "Requirement already satisfied: idna<3,>=2.5 in /usr/local/lib/python3.7/dist-packages (from requests~=2.16->msrest>=0.5.0->azure-cognitiveservices-vision-face) (2.10)\n",
            "Requirement already satisfied: urllib3!=1.25.0,!=1.25.1,<1.26,>=1.21.1 in /usr/local/lib/python3.7/dist-packages (from requests~=2.16->msrest>=0.5.0->azure-cognitiveservices-vision-face) (1.24.3)\n",
            "Requirement already satisfied: chardet<4,>=3.0.2 in /usr/local/lib/python3.7/dist-packages (from requests~=2.16->msrest>=0.5.0->azure-cognitiveservices-vision-face) (3.0.4)\n",
            "Requirement already satisfied: oauthlib>=3.0.0 in /usr/local/lib/python3.7/dist-packages (from requests-oauthlib>=0.5.0->msrest>=0.5.0->azure-cognitiveservices-vision-face) (3.1.1)\n",
            "Installing collected packages: isodate, msrest, azure-common, azure-cognitiveservices-vision-face\n",
            "Successfully installed azure-cognitiveservices-vision-face-0.5.0 azure-common-1.1.27 isodate-0.6.0 msrest-0.6.21\n",
            "Requirement already satisfied: Pillow in /usr/local/lib/python3.7/dist-packages (7.1.2)\n"
          ]
        }
      ]
    },
    {
      "cell_type": "markdown",
      "metadata": {
        "id": "Ow_wSwkkJbz4"
      },
      "source": [
        "### Configurações"
      ]
    },
    {
      "cell_type": "code",
      "metadata": {
        "id": "9KbqN3sBJYmG"
      },
      "source": [
        "from azure.cognitiveservices.vision.face import FaceClient\n",
        "from msrest.authentication import CognitiveServicesCredentials\n",
        "from PIL import Image, ImageDraw\n",
        "import json"
      ],
      "execution_count": null,
      "outputs": []
    },
    {
      "cell_type": "markdown",
      "metadata": {
        "id": "pWGEuAb6JqJc"
      },
      "source": [
        "Funções úteis:"
      ]
    },
    {
      "cell_type": "code",
      "metadata": {
        "id": "JkHEJQ7yJu-r"
      },
      "source": [
        "def getRectangle(faceDictionary):\n",
        "    \"\"\"\n",
        "    Função para criar um retângulo a partir de uma face identificada pelo Azure Face Detection\n",
        "    :param faceDictionary:\n",
        "    :return:\n",
        "    \"\"\"\n",
        "    rect = faceDictionary.face_rectangle\n",
        "    left = rect.left\n",
        "    top = rect.top\n",
        "    right = left + rect.width\n",
        "    bottom = top + rect.height\n",
        "\n",
        "    return ((left, top), (right, bottom))"
      ],
      "execution_count": null,
      "outputs": []
    },
    {
      "cell_type": "code",
      "metadata": {
        "id": "obziQZZ5JwbG"
      },
      "source": [
        "def drawCrossesOnFace(faceLandmarks, size=2, color='white'):\n",
        "    fl = faceLandmarks.as_dict()\n",
        "    for l in fl.keys():\n",
        "        x = fl[l]['x']\n",
        "        y = fl[l]['y']\n",
        "        draw.line(((x - size, y - size), (x + size, y + size)), fill=color)\n",
        "        draw.line(((x - size, y + size), (x + size, y - size)), fill=color)\n",
        "    pass"
      ],
      "execution_count": null,
      "outputs": []
    },
    {
      "cell_type": "code",
      "metadata": {
        "id": "9U_XSlPnUBZY"
      },
      "source": [
        "def gender_name(x):\n",
        "  if x == 'Masculino':\n",
        "    new_gender = 'male'\n",
        "  elif x == 'Feminino':\n",
        "    new_gender = 'female'\n",
        "  \n",
        "  return new_gender"
      ],
      "execution_count": null,
      "outputs": []
    },
    {
      "cell_type": "markdown",
      "metadata": {
        "id": "xkQje9bRJ1lQ"
      },
      "source": [
        "### Cliente de API"
      ]
    },
    {
      "cell_type": "code",
      "metadata": {
        "id": "Jj4ZymuVJ4uP"
      },
      "source": [
        "KEY = \"20ce3414112b4f20a6b38f3141d727f8\"\n",
        "ENDPOINT = \"https://plataformas-cognitivas.cognitiveservices.azure.com/\"\n",
        "face_client = FaceClient(ENDPOINT, CognitiveServicesCredentials(KEY))"
      ],
      "execution_count": null,
      "outputs": []
    },
    {
      "cell_type": "markdown",
      "metadata": {
        "id": "g0nPzoq3Kswi"
      },
      "source": [
        "Função para verificar ida da pessoa na imagem."
      ]
    },
    {
      "cell_type": "code",
      "metadata": {
        "id": "1FqPC_eOLK7O"
      },
      "source": [
        "def age_gender(path):\n",
        "  return_face_attributes = [\"age\", \"gender\"]\n",
        "  with open(path, 'r+b') as w:\n",
        "      detected_faces = face_client.face.detect_with_stream(image=w, return_face_landmarks = True, return_face_attributes = return_face_attributes)\n",
        "\n",
        "  # dado = {}\n",
        "  for face in detected_faces:\n",
        "    dado = face.face_attributes.as_dict( )\n",
        "\n",
        "  i = dado['age']\n",
        "  g = dado['gender']\n",
        "\n",
        "  if (i >= (idade - 5)) and (i <= (idade + 5)):\n",
        "    P_idade = True\n",
        "\n",
        "  else:\n",
        "    P_idade = False\n",
        "\n",
        "  if gender_name(genero) == g:\n",
        "    p_genero = True\n",
        "\n",
        "  else:\n",
        "    p_genero = False\n",
        "\n",
        "  pessoa = [P_idade, p_genero]\n",
        "\n",
        "  return pessoa"
      ],
      "execution_count": null,
      "outputs": []
    },
    {
      "cell_type": "code",
      "metadata": {
        "id": "Sbq3h7VhRrfE"
      },
      "source": [
        "a_g = age_gender(filename)"
      ],
      "execution_count": null,
      "outputs": []
    },
    {
      "cell_type": "markdown",
      "metadata": {
        "id": "5TiCLKYOW_hT"
      },
      "source": [
        "Plota a imagem com os pontos \"fiduciais\"."
      ]
    },
    {
      "cell_type": "code",
      "metadata": {
        "id": "lsXzly6aYVYZ"
      },
      "source": [
        "with open(filename, 'r+b') as w:\n",
        "    detected_faces = face_client.face.detect_with_stream(image=w, return_face_landmarks = True)\n",
        "\n",
        "img = Image.open(filename)\n",
        "draw = ImageDraw.Draw(img)\n",
        "\n",
        "for face in detected_faces:\n",
        "  draw.rectangle(getRectangle(face), outline='red')\n",
        "  drawCrossesOnFace(face.face_landmarks, size=2, color='green')"
      ],
      "execution_count": null,
      "outputs": []
    },
    {
      "cell_type": "markdown",
      "metadata": {
        "id": "2SbgSZvu1srL"
      },
      "source": [
        "## Parâmetros iniciais para  os modelos de previsão"
      ]
    },
    {
      "cell_type": "code",
      "metadata": {
        "cellView": "form",
        "id": "aI8zOA-Q13ff"
      },
      "source": [
        "#@title Parâmetros da solução\n",
        "\n",
        "#@markdown Informe o IP do servidor de predição da sua solução:\n",
        "my_server_ip = \"35.225.112.6\" #@param {type:\"string\"}\n",
        "\n",
        "#@markdown Informe a porta do servidor de predição da sua solução:\n",
        "my_server_port = \"443\" #@param {type:\"string\"}"
      ],
      "execution_count": null,
      "outputs": []
    },
    {
      "cell_type": "code",
      "metadata": {
        "id": "NVK-CWhP-fOP"
      },
      "source": [
        "import requests\n",
        "import pandas as pd\n",
        "import json"
      ],
      "execution_count": null,
      "outputs": []
    },
    {
      "cell_type": "markdown",
      "metadata": {
        "id": "tXcvY2wF1e60"
      },
      "source": [
        "## Analisando crédito:"
      ]
    },
    {
      "cell_type": "markdown",
      "metadata": {
        "id": "DC1gNgiI9MdD"
      },
      "source": [
        "### Pré-Processamento:\n"
      ]
    },
    {
      "cell_type": "code",
      "metadata": {
        "id": "4U9nH_ON3Erl"
      },
      "source": [
        "if etnia == 'Etnia01':\n",
        "  etnia = 1\n",
        "else:\n",
        "  etnia = 2\n",
        "\n",
        "if genero == 'Masculino':\n",
        "  genero = 0\n",
        "else:\n",
        "  genero = 1\n",
        "\n",
        "if casa_propria == 'Sim':\n",
        "  casa_propria = 1\n",
        "else:\n",
        "  casa_propria = 0\n",
        "\n",
        "if outras_rendas == 'Sim':\n",
        "  outras_rendas = 1\n",
        "else:\n",
        "  outras_rendas = 0\n",
        "\n",
        "if estado_civil == 'Estado01':\n",
        "  estado_civil = 1\n",
        "else:\n",
        "  estado_civil = 2"
      ],
      "execution_count": null,
      "outputs": []
    },
    {
      "cell_type": "code",
      "metadata": {
        "id": "aKz_r-aC_D7j"
      },
      "source": [
        "lista = {\n",
        "    'nome': [nome],\n",
        "    'renda': [renda],\n",
        "    'idade': [idade],\n",
        "    'etnia': [etnia],\n",
        "    'sexo': [genero],\n",
        "    'casapropria': [casa_propria],\n",
        "    'outrasrendas': [outras_rendas],\n",
        "    'esdadocivil': [estado_civil],\n",
        "    'escolaridade': [escolaridade]\n",
        "}\n",
        "\n",
        "clientes = pd.DataFrame(data = lista)"
      ],
      "execution_count": null,
      "outputs": []
    },
    {
      "cell_type": "markdown",
      "metadata": {
        "id": "e8lhwG7-9aP6"
      },
      "source": [
        "# Predição\n",
        "\n",
        "O cliente agora será submetido a dois modelos de Machine Learning preparados para a análise."
      ]
    },
    {
      "cell_type": "code",
      "metadata": {
        "id": "hkbEgJna9oak"
      },
      "source": [
        "url = \"http://{}:{}/predict\".format(my_server_ip, my_server_port)\n",
        "headers = {'Content-Type': 'application/json'}\n",
        "conteudo = clientes.to_json()"
      ],
      "execution_count": null,
      "outputs": []
    },
    {
      "cell_type": "markdown",
      "metadata": {
        "id": "0wIMgWLN95gc"
      },
      "source": [
        "**Modelo 01**"
      ]
    },
    {
      "cell_type": "code",
      "metadata": {
        "id": "MG7qV1cN9tIA"
      },
      "source": [
        "response01 = requests.request(\"POST\", url + \"?model=modelo01\", headers=headers, data=conteudo)\n",
        "respostas01 = json.loads(response01.text.encode('utf8').decode())\n",
        "# respostas01"
      ],
      "execution_count": null,
      "outputs": []
    },
    {
      "cell_type": "code",
      "metadata": {
        "id": "ogxUsAkQ9yjl"
      },
      "source": [
        "df_01 = pd.Series(respostas01['prediction'], index = clientes.index, name=\"PredicaoML01\")\n",
        "df_01B = pd.Series(respostas01['proba'], index = clientes.index, name=\"PredicaoML01B\")"
      ],
      "execution_count": null,
      "outputs": []
    },
    {
      "cell_type": "markdown",
      "metadata": {
        "id": "_CLPq8h299b6"
      },
      "source": [
        "**Modelo 02**"
      ]
    },
    {
      "cell_type": "code",
      "metadata": {
        "id": "9QGCFrZ--QEw"
      },
      "source": [
        "response02 = requests.request(\"POST\", url + \"?model=modelo02\", headers=headers, data=conteudo)\n",
        "respostas02 = json.loads(response02.text.encode('utf8').decode())\n",
        "# respostas02"
      ],
      "execution_count": null,
      "outputs": []
    },
    {
      "cell_type": "code",
      "metadata": {
        "id": "eLFdOord-TFN"
      },
      "source": [
        "df_02 = pd.Series(respostas02['prediction'], index = clientes.index, name=\"PredicaoML02\")"
      ],
      "execution_count": null,
      "outputs": []
    },
    {
      "cell_type": "code",
      "metadata": {
        "id": "GcRwfWpN-Wok"
      },
      "source": [
        "tab = pd.DataFrame(clientes.loc[:,\"nome\"])\\\n",
        "    .merge(right= df_01, left_index=True, right_index=True)\\\n",
        "    .merge(df_01B, left_index=True, right_index=True)\\\n",
        "    .merge(df_02, left_index=True, right_index=True)"
      ],
      "execution_count": null,
      "outputs": []
    },
    {
      "cell_type": "code",
      "metadata": {
        "colab": {
          "base_uri": "https://localhost:8080/"
        },
        "id": "rJgZzpLVCeU6",
        "outputId": "1879e101-4107-4b80-f78a-23a26c72ad1f"
      },
      "source": [
        "Resp_1 = tab['PredicaoML01'].values[0]\n",
        "Resp_2 = tab['PredicaoML02'].values[0]\n",
        "cliente = tab['nome'].values[0]\n",
        "is_age = a_g[0]\n",
        "is_gender = a_g[1]\n",
        "\n",
        "if (Resp_1 == 0) & (Resp_2 < 0.5) & is_person & is_safe & is_age & is_gender:\n",
        "  print(f'O cliente {cliente} possui crédito aprovado')\n",
        "  img\n",
        "else:\n",
        "  print(f'O cliente {cliente} não possui crédito aprovado')"
      ],
      "execution_count": null,
      "outputs": [
        {
          "output_type": "stream",
          "name": "stdout",
          "text": [
            "O cliente Vitor possui crédito aprovado\n"
          ]
        }
      ]
    }
  ]
}