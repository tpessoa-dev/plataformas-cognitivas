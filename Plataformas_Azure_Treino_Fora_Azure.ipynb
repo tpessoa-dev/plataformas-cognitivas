{
  "nbformat": 4,
  "nbformat_minor": 0,
  "metadata": {
    "colab": {
      "name": "Plataformas Azure - Treino Fora Azure.ipynb",
      "provenance": [],
      "collapsed_sections": [],
      "include_colab_link": true
    },
    "kernelspec": {
      "name": "python3",
      "display_name": "Python 3"
    }
  },
  "cells": [
    {
      "cell_type": "markdown",
      "metadata": {
        "id": "view-in-github",
        "colab_type": "text"
      },
      "source": [
        "<a href=\"https://colab.research.google.com/github/tpessoa-dev/plataformas-cognitivas/blob/main/Plataformas_Azure_Treino_Fora_Azure.ipynb\" target=\"_parent\"><img src=\"https://colab.research.google.com/assets/colab-badge.svg\" alt=\"Open In Colab\"/></a>"
      ]
    },
    {
      "cell_type": "markdown",
      "metadata": {
        "id": "QHXfLH6mHbdP"
      },
      "source": [
        "#Setup"
      ]
    },
    {
      "cell_type": "code",
      "metadata": {
        "id": "g3vQzVdzHczA",
        "colab": {
          "base_uri": "https://localhost:8080/"
        },
        "outputId": "494232e2-1c0e-48f1-f080-3a8c1e8d992c"
      },
      "source": [
        "!git clone https://github.com/elthonf/azure-ml.git"
      ],
      "execution_count": null,
      "outputs": [
        {
          "output_type": "stream",
          "text": [
            "fatal: destination path 'azure-ml' already exists and is not an empty directory.\n"
          ],
          "name": "stdout"
        }
      ]
    },
    {
      "cell_type": "code",
      "metadata": {
        "id": "60ri7Q546f7y",
        "colab": {
          "base_uri": "https://localhost:8080/"
        },
        "outputId": "96aa4a49-86b6-42f1-f975-744c664c3008"
      },
      "source": [
        "!pip install azureml-core\n",
        "!pip install scikit-learn==0.20.3"
      ],
      "execution_count": null,
      "outputs": [
        {
          "output_type": "stream",
          "text": [
            "Requirement already satisfied: azureml-core in /usr/local/lib/python3.7/dist-packages (1.24.0.post2)\n",
            "Requirement already satisfied: azure-mgmt-keyvault<7.0.0,>=0.40.0 in /usr/local/lib/python3.7/dist-packages (from azureml-core) (2.2.0)\n",
            "Requirement already satisfied: requests<3.0.0,>=2.19.1 in /usr/local/lib/python3.7/dist-packages (from azureml-core) (2.23.0)\n",
            "Requirement already satisfied: msrestazure>=0.4.33 in /usr/local/lib/python3.7/dist-packages (from azureml-core) (0.6.4)\n",
            "Requirement already satisfied: pyopenssl<21.0.0 in /usr/local/lib/python3.7/dist-packages (from azureml-core) (20.0.1)\n",
            "Requirement already satisfied: azure-graphrbac<1.0.0,>=0.40.0 in /usr/local/lib/python3.7/dist-packages (from azureml-core) (0.61.1)\n",
            "Requirement already satisfied: pytz in /usr/local/lib/python3.7/dist-packages (from azureml-core) (2018.9)\n",
            "Requirement already satisfied: azure-mgmt-authorization<1.0.0,>=0.40.0 in /usr/local/lib/python3.7/dist-packages (from azureml-core) (0.61.0)\n",
            "Requirement already satisfied: ruamel.yaml>=0.15.35 in /usr/local/lib/python3.7/dist-packages (from azureml-core) (0.16.13)\n",
            "Requirement already satisfied: cryptography!=1.9,!=2.0.*,!=2.1.*,!=2.2.*,<4.0.0 in /usr/local/lib/python3.7/dist-packages (from azureml-core) (3.4.6)\n",
            "Requirement already satisfied: adal>=1.2.0 in /usr/local/lib/python3.7/dist-packages (from azureml-core) (1.2.6)\n",
            "Requirement already satisfied: docker in /usr/local/lib/python3.7/dist-packages (from azureml-core) (4.4.4)\n",
            "Requirement already satisfied: contextlib2 in /usr/local/lib/python3.7/dist-packages (from azureml-core) (0.5.5)\n",
            "Requirement already satisfied: PyJWT<3.0.0 in /usr/local/lib/python3.7/dist-packages (from azureml-core) (2.0.1)\n",
            "Requirement already satisfied: ndg-httpsclient in /usr/local/lib/python3.7/dist-packages (from azureml-core) (0.5.1)\n",
            "Requirement already satisfied: jmespath in /usr/local/lib/python3.7/dist-packages (from azureml-core) (0.10.0)\n",
            "Requirement already satisfied: urllib3>=1.23 in /usr/local/lib/python3.7/dist-packages (from azureml-core) (1.24.3)\n",
            "Requirement already satisfied: azure-mgmt-storage<16.0.0,>=1.5.0 in /usr/local/lib/python3.7/dist-packages (from azureml-core) (11.2.0)\n",
            "Requirement already satisfied: SecretStorage in /usr/local/lib/python3.7/dist-packages (from azureml-core) (3.3.1)\n",
            "Requirement already satisfied: azure-common>=1.1.12 in /usr/local/lib/python3.7/dist-packages (from azureml-core) (1.1.26)\n",
            "Requirement already satisfied: azure-mgmt-resource<15.0.0,>=1.2.1 in /usr/local/lib/python3.7/dist-packages (from azureml-core) (12.1.0)\n",
            "Requirement already satisfied: backports.tempfile in /usr/local/lib/python3.7/dist-packages (from azureml-core) (1.0)\n",
            "Requirement already satisfied: msrest>=0.5.1 in /usr/local/lib/python3.7/dist-packages (from azureml-core) (0.6.21)\n",
            "Requirement already satisfied: jsonpickle in /usr/local/lib/python3.7/dist-packages (from azureml-core) (2.0.0)\n",
            "Requirement already satisfied: python-dateutil>=2.7.3 in /usr/local/lib/python3.7/dist-packages (from azureml-core) (2.8.1)\n",
            "Requirement already satisfied: azure-mgmt-containerregistry>=2.0.0 in /usr/local/lib/python3.7/dist-packages (from azureml-core) (2.8.0)\n",
            "Requirement already satisfied: pathspec in /usr/local/lib/python3.7/dist-packages (from azureml-core) (0.8.1)\n",
            "Requirement already satisfied: certifi>=2017.4.17 in /usr/local/lib/python3.7/dist-packages (from requests<3.0.0,>=2.19.1->azureml-core) (2020.12.5)\n",
            "Requirement already satisfied: idna<3,>=2.5 in /usr/local/lib/python3.7/dist-packages (from requests<3.0.0,>=2.19.1->azureml-core) (2.10)\n",
            "Requirement already satisfied: chardet<4,>=3.0.2 in /usr/local/lib/python3.7/dist-packages (from requests<3.0.0,>=2.19.1->azureml-core) (3.0.4)\n",
            "Requirement already satisfied: six in /usr/local/lib/python3.7/dist-packages (from msrestazure>=0.4.33->azureml-core) (1.15.0)\n",
            "Requirement already satisfied: ruamel.yaml.clib>=0.1.2; platform_python_implementation == \"CPython\" and python_version < \"3.10\" in /usr/local/lib/python3.7/dist-packages (from ruamel.yaml>=0.15.35->azureml-core) (0.2.2)\n",
            "Requirement already satisfied: cffi>=1.12 in /usr/local/lib/python3.7/dist-packages (from cryptography!=1.9,!=2.0.*,!=2.1.*,!=2.2.*,<4.0.0->azureml-core) (1.14.5)\n",
            "Requirement already satisfied: websocket-client>=0.32.0 in /usr/local/lib/python3.7/dist-packages (from docker->azureml-core) (0.58.0)\n",
            "Requirement already satisfied: pyasn1>=0.1.1 in /usr/local/lib/python3.7/dist-packages (from ndg-httpsclient->azureml-core) (0.4.8)\n",
            "Requirement already satisfied: jeepney>=0.6 in /usr/local/lib/python3.7/dist-packages (from SecretStorage->azureml-core) (0.6.0)\n",
            "Requirement already satisfied: backports.weakref in /usr/local/lib/python3.7/dist-packages (from backports.tempfile->azureml-core) (1.0.post1)\n",
            "Requirement already satisfied: isodate>=0.6.0 in /usr/local/lib/python3.7/dist-packages (from msrest>=0.5.1->azureml-core) (0.6.0)\n",
            "Requirement already satisfied: requests-oauthlib>=0.5.0 in /usr/local/lib/python3.7/dist-packages (from msrest>=0.5.1->azureml-core) (1.3.0)\n",
            "Requirement already satisfied: importlib-metadata; python_version < \"3.8\" in /usr/local/lib/python3.7/dist-packages (from jsonpickle->azureml-core) (3.7.2)\n",
            "Requirement already satisfied: pycparser in /usr/local/lib/python3.7/dist-packages (from cffi>=1.12->cryptography!=1.9,!=2.0.*,!=2.1.*,!=2.2.*,<4.0.0->azureml-core) (2.20)\n",
            "Requirement already satisfied: oauthlib>=3.0.0 in /usr/local/lib/python3.7/dist-packages (from requests-oauthlib>=0.5.0->msrest>=0.5.1->azureml-core) (3.1.0)\n",
            "Requirement already satisfied: zipp>=0.5 in /usr/local/lib/python3.7/dist-packages (from importlib-metadata; python_version < \"3.8\"->jsonpickle->azureml-core) (3.4.1)\n",
            "Requirement already satisfied: typing-extensions>=3.6.4; python_version < \"3.8\" in /usr/local/lib/python3.7/dist-packages (from importlib-metadata; python_version < \"3.8\"->jsonpickle->azureml-core) (3.7.4.3)\n",
            "Requirement already satisfied: scikit-learn==0.20.3 in /usr/local/lib/python3.7/dist-packages (0.20.3)\n",
            "Requirement already satisfied: scipy>=0.13.3 in /usr/local/lib/python3.7/dist-packages (from scikit-learn==0.20.3) (1.4.1)\n",
            "Requirement already satisfied: numpy>=1.8.2 in /usr/local/lib/python3.7/dist-packages (from scikit-learn==0.20.3) (1.19.5)\n"
          ],
          "name": "stdout"
        }
      ]
    },
    {
      "cell_type": "code",
      "metadata": {
        "id": "DFhjOKPfOsnI",
        "colab": {
          "base_uri": "https://localhost:8080/"
        },
        "outputId": "c04c313c-913c-452e-df7b-23367e21a706"
      },
      "source": [
        "!pip install azureml-dataprep\n",
        "!pip install azureml-dataset-runtime"
      ],
      "execution_count": null,
      "outputs": [
        {
          "output_type": "stream",
          "text": [
            "Requirement already satisfied: azureml-dataprep in /usr/local/lib/python3.7/dist-packages (2.11.2)\n",
            "Requirement already satisfied: azure-identity<1.5.0,>=1.2.0 in /usr/local/lib/python3.7/dist-packages (from azureml-dataprep) (1.4.1)\n",
            "Requirement already satisfied: azureml-dataprep-native<31.0.0,>=30.0.0 in /usr/local/lib/python3.7/dist-packages (from azureml-dataprep) (30.0.0)\n",
            "Requirement already satisfied: cloudpickle<2.0.0,>=1.1.0 in /usr/local/lib/python3.7/dist-packages (from azureml-dataprep) (1.3.0)\n",
            "Requirement already satisfied: dotnetcore2<3.0.0,>=2.1.14 in /usr/local/lib/python3.7/dist-packages (from azureml-dataprep) (2.1.20)\n",
            "Requirement already satisfied: azureml-dataprep-rslex<1.10.0a,>=1.9.0dev0 in /usr/local/lib/python3.7/dist-packages (from azureml-dataprep) (1.9.1)\n",
            "Requirement already satisfied: six>=1.6 in /usr/local/lib/python3.7/dist-packages (from azure-identity<1.5.0,>=1.2.0->azureml-dataprep) (1.15.0)\n",
            "Requirement already satisfied: azure-core<2.0.0,>=1.0.0 in /usr/local/lib/python3.7/dist-packages (from azure-identity<1.5.0,>=1.2.0->azureml-dataprep) (1.12.0)\n",
            "Requirement already satisfied: msal<2.0.0,>=1.3.0 in /usr/local/lib/python3.7/dist-packages (from azure-identity<1.5.0,>=1.2.0->azureml-dataprep) (1.10.0)\n",
            "Requirement already satisfied: cryptography>=2.1.4 in /usr/local/lib/python3.7/dist-packages (from azure-identity<1.5.0,>=1.2.0->azureml-dataprep) (3.4.6)\n",
            "Requirement already satisfied: msal-extensions~=0.2.2 in /usr/local/lib/python3.7/dist-packages (from azure-identity<1.5.0,>=1.2.0->azureml-dataprep) (0.2.2)\n",
            "Requirement already satisfied: distro>=1.2.0 in /usr/local/lib/python3.7/dist-packages (from dotnetcore2<3.0.0,>=2.1.14->azureml-dataprep) (1.5.0)\n",
            "Requirement already satisfied: requests>=2.18.4 in /usr/local/lib/python3.7/dist-packages (from azure-core<2.0.0,>=1.0.0->azure-identity<1.5.0,>=1.2.0->azureml-dataprep) (2.23.0)\n",
            "Requirement already satisfied: PyJWT[crypto]<3,>=1.0.0 in /usr/local/lib/python3.7/dist-packages (from msal<2.0.0,>=1.3.0->azure-identity<1.5.0,>=1.2.0->azureml-dataprep) (2.0.1)\n",
            "Requirement already satisfied: cffi>=1.12 in /usr/local/lib/python3.7/dist-packages (from cryptography>=2.1.4->azure-identity<1.5.0,>=1.2.0->azureml-dataprep) (1.14.5)\n",
            "Requirement already satisfied: portalocker~=1.0; platform_system != \"Windows\" in /usr/local/lib/python3.7/dist-packages (from msal-extensions~=0.2.2->azure-identity<1.5.0,>=1.2.0->azureml-dataprep) (1.7.1)\n",
            "Requirement already satisfied: chardet<4,>=3.0.2 in /usr/local/lib/python3.7/dist-packages (from requests>=2.18.4->azure-core<2.0.0,>=1.0.0->azure-identity<1.5.0,>=1.2.0->azureml-dataprep) (3.0.4)\n",
            "Requirement already satisfied: idna<3,>=2.5 in /usr/local/lib/python3.7/dist-packages (from requests>=2.18.4->azure-core<2.0.0,>=1.0.0->azure-identity<1.5.0,>=1.2.0->azureml-dataprep) (2.10)\n",
            "Requirement already satisfied: urllib3!=1.25.0,!=1.25.1,<1.26,>=1.21.1 in /usr/local/lib/python3.7/dist-packages (from requests>=2.18.4->azure-core<2.0.0,>=1.0.0->azure-identity<1.5.0,>=1.2.0->azureml-dataprep) (1.24.3)\n",
            "Requirement already satisfied: certifi>=2017.4.17 in /usr/local/lib/python3.7/dist-packages (from requests>=2.18.4->azure-core<2.0.0,>=1.0.0->azure-identity<1.5.0,>=1.2.0->azureml-dataprep) (2020.12.5)\n",
            "Requirement already satisfied: pycparser in /usr/local/lib/python3.7/dist-packages (from cffi>=1.12->cryptography>=2.1.4->azure-identity<1.5.0,>=1.2.0->azureml-dataprep) (2.20)\n",
            "Requirement already satisfied: azureml-dataset-runtime in /usr/local/lib/python3.7/dist-packages (1.24.0)\n",
            "Requirement already satisfied: pyarrow<2.0.0,>=0.17.0 in /usr/local/lib/python3.7/dist-packages (from azureml-dataset-runtime) (1.0.1)\n",
            "Requirement already satisfied: azureml-dataprep<2.12.0a,>=2.11.0a in /usr/local/lib/python3.7/dist-packages (from azureml-dataset-runtime) (2.11.2)\n",
            "Requirement already satisfied: numpy!=1.19.3; sys_platform == \"linux\" in /usr/local/lib/python3.7/dist-packages (from azureml-dataset-runtime) (1.19.5)\n",
            "Requirement already satisfied: azureml-dataprep-rslex<1.10.0a,>=1.9.0dev0 in /usr/local/lib/python3.7/dist-packages (from azureml-dataprep<2.12.0a,>=2.11.0a->azureml-dataset-runtime) (1.9.1)\n",
            "Requirement already satisfied: azure-identity<1.5.0,>=1.2.0 in /usr/local/lib/python3.7/dist-packages (from azureml-dataprep<2.12.0a,>=2.11.0a->azureml-dataset-runtime) (1.4.1)\n",
            "Requirement already satisfied: cloudpickle<2.0.0,>=1.1.0 in /usr/local/lib/python3.7/dist-packages (from azureml-dataprep<2.12.0a,>=2.11.0a->azureml-dataset-runtime) (1.3.0)\n",
            "Requirement already satisfied: azureml-dataprep-native<31.0.0,>=30.0.0 in /usr/local/lib/python3.7/dist-packages (from azureml-dataprep<2.12.0a,>=2.11.0a->azureml-dataset-runtime) (30.0.0)\n",
            "Requirement already satisfied: dotnetcore2<3.0.0,>=2.1.14 in /usr/local/lib/python3.7/dist-packages (from azureml-dataprep<2.12.0a,>=2.11.0a->azureml-dataset-runtime) (2.1.20)\n",
            "Requirement already satisfied: six>=1.6 in /usr/local/lib/python3.7/dist-packages (from azure-identity<1.5.0,>=1.2.0->azureml-dataprep<2.12.0a,>=2.11.0a->azureml-dataset-runtime) (1.15.0)\n",
            "Requirement already satisfied: msal-extensions~=0.2.2 in /usr/local/lib/python3.7/dist-packages (from azure-identity<1.5.0,>=1.2.0->azureml-dataprep<2.12.0a,>=2.11.0a->azureml-dataset-runtime) (0.2.2)\n",
            "Requirement already satisfied: azure-core<2.0.0,>=1.0.0 in /usr/local/lib/python3.7/dist-packages (from azure-identity<1.5.0,>=1.2.0->azureml-dataprep<2.12.0a,>=2.11.0a->azureml-dataset-runtime) (1.12.0)\n",
            "Requirement already satisfied: msal<2.0.0,>=1.3.0 in /usr/local/lib/python3.7/dist-packages (from azure-identity<1.5.0,>=1.2.0->azureml-dataprep<2.12.0a,>=2.11.0a->azureml-dataset-runtime) (1.10.0)\n",
            "Requirement already satisfied: cryptography>=2.1.4 in /usr/local/lib/python3.7/dist-packages (from azure-identity<1.5.0,>=1.2.0->azureml-dataprep<2.12.0a,>=2.11.0a->azureml-dataset-runtime) (3.4.6)\n",
            "Requirement already satisfied: distro>=1.2.0 in /usr/local/lib/python3.7/dist-packages (from dotnetcore2<3.0.0,>=2.1.14->azureml-dataprep<2.12.0a,>=2.11.0a->azureml-dataset-runtime) (1.5.0)\n",
            "Requirement already satisfied: portalocker~=1.0; platform_system != \"Windows\" in /usr/local/lib/python3.7/dist-packages (from msal-extensions~=0.2.2->azure-identity<1.5.0,>=1.2.0->azureml-dataprep<2.12.0a,>=2.11.0a->azureml-dataset-runtime) (1.7.1)\n",
            "Requirement already satisfied: requests>=2.18.4 in /usr/local/lib/python3.7/dist-packages (from azure-core<2.0.0,>=1.0.0->azure-identity<1.5.0,>=1.2.0->azureml-dataprep<2.12.0a,>=2.11.0a->azureml-dataset-runtime) (2.23.0)\n",
            "Requirement already satisfied: PyJWT[crypto]<3,>=1.0.0 in /usr/local/lib/python3.7/dist-packages (from msal<2.0.0,>=1.3.0->azure-identity<1.5.0,>=1.2.0->azureml-dataprep<2.12.0a,>=2.11.0a->azureml-dataset-runtime) (2.0.1)\n",
            "Requirement already satisfied: cffi>=1.12 in /usr/local/lib/python3.7/dist-packages (from cryptography>=2.1.4->azure-identity<1.5.0,>=1.2.0->azureml-dataprep<2.12.0a,>=2.11.0a->azureml-dataset-runtime) (1.14.5)\n",
            "Requirement already satisfied: chardet<4,>=3.0.2 in /usr/local/lib/python3.7/dist-packages (from requests>=2.18.4->azure-core<2.0.0,>=1.0.0->azure-identity<1.5.0,>=1.2.0->azureml-dataprep<2.12.0a,>=2.11.0a->azureml-dataset-runtime) (3.0.4)\n",
            "Requirement already satisfied: idna<3,>=2.5 in /usr/local/lib/python3.7/dist-packages (from requests>=2.18.4->azure-core<2.0.0,>=1.0.0->azure-identity<1.5.0,>=1.2.0->azureml-dataprep<2.12.0a,>=2.11.0a->azureml-dataset-runtime) (2.10)\n",
            "Requirement already satisfied: certifi>=2017.4.17 in /usr/local/lib/python3.7/dist-packages (from requests>=2.18.4->azure-core<2.0.0,>=1.0.0->azure-identity<1.5.0,>=1.2.0->azureml-dataprep<2.12.0a,>=2.11.0a->azureml-dataset-runtime) (2020.12.5)\n",
            "Requirement already satisfied: urllib3!=1.25.0,!=1.25.1,<1.26,>=1.21.1 in /usr/local/lib/python3.7/dist-packages (from requests>=2.18.4->azure-core<2.0.0,>=1.0.0->azure-identity<1.5.0,>=1.2.0->azureml-dataprep<2.12.0a,>=2.11.0a->azureml-dataset-runtime) (1.24.3)\n",
            "Requirement already satisfied: pycparser in /usr/local/lib/python3.7/dist-packages (from cffi>=1.12->cryptography>=2.1.4->azure-identity<1.5.0,>=1.2.0->azureml-dataprep<2.12.0a,>=2.11.0a->azureml-dataset-runtime) (2.20)\n"
          ],
          "name": "stdout"
        }
      ]
    },
    {
      "cell_type": "code",
      "metadata": {
        "id": "_5B0Q0CjIcSn"
      },
      "source": [
        "from sklearn.model_selection import train_test_split\n",
        "from sklearn.ensemble import RandomForestClassifier as rfc\n",
        "from sklearn.linear_model import Ridge\n",
        "from sklearn.metrics import mean_squared_error\n",
        "from sklearn.externals import joblib\n",
        "import sklearn\n",
        "import math\n",
        "from azureml.core import Experiment\n",
        "import random\n",
        "import pandas as pd\n",
        "from sklearn.ensemble import RandomForestClassifier as rfc\n",
        "from sklearn.ensemble import RandomForestRegressor as rfr\n",
        "import uuid\n",
        "# O azureml-core da versão 1.0.72 ou superior é requerido\n",
        "# é necessário azureml-dataprep[pandas] na versão 1.1.34 ou superior\n",
        "from azureml.core import Workspace, Dataset"
      ],
      "execution_count": null,
      "outputs": []
    },
    {
      "cell_type": "code",
      "metadata": {
        "id": "oRi0ynpAQXJp"
      },
      "source": [
        "from azureml.core import Model"
      ],
      "execution_count": null,
      "outputs": []
    },
    {
      "cell_type": "code",
      "metadata": {
        "id": "hmU7rjl1IJCH"
      },
      "source": [
        "def get_a_funnyName():\n",
        "    f = open(\"azure-ml/datasets/names/funnynames.txt\", \"r\")\n",
        "    nomes = f.readlines()\n",
        "    return random.choice(nomes).rstrip('\\n')"
      ],
      "execution_count": null,
      "outputs": []
    },
    {
      "cell_type": "markdown",
      "metadata": {
        "id": "suK9IqHdI17i"
      },
      "source": [
        "# Conexão"
      ]
    },
    {
      "cell_type": "code",
      "metadata": {
        "id": "OVh5aCvbIZV5"
      },
      "source": [
        "#Trocar os códigos abaixo pelos da sua instância!\n",
        "subscription_id = '5298dbd8-b7e6-432a-b8fc-828328490c29'\n",
        "resource_group = 'Santander'\n",
        "workspace_name = 'AreaParaOSantander'\n",
        "\n",
        "workspace = Workspace(subscription_id, resource_group, workspace_name)"
      ],
      "execution_count": null,
      "outputs": []
    },
    {
      "cell_type": "markdown",
      "metadata": {
        "id": "9env-yrvIo3-"
      },
      "source": [
        "# Carga de dados"
      ]
    },
    {
      "cell_type": "code",
      "metadata": {
        "id": "XZn5hxK3In1W",
        "colab": {
          "base_uri": "https://localhost:8080/",
          "height": 217
        },
        "outputId": "022063ae-95c1-45aa-a4eb-bf5ac47f2cd4"
      },
      "source": [
        "mydf = pd.read_csv('azure-ml/datasets/statistical/BaseDefault01.csv')\n",
        "mydf.head()"
      ],
      "execution_count": null,
      "outputs": [
        {
          "output_type": "execute_result",
          "data": {
            "text/html": [
              "<div>\n",
              "<style scoped>\n",
              "    .dataframe tbody tr th:only-of-type {\n",
              "        vertical-align: middle;\n",
              "    }\n",
              "\n",
              "    .dataframe tbody tr th {\n",
              "        vertical-align: top;\n",
              "    }\n",
              "\n",
              "    .dataframe thead th {\n",
              "        text-align: right;\n",
              "    }\n",
              "</style>\n",
              "<table border=\"1\" class=\"dataframe\">\n",
              "  <thead>\n",
              "    <tr style=\"text-align: right;\">\n",
              "      <th></th>\n",
              "      <th>nome</th>\n",
              "      <th>renda</th>\n",
              "      <th>idade</th>\n",
              "      <th>etnia</th>\n",
              "      <th>sexo</th>\n",
              "      <th>casapropria</th>\n",
              "      <th>outrasrendas</th>\n",
              "      <th>estadocivil</th>\n",
              "      <th>escolaridade</th>\n",
              "      <th>default</th>\n",
              "    </tr>\n",
              "  </thead>\n",
              "  <tbody>\n",
              "    <tr>\n",
              "      <th>0</th>\n",
              "      <td>Simon, Rodriguez</td>\n",
              "      <td>4472.190323</td>\n",
              "      <td>42.036031</td>\n",
              "      <td>0</td>\n",
              "      <td>0</td>\n",
              "      <td>1</td>\n",
              "      <td>0</td>\n",
              "      <td>0</td>\n",
              "      <td>3</td>\n",
              "      <td>0</td>\n",
              "    </tr>\n",
              "    <tr>\n",
              "      <th>1</th>\n",
              "      <td>Daniel, Castro</td>\n",
              "      <td>4592.774312</td>\n",
              "      <td>48.230662</td>\n",
              "      <td>1</td>\n",
              "      <td>0</td>\n",
              "      <td>1</td>\n",
              "      <td>0</td>\n",
              "      <td>1</td>\n",
              "      <td>2</td>\n",
              "      <td>0</td>\n",
              "    </tr>\n",
              "    <tr>\n",
              "      <th>2</th>\n",
              "      <td>Myhue, Lin</td>\n",
              "      <td>2486.538807</td>\n",
              "      <td>56.881709</td>\n",
              "      <td>0</td>\n",
              "      <td>1</td>\n",
              "      <td>0</td>\n",
              "      <td>0</td>\n",
              "      <td>0</td>\n",
              "      <td>0</td>\n",
              "      <td>1</td>\n",
              "    </tr>\n",
              "    <tr>\n",
              "      <th>3</th>\n",
              "      <td>Destiny, Richardson-Pacheco</td>\n",
              "      <td>2852.340117</td>\n",
              "      <td>51.684021</td>\n",
              "      <td>1</td>\n",
              "      <td>1</td>\n",
              "      <td>0</td>\n",
              "      <td>0</td>\n",
              "      <td>0</td>\n",
              "      <td>2</td>\n",
              "      <td>1</td>\n",
              "    </tr>\n",
              "    <tr>\n",
              "      <th>4</th>\n",
              "      <td>Brittany, Cohen-Wilson</td>\n",
              "      <td>4703.782812</td>\n",
              "      <td>50.729078</td>\n",
              "      <td>1</td>\n",
              "      <td>1</td>\n",
              "      <td>1</td>\n",
              "      <td>0</td>\n",
              "      <td>1</td>\n",
              "      <td>2</td>\n",
              "      <td>0</td>\n",
              "    </tr>\n",
              "  </tbody>\n",
              "</table>\n",
              "</div>"
            ],
            "text/plain": [
              "                          nome        renda  ...  escolaridade  default\n",
              "0             Simon, Rodriguez  4472.190323  ...             3        0\n",
              "1               Daniel, Castro  4592.774312  ...             2        0\n",
              "2                   Myhue, Lin  2486.538807  ...             0        1\n",
              "3  Destiny, Richardson-Pacheco  2852.340117  ...             2        1\n",
              "4       Brittany, Cohen-Wilson  4703.782812  ...             2        0\n",
              "\n",
              "[5 rows x 10 columns]"
            ]
          },
          "metadata": {
            "tags": []
          },
          "execution_count": 8
        }
      ]
    },
    {
      "cell_type": "code",
      "metadata": {
        "id": "cho9hOmWOVPb",
        "colab": {
          "base_uri": "https://localhost:8080/",
          "height": 217
        },
        "outputId": "fc269513-5222-4475-e32d-263dfa5608a5"
      },
      "source": [
        "dataset = Dataset.get_by_name(workspace, name='Risco-De-Credito')\n",
        "df = dataset.to_pandas_dataframe()\n",
        "df.head()"
      ],
      "execution_count": null,
      "outputs": [
        {
          "output_type": "execute_result",
          "data": {
            "text/html": [
              "<div>\n",
              "<style scoped>\n",
              "    .dataframe tbody tr th:only-of-type {\n",
              "        vertical-align: middle;\n",
              "    }\n",
              "\n",
              "    .dataframe tbody tr th {\n",
              "        vertical-align: top;\n",
              "    }\n",
              "\n",
              "    .dataframe thead th {\n",
              "        text-align: right;\n",
              "    }\n",
              "</style>\n",
              "<table border=\"1\" class=\"dataframe\">\n",
              "  <thead>\n",
              "    <tr style=\"text-align: right;\">\n",
              "      <th></th>\n",
              "      <th>nome</th>\n",
              "      <th>renda</th>\n",
              "      <th>idade</th>\n",
              "      <th>etnia</th>\n",
              "      <th>sexo</th>\n",
              "      <th>casapropria</th>\n",
              "      <th>outrasrendas</th>\n",
              "      <th>estadocivil</th>\n",
              "      <th>escolaridade</th>\n",
              "      <th>default</th>\n",
              "    </tr>\n",
              "  </thead>\n",
              "  <tbody>\n",
              "    <tr>\n",
              "      <th>0</th>\n",
              "      <td>Simon, Rodriguez</td>\n",
              "      <td>4472.190323</td>\n",
              "      <td>42.036031</td>\n",
              "      <td>0</td>\n",
              "      <td>0</td>\n",
              "      <td>1</td>\n",
              "      <td>0</td>\n",
              "      <td>0</td>\n",
              "      <td>3</td>\n",
              "      <td>0</td>\n",
              "    </tr>\n",
              "    <tr>\n",
              "      <th>1</th>\n",
              "      <td>Daniel, Castro</td>\n",
              "      <td>4592.774312</td>\n",
              "      <td>48.230662</td>\n",
              "      <td>1</td>\n",
              "      <td>0</td>\n",
              "      <td>1</td>\n",
              "      <td>0</td>\n",
              "      <td>1</td>\n",
              "      <td>2</td>\n",
              "      <td>0</td>\n",
              "    </tr>\n",
              "    <tr>\n",
              "      <th>2</th>\n",
              "      <td>Myhue, Lin</td>\n",
              "      <td>2486.538807</td>\n",
              "      <td>56.881709</td>\n",
              "      <td>0</td>\n",
              "      <td>1</td>\n",
              "      <td>0</td>\n",
              "      <td>0</td>\n",
              "      <td>0</td>\n",
              "      <td>0</td>\n",
              "      <td>1</td>\n",
              "    </tr>\n",
              "    <tr>\n",
              "      <th>3</th>\n",
              "      <td>Destiny, Richardson-Pacheco</td>\n",
              "      <td>2852.340117</td>\n",
              "      <td>51.684021</td>\n",
              "      <td>1</td>\n",
              "      <td>1</td>\n",
              "      <td>0</td>\n",
              "      <td>0</td>\n",
              "      <td>0</td>\n",
              "      <td>2</td>\n",
              "      <td>1</td>\n",
              "    </tr>\n",
              "    <tr>\n",
              "      <th>4</th>\n",
              "      <td>Brittany, Cohen-Wilson</td>\n",
              "      <td>4703.782812</td>\n",
              "      <td>50.729078</td>\n",
              "      <td>1</td>\n",
              "      <td>1</td>\n",
              "      <td>1</td>\n",
              "      <td>0</td>\n",
              "      <td>1</td>\n",
              "      <td>2</td>\n",
              "      <td>0</td>\n",
              "    </tr>\n",
              "  </tbody>\n",
              "</table>\n",
              "</div>"
            ],
            "text/plain": [
              "                          nome        renda  ...  escolaridade  default\n",
              "0             Simon, Rodriguez  4472.190323  ...             3        0\n",
              "1               Daniel, Castro  4592.774312  ...             2        0\n",
              "2                   Myhue, Lin  2486.538807  ...             0        1\n",
              "3  Destiny, Richardson-Pacheco  2852.340117  ...             2        1\n",
              "4       Brittany, Cohen-Wilson  4703.782812  ...             2        0\n",
              "\n",
              "[5 rows x 10 columns]"
            ]
          },
          "metadata": {
            "tags": []
          },
          "execution_count": 9
        }
      ]
    },
    {
      "cell_type": "markdown",
      "metadata": {
        "id": "Z0R5epW7ImaD"
      },
      "source": [
        "# Treinamento"
      ]
    },
    {
      "cell_type": "markdown",
      "metadata": {
        "id": "t8GQvfh7KtBR"
      },
      "source": [
        "Identifica no dataset as variáveis independentes e a variavel alvo"
      ]
    },
    {
      "cell_type": "code",
      "metadata": {
        "id": "heZL--aQIuBj"
      },
      "source": [
        "targetcol = 'default'\n",
        "y = mydf[targetcol]"
      ],
      "execution_count": null,
      "outputs": []
    },
    {
      "cell_type": "markdown",
      "metadata": {
        "id": "vfA2s7A2KvJz"
      },
      "source": [
        "Cria experimento"
      ]
    },
    {
      "cell_type": "code",
      "metadata": {
        "id": "Vdok5L_BJO36"
      },
      "source": [
        "experiment = Experiment(workspace=workspace, name=\"Experimento_Banco\")"
      ],
      "execution_count": null,
      "outputs": []
    },
    {
      "cell_type": "markdown",
      "metadata": {
        "id": "vONEcCfCKzcs"
      },
      "source": [
        "## Treina modelo 01 (Classificador)"
      ]
    },
    {
      "cell_type": "markdown",
      "metadata": {
        "id": "jaWEEOzXL48l"
      },
      "source": [
        "Cria uma execução para o experimento"
      ]
    },
    {
      "cell_type": "code",
      "metadata": {
        "id": "7cqi3jgrL9Os"
      },
      "source": [
        "run = experiment.start_logging(run_id= \"Classificador1_\" + str( uuid.uuid1() ) )\n",
        "run.log(\"Tipo\", \"Classificador\")"
      ],
      "execution_count": null,
      "outputs": []
    },
    {
      "cell_type": "code",
      "metadata": {
        "id": "rmNQYJTiJTMo",
        "colab": {
          "base_uri": "https://localhost:8080/"
        },
        "outputId": "61ecb937-80f5-40f8-c12e-a110db0773d0"
      },
      "source": [
        "independentcols = ['renda', 'idade', 'etnia', 'sexo', 'casapropria', 'outrasrendas', 'estadocivil', 'escolaridade']\n",
        "x = mydf[independentcols]\n",
        "clf = rfc()\n",
        "clf.fit(X=x, y=y)\n",
        "clf.independentcols = independentcols"
      ],
      "execution_count": null,
      "outputs": [
        {
          "output_type": "stream",
          "text": [
            "/usr/local/lib/python3.7/dist-packages/sklearn/ensemble/forest.py:246: FutureWarning: The default value of n_estimators will change from 10 in version 0.20 to 100 in 0.22.\n",
            "  \"10 in version 0.20 to 100 in 0.22.\", FutureWarning)\n"
          ],
          "name": "stderr"
        }
      ]
    },
    {
      "cell_type": "markdown",
      "metadata": {
        "id": "O3iiNudfK4mD"
      },
      "source": [
        "Avaliações e Logs"
      ]
    },
    {
      "cell_type": "code",
      "metadata": {
        "id": "B0eStUJMKfKJ",
        "colab": {
          "base_uri": "https://localhost:8080/"
        },
        "outputId": "5a1aeb4f-158d-4d9d-ee3c-50c9be8f69e4"
      },
      "source": [
        "clf_acuracia = clf.score(X=x, y=y)\n",
        "print(\"Modelo 01 (classificador), criado com acurácia de: [{0}]\".format(clf_acuracia))\n",
        "run.log(\"acuracia\", clf_acuracia)"
      ],
      "execution_count": null,
      "outputs": [
        {
          "output_type": "stream",
          "text": [
            "Modelo 01 (classificador), criado com acurácia de: [0.98707]\n"
          ],
          "name": "stdout"
        }
      ]
    },
    {
      "cell_type": "code",
      "metadata": {
        "id": "u9kTVxugK-ry"
      },
      "source": [
        "#Demais logs (não serão comparados)\n",
        "run.log(\"Versao sklearn\", sklearn.__version__)\n",
        "run.log(\"criterion\", clf.criterion)\n",
        "run.log(\"n_estimators\", clf.n_estimators)\n",
        "run.log(\"min_samples_leaf\", clf.min_samples_leaf)\n",
        "run.log(\"max_depth\",  str(clf.max_depth))\n",
        "run.log_list(\"Inputs\", independentcols)"
      ],
      "execution_count": null,
      "outputs": []
    },
    {
      "cell_type": "markdown",
      "metadata": {
        "id": "cInn2_XSLBcX"
      },
      "source": [
        "Exporta o modelo"
      ]
    },
    {
      "cell_type": "code",
      "metadata": {
        "id": "YcDgH7oqK_tj",
        "colab": {
          "base_uri": "https://localhost:8080/"
        },
        "outputId": "9074773f-a9fb-4624-9199-6180db518d14"
      },
      "source": [
        "model_name = \"nome_arquivo.pkl\"\n",
        "filename = \"outputs/\" + model_name\n",
        "joblib.dump(value=clf, filename=filename)"
      ],
      "execution_count": null,
      "outputs": [
        {
          "output_type": "stream",
          "text": [
            "/usr/local/lib/python3.7/dist-packages/sklearn/externals/joblib/numpy_pickle.py:104: DeprecationWarning: tostring() is deprecated. Use tobytes() instead.\n",
            "  pickler.file_handle.write(chunk.tostring('C'))\n",
            "/usr/local/lib/python3.7/dist-packages/sklearn/externals/joblib/numpy_pickle.py:104: DeprecationWarning: tostring() is deprecated. Use tobytes() instead.\n",
            "  pickler.file_handle.write(chunk.tostring('C'))\n",
            "/usr/local/lib/python3.7/dist-packages/sklearn/externals/joblib/numpy_pickle.py:104: DeprecationWarning: tostring() is deprecated. Use tobytes() instead.\n",
            "  pickler.file_handle.write(chunk.tostring('C'))\n",
            "/usr/local/lib/python3.7/dist-packages/sklearn/externals/joblib/numpy_pickle.py:104: DeprecationWarning: tostring() is deprecated. Use tobytes() instead.\n",
            "  pickler.file_handle.write(chunk.tostring('C'))\n",
            "/usr/local/lib/python3.7/dist-packages/sklearn/externals/joblib/numpy_pickle.py:104: DeprecationWarning: tostring() is deprecated. Use tobytes() instead.\n",
            "  pickler.file_handle.write(chunk.tostring('C'))\n",
            "/usr/local/lib/python3.7/dist-packages/sklearn/externals/joblib/numpy_pickle.py:104: DeprecationWarning: tostring() is deprecated. Use tobytes() instead.\n",
            "  pickler.file_handle.write(chunk.tostring('C'))\n",
            "/usr/local/lib/python3.7/dist-packages/sklearn/externals/joblib/numpy_pickle.py:104: DeprecationWarning: tostring() is deprecated. Use tobytes() instead.\n",
            "  pickler.file_handle.write(chunk.tostring('C'))\n",
            "/usr/local/lib/python3.7/dist-packages/sklearn/externals/joblib/numpy_pickle.py:104: DeprecationWarning: tostring() is deprecated. Use tobytes() instead.\n",
            "  pickler.file_handle.write(chunk.tostring('C'))\n",
            "/usr/local/lib/python3.7/dist-packages/sklearn/externals/joblib/numpy_pickle.py:104: DeprecationWarning: tostring() is deprecated. Use tobytes() instead.\n",
            "  pickler.file_handle.write(chunk.tostring('C'))\n",
            "/usr/local/lib/python3.7/dist-packages/sklearn/externals/joblib/numpy_pickle.py:104: DeprecationWarning: tostring() is deprecated. Use tobytes() instead.\n",
            "  pickler.file_handle.write(chunk.tostring('C'))\n",
            "/usr/local/lib/python3.7/dist-packages/sklearn/externals/joblib/numpy_pickle.py:104: DeprecationWarning: tostring() is deprecated. Use tobytes() instead.\n",
            "  pickler.file_handle.write(chunk.tostring('C'))\n",
            "/usr/local/lib/python3.7/dist-packages/sklearn/externals/joblib/numpy_pickle.py:104: DeprecationWarning: tostring() is deprecated. Use tobytes() instead.\n",
            "  pickler.file_handle.write(chunk.tostring('C'))\n",
            "/usr/local/lib/python3.7/dist-packages/sklearn/externals/joblib/numpy_pickle.py:104: DeprecationWarning: tostring() is deprecated. Use tobytes() instead.\n",
            "  pickler.file_handle.write(chunk.tostring('C'))\n",
            "/usr/local/lib/python3.7/dist-packages/sklearn/externals/joblib/numpy_pickle.py:104: DeprecationWarning: tostring() is deprecated. Use tobytes() instead.\n",
            "  pickler.file_handle.write(chunk.tostring('C'))\n",
            "/usr/local/lib/python3.7/dist-packages/sklearn/externals/joblib/numpy_pickle.py:104: DeprecationWarning: tostring() is deprecated. Use tobytes() instead.\n",
            "  pickler.file_handle.write(chunk.tostring('C'))\n",
            "/usr/local/lib/python3.7/dist-packages/sklearn/externals/joblib/numpy_pickle.py:104: DeprecationWarning: tostring() is deprecated. Use tobytes() instead.\n",
            "  pickler.file_handle.write(chunk.tostring('C'))\n",
            "/usr/local/lib/python3.7/dist-packages/sklearn/externals/joblib/numpy_pickle.py:104: DeprecationWarning: tostring() is deprecated. Use tobytes() instead.\n",
            "  pickler.file_handle.write(chunk.tostring('C'))\n",
            "/usr/local/lib/python3.7/dist-packages/sklearn/externals/joblib/numpy_pickle.py:104: DeprecationWarning: tostring() is deprecated. Use tobytes() instead.\n",
            "  pickler.file_handle.write(chunk.tostring('C'))\n",
            "/usr/local/lib/python3.7/dist-packages/sklearn/externals/joblib/numpy_pickle.py:104: DeprecationWarning: tostring() is deprecated. Use tobytes() instead.\n",
            "  pickler.file_handle.write(chunk.tostring('C'))\n",
            "/usr/local/lib/python3.7/dist-packages/sklearn/externals/joblib/numpy_pickle.py:104: DeprecationWarning: tostring() is deprecated. Use tobytes() instead.\n",
            "  pickler.file_handle.write(chunk.tostring('C'))\n",
            "/usr/local/lib/python3.7/dist-packages/sklearn/externals/joblib/numpy_pickle.py:104: DeprecationWarning: tostring() is deprecated. Use tobytes() instead.\n",
            "  pickler.file_handle.write(chunk.tostring('C'))\n",
            "/usr/local/lib/python3.7/dist-packages/sklearn/externals/joblib/numpy_pickle.py:104: DeprecationWarning: tostring() is deprecated. Use tobytes() instead.\n",
            "  pickler.file_handle.write(chunk.tostring('C'))\n",
            "/usr/local/lib/python3.7/dist-packages/sklearn/externals/joblib/numpy_pickle.py:104: DeprecationWarning: tostring() is deprecated. Use tobytes() instead.\n",
            "  pickler.file_handle.write(chunk.tostring('C'))\n",
            "/usr/local/lib/python3.7/dist-packages/sklearn/externals/joblib/numpy_pickle.py:104: DeprecationWarning: tostring() is deprecated. Use tobytes() instead.\n",
            "  pickler.file_handle.write(chunk.tostring('C'))\n",
            "/usr/local/lib/python3.7/dist-packages/sklearn/externals/joblib/numpy_pickle.py:104: DeprecationWarning: tostring() is deprecated. Use tobytes() instead.\n",
            "  pickler.file_handle.write(chunk.tostring('C'))\n",
            "/usr/local/lib/python3.7/dist-packages/sklearn/externals/joblib/numpy_pickle.py:104: DeprecationWarning: tostring() is deprecated. Use tobytes() instead.\n",
            "  pickler.file_handle.write(chunk.tostring('C'))\n",
            "/usr/local/lib/python3.7/dist-packages/sklearn/externals/joblib/numpy_pickle.py:104: DeprecationWarning: tostring() is deprecated. Use tobytes() instead.\n",
            "  pickler.file_handle.write(chunk.tostring('C'))\n",
            "/usr/local/lib/python3.7/dist-packages/sklearn/externals/joblib/numpy_pickle.py:104: DeprecationWarning: tostring() is deprecated. Use tobytes() instead.\n",
            "  pickler.file_handle.write(chunk.tostring('C'))\n",
            "/usr/local/lib/python3.7/dist-packages/sklearn/externals/joblib/numpy_pickle.py:104: DeprecationWarning: tostring() is deprecated. Use tobytes() instead.\n",
            "  pickler.file_handle.write(chunk.tostring('C'))\n",
            "/usr/local/lib/python3.7/dist-packages/sklearn/externals/joblib/numpy_pickle.py:104: DeprecationWarning: tostring() is deprecated. Use tobytes() instead.\n",
            "  pickler.file_handle.write(chunk.tostring('C'))\n",
            "/usr/local/lib/python3.7/dist-packages/sklearn/externals/joblib/numpy_pickle.py:104: DeprecationWarning: tostring() is deprecated. Use tobytes() instead.\n",
            "  pickler.file_handle.write(chunk.tostring('C'))\n",
            "/usr/local/lib/python3.7/dist-packages/sklearn/externals/joblib/numpy_pickle.py:104: DeprecationWarning: tostring() is deprecated. Use tobytes() instead.\n",
            "  pickler.file_handle.write(chunk.tostring('C'))\n",
            "/usr/local/lib/python3.7/dist-packages/sklearn/externals/joblib/numpy_pickle.py:104: DeprecationWarning: tostring() is deprecated. Use tobytes() instead.\n",
            "  pickler.file_handle.write(chunk.tostring('C'))\n",
            "/usr/local/lib/python3.7/dist-packages/sklearn/externals/joblib/numpy_pickle.py:104: DeprecationWarning: tostring() is deprecated. Use tobytes() instead.\n",
            "  pickler.file_handle.write(chunk.tostring('C'))\n",
            "/usr/local/lib/python3.7/dist-packages/sklearn/externals/joblib/numpy_pickle.py:104: DeprecationWarning: tostring() is deprecated. Use tobytes() instead.\n",
            "  pickler.file_handle.write(chunk.tostring('C'))\n",
            "/usr/local/lib/python3.7/dist-packages/sklearn/externals/joblib/numpy_pickle.py:104: DeprecationWarning: tostring() is deprecated. Use tobytes() instead.\n",
            "  pickler.file_handle.write(chunk.tostring('C'))\n",
            "/usr/local/lib/python3.7/dist-packages/sklearn/externals/joblib/numpy_pickle.py:104: DeprecationWarning: tostring() is deprecated. Use tobytes() instead.\n",
            "  pickler.file_handle.write(chunk.tostring('C'))\n",
            "/usr/local/lib/python3.7/dist-packages/sklearn/externals/joblib/numpy_pickle.py:104: DeprecationWarning: tostring() is deprecated. Use tobytes() instead.\n",
            "  pickler.file_handle.write(chunk.tostring('C'))\n",
            "/usr/local/lib/python3.7/dist-packages/sklearn/externals/joblib/numpy_pickle.py:104: DeprecationWarning: tostring() is deprecated. Use tobytes() instead.\n",
            "  pickler.file_handle.write(chunk.tostring('C'))\n",
            "/usr/local/lib/python3.7/dist-packages/sklearn/externals/joblib/numpy_pickle.py:104: DeprecationWarning: tostring() is deprecated. Use tobytes() instead.\n",
            "  pickler.file_handle.write(chunk.tostring('C'))\n",
            "/usr/local/lib/python3.7/dist-packages/sklearn/externals/joblib/numpy_pickle.py:104: DeprecationWarning: tostring() is deprecated. Use tobytes() instead.\n",
            "  pickler.file_handle.write(chunk.tostring('C'))\n"
          ],
          "name": "stderr"
        },
        {
          "output_type": "execute_result",
          "data": {
            "text/plain": [
              "['outputs/nome_arquivo.pkl']"
            ]
          },
          "metadata": {
            "tags": []
          },
          "execution_count": 16
        }
      ]
    },
    {
      "cell_type": "markdown",
      "metadata": {
        "id": "dlNU5yWHLOXA"
      },
      "source": [
        "Upload do arquivo, deve demorar um pouco"
      ]
    },
    {
      "cell_type": "code",
      "metadata": {
        "id": "CsMX60WPLDge",
        "colab": {
          "base_uri": "https://localhost:8080/"
        },
        "outputId": "78140369-d9da-41b3-c89d-5ac91da94f78"
      },
      "source": [
        "run.upload_file(name=model_name, path_or_stream=filename)"
      ],
      "execution_count": null,
      "outputs": [
        {
          "output_type": "execute_result",
          "data": {
            "text/plain": [
              "<azureml._restclient.models.batch_artifact_content_information_dto.BatchArtifactContentInformationDto at 0x7fa30e502b50>"
            ]
          },
          "metadata": {
            "tags": []
          },
          "execution_count": 17
        }
      ]
    },
    {
      "cell_type": "code",
      "metadata": {
        "colab": {
          "base_uri": "https://localhost:8080/"
        },
        "id": "6Yh0rYolqSMC",
        "outputId": "b7b5c882-63f3-47d2-ab97-088733f332e5"
      },
      "source": [
        "ls -l outputs"
      ],
      "execution_count": null,
      "outputs": [
        {
          "output_type": "stream",
          "text": [
            "total 15852\n",
            "-rw-r--r-- 1 root root 16228543 Mar 16 23:19 nome_arquivo.pkl\n"
          ],
          "name": "stdout"
        }
      ]
    },
    {
      "cell_type": "markdown",
      "metadata": {
        "id": "ffJHmvWdLqzt"
      },
      "source": [
        "Finaliza o experimento"
      ]
    },
    {
      "cell_type": "code",
      "metadata": {
        "id": "v-TI9v7CLPpc"
      },
      "source": [
        "run.complete()"
      ],
      "execution_count": null,
      "outputs": []
    },
    {
      "cell_type": "markdown",
      "metadata": {
        "id": "DwH7a5fqeS_d"
      },
      "source": [
        "# Atividade 1 : Análise na Azure"
      ]
    },
    {
      "cell_type": "markdown",
      "metadata": {
        "id": "OMxbK7gHf64b"
      },
      "source": [
        "Crie n modelos, e envie para a Azure. Em seguida, compare os resultados dentro da plataforma.  \n",
        "\n",
        "Obs.:  \n",
        "n = 8 $\\times$ 4 $\\times$ 3"
      ]
    },
    {
      "cell_type": "code",
      "metadata": {
        "id": "CSCs0xhSuEW_"
      },
      "source": [
        "experiment = Experiment(workspace=workspace, name=\"Experimento_RiscoCredito\")"
      ],
      "execution_count": null,
      "outputs": []
    },
    {
      "cell_type": "code",
      "metadata": {
        "id": "6I7iB9wDeVCw"
      },
      "source": [
        "n_estimators = [1, 2, 3, 5, 10, 20, 30, 100]\n",
        "max_depth = [1, 2, 3, None]\n",
        "min_samples_leaf = [10, 5, 1]"
      ],
      "execution_count": null,
      "outputs": []
    },
    {
      "cell_type": "code",
      "metadata": {
        "id": "XctN9Z7At7NF"
      },
      "source": [
        ""
      ],
      "execution_count": null,
      "outputs": []
    },
    {
      "cell_type": "markdown",
      "metadata": {
        "id": "CkDpalD0LV4S"
      },
      "source": [
        "# Atividade 2 : Regressor\n",
        "\n",
        "Treinar um segundo modelo (Regressor sem a variavel etnia)"
      ]
    },
    {
      "cell_type": "code",
      "metadata": {
        "id": "tEnea3IVLYEC"
      },
      "source": [
        "independentcols = ['renda', 'idade', 'sexo', 'casapropria', 'outrasrendas', 'estadocivil', 'escolaridade']"
      ],
      "execution_count": null,
      "outputs": []
    },
    {
      "cell_type": "markdown",
      "metadata": {
        "id": "tULAGP7hLhBU"
      },
      "source": [
        "- Usar o classificador acima como modelo\n",
        "- Gravar log de algumas variáveis\n",
        "- Gravar log da acurácia\n",
        "- Exportar o modelo em arquivo\n",
        "- Enviar para AZURE Cloud"
      ]
    },
    {
      "cell_type": "code",
      "metadata": {
        "id": "oxJZdAN4fG_w"
      },
      "source": [
        "# Upload direto\n",
        "# modelo = Model.register(workspace=workspace, model_name=\"ModeloUploadDireto\", \n",
        "#                        model_framework=Model.Framework.SCIKITLEARN,\n",
        "#                        model_framework_version='0.20.3',\n",
        "#                        model_path=filename)"
      ],
      "execution_count": null,
      "outputs": []
    }
  ]
}