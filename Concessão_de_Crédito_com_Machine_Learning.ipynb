{
  "nbformat": 4,
  "nbformat_minor": 0,
  "metadata": {
    "colab": {
      "name": "Concessão de Crédito com Machine Learning.ipynb",
      "provenance": [],
      "toc_visible": true
    },
    "kernelspec": {
      "name": "python3",
      "display_name": "Python 3"
    }
  },
  "cells": [
    {
      "cell_type": "markdown",
      "metadata": {
        "id": "pG-o99QvFlS4"
      },
      "source": [
        "# Configurações"
      ]
    },
    {
      "cell_type": "markdown",
      "metadata": {
        "id": "aiXgHWzaKgcO"
      },
      "source": [
        "![alt text](https://github.com/elthonf/plataformas-cognitivas-docker/blob/master/images/capa.png?raw=1)"
      ]
    },
    {
      "cell_type": "code",
      "metadata": {
        "id": "AII-AcywAFml",
        "cellView": "form"
      },
      "source": [
        "#@title Parâmetros da solução\n",
        "#@markdown Informe a quantidade de clientes que devem ser analisados.\n",
        "qtde_clientes = 4  #@param {type: \"slider\", min: 1, max: 10}\n",
        "\n",
        "#@markdown Informe o IP do servidor de predição da sua solução:\n",
        "my_server_ip = \"104.197.138.163\" #@param {type:\"string\"}\n",
        "\n",
        "#@markdown Informe a porta do servidor de predição da sua solução, se nada foi alterado, deve ser 443:\n",
        "my_server_port = \"443\" #@param {type:\"string\"}\n",
        "\n",
        "\n",
        "#@markdown Ah, e não se esqueça de executar esta célula!\n"
      ],
      "execution_count": null,
      "outputs": []
    },
    {
      "cell_type": "code",
      "metadata": {
        "id": "bL7_Uitf-_Uv"
      },
      "source": [
        "import requests\n",
        "import pandas as pd\n",
        "import json"
      ],
      "execution_count": null,
      "outputs": []
    },
    {
      "cell_type": "markdown",
      "metadata": {
        "id": "EnnjKg0_-6Q4"
      },
      "source": [
        "# Obtenção dos empréstimos pendentes de análise\n",
        "\n",
        "Vamos agora obter os clientes que estã precisand de empréstimo e exibí-los na tela"
      ]
    },
    {
      "cell_type": "code",
      "metadata": {
        "id": "HO5QEWjz_eYk"
      },
      "source": [
        "url = \"https://us-central1-emf-teacher.cloudfunctions.net/function-aulas-getclient?qtde={0}\".format(qtde_clientes)\n",
        "headers = {'Content-Type': 'application/json'}\n",
        "response = requests.request(\"GET\", url, headers=headers)\n",
        "response_content = response.text.encode('utf8').decode()\n",
        "clientes = pd.read_json(response_content)"
      ],
      "execution_count": null,
      "outputs": []
    },
    {
      "cell_type": "code",
      "metadata": {
        "id": "Yg6oYQyw_sXc",
        "colab": {
          "base_uri": "https://localhost:8080/",
          "height": 190
        },
        "outputId": "3bd13025-a106-4300-a038-4892ab476ecb"
      },
      "source": [
        "clientes"
      ],
      "execution_count": null,
      "outputs": [
        {
          "output_type": "execute_result",
          "data": {
            "text/html": [
              "<div>\n",
              "<style scoped>\n",
              "    .dataframe tbody tr th:only-of-type {\n",
              "        vertical-align: middle;\n",
              "    }\n",
              "\n",
              "    .dataframe tbody tr th {\n",
              "        vertical-align: top;\n",
              "    }\n",
              "\n",
              "    .dataframe thead th {\n",
              "        text-align: right;\n",
              "    }\n",
              "</style>\n",
              "<table border=\"1\" class=\"dataframe\">\n",
              "  <thead>\n",
              "    <tr style=\"text-align: right;\">\n",
              "      <th></th>\n",
              "      <th>nome</th>\n",
              "      <th>renda</th>\n",
              "      <th>idade</th>\n",
              "      <th>etnia</th>\n",
              "      <th>sexo</th>\n",
              "      <th>casapropria</th>\n",
              "      <th>outrasrendas</th>\n",
              "      <th>estadocivil</th>\n",
              "      <th>escolaridade</th>\n",
              "    </tr>\n",
              "  </thead>\n",
              "  <tbody>\n",
              "    <tr>\n",
              "      <th>22672</th>\n",
              "      <td>Daniel, Wu</td>\n",
              "      <td>4028.099732</td>\n",
              "      <td>35.959014</td>\n",
              "      <td>1</td>\n",
              "      <td>0</td>\n",
              "      <td>1</td>\n",
              "      <td>1</td>\n",
              "      <td>0</td>\n",
              "      <td>2</td>\n",
              "    </tr>\n",
              "    <tr>\n",
              "      <th>3029</th>\n",
              "      <td>Brian, Wright</td>\n",
              "      <td>3290.165416</td>\n",
              "      <td>37.610771</td>\n",
              "      <td>1</td>\n",
              "      <td>0</td>\n",
              "      <td>0</td>\n",
              "      <td>0</td>\n",
              "      <td>0</td>\n",
              "      <td>2</td>\n",
              "    </tr>\n",
              "    <tr>\n",
              "      <th>19240</th>\n",
              "      <td>Andre, Dave</td>\n",
              "      <td>2919.327934</td>\n",
              "      <td>20.430507</td>\n",
              "      <td>1</td>\n",
              "      <td>0</td>\n",
              "      <td>1</td>\n",
              "      <td>0</td>\n",
              "      <td>0</td>\n",
              "      <td>1</td>\n",
              "    </tr>\n",
              "    <tr>\n",
              "      <th>44198</th>\n",
              "      <td>Alma Ruby, Cordova</td>\n",
              "      <td>2741.916209</td>\n",
              "      <td>28.612836</td>\n",
              "      <td>1</td>\n",
              "      <td>1</td>\n",
              "      <td>0</td>\n",
              "      <td>0</td>\n",
              "      <td>1</td>\n",
              "      <td>1</td>\n",
              "    </tr>\n",
              "  </tbody>\n",
              "</table>\n",
              "</div>"
            ],
            "text/plain": [
              "                     nome        renda  ...  estadocivil  escolaridade\n",
              "22672          Daniel, Wu  4028.099732  ...            0             2\n",
              "3029        Brian, Wright  3290.165416  ...            0             2\n",
              "19240         Andre, Dave  2919.327934  ...            0             1\n",
              "44198  Alma Ruby, Cordova  2741.916209  ...            1             1\n",
              "\n",
              "[4 rows x 9 columns]"
            ]
          },
          "metadata": {
            "tags": []
          },
          "execution_count": 42
        }
      ]
    },
    {
      "cell_type": "markdown",
      "metadata": {
        "id": "I8VIiDB8GaLw"
      },
      "source": [
        "# Predição\n",
        "\n",
        "O cliente agora será submetido a dois modelos de Machine Learning preparados para a análise."
      ]
    },
    {
      "cell_type": "code",
      "metadata": {
        "id": "qE27sOO0GPFC"
      },
      "source": [
        "url = \"http://{}:{}/predict\".format(my_server_ip, my_server_port)\n",
        "headers = {'Content-Type': 'application/json'}\n",
        "conteudo = clientes.to_json()"
      ],
      "execution_count": null,
      "outputs": []
    },
    {
      "cell_type": "code",
      "metadata": {
        "id": "ufspC1N0ExsM",
        "colab": {
          "base_uri": "https://localhost:8080/",
          "height": 102
        },
        "outputId": "8b80d40e-9277-4d04-dd73-685e8de55ae0"
      },
      "source": [
        "response01 = requests.request(\"POST\", url + \"?model=modelo01\", headers=headers, data=conteudo)\n",
        "respostas01 = json.loads(response01.text.encode('utf8').decode())\n",
        "respostas01"
      ],
      "execution_count": null,
      "outputs": [
        {
          "output_type": "execute_result",
          "data": {
            "text/plain": [
              "{'prediction': [0, 1, 1, 1],\n",
              " 'proba': [[0.9712613311116339, 0.02873866888836604],\n",
              "  [0.10609475169972526, 0.8939052483002747],\n",
              "  [0.16488817236745124, 0.8351118276325488],\n",
              "  [0.006931977891545316, 0.9930680221084547]]}"
            ]
          },
          "metadata": {
            "tags": []
          },
          "execution_count": 65
        }
      ]
    },
    {
      "cell_type": "code",
      "metadata": {
        "id": "S_O_UBleE05F"
      },
      "source": [
        "df_01 = pd.Series(respostas01['prediction'], index = clientes.index, name=\"PredicaoML01\")\n",
        "df_01B = pd.Series(respostas01['proba'], index = clientes.index, name=\"PredicaoML01B\")"
      ],
      "execution_count": null,
      "outputs": []
    },
    {
      "cell_type": "code",
      "metadata": {
        "id": "3X_p_bAPFXhr",
        "colab": {
          "base_uri": "https://localhost:8080/",
          "height": 85
        },
        "outputId": "209879fc-d4b3-41a0-f610-d0862038a978"
      },
      "source": [
        "response02 = requests.request(\"POST\", url + \"?model=modelo02\", headers=headers, data=conteudo)\n",
        "respostas02 = json.loads(response02.text.encode('utf8').decode())\n",
        "respostas02"
      ],
      "execution_count": null,
      "outputs": [
        {
          "output_type": "execute_result",
          "data": {
            "text/plain": [
              "{'prediction': [-0.010159329576254223,\n",
              "  0.5917030901875656,\n",
              "  0.6236547836165044,\n",
              "  1.0260868020451164]}"
            ]
          },
          "metadata": {
            "tags": []
          },
          "execution_count": 67
        }
      ]
    },
    {
      "cell_type": "code",
      "metadata": {
        "id": "A10MTY8tG_8d"
      },
      "source": [
        "df_02 = pd.Series(respostas02['prediction'], index = clientes.index, name=\"PredicaoML02\")"
      ],
      "execution_count": null,
      "outputs": []
    },
    {
      "cell_type": "code",
      "metadata": {
        "id": "KrVb0COfE2p6",
        "colab": {
          "base_uri": "https://localhost:8080/",
          "height": 173
        },
        "outputId": "b89db516-54f8-43f5-9a7d-2d6899971e91"
      },
      "source": [
        "pd.DataFrame(clientes.loc[:,\"nome\"])\\\n",
        "    .merge(right= df_01, left_index=True, right_index=True)\\\n",
        "    .merge(df_01B, left_index=True, right_index=True)\\\n",
        "    .merge(df_02, left_index=True, right_index=True)"
      ],
      "execution_count": null,
      "outputs": [
        {
          "output_type": "execute_result",
          "data": {
            "text/html": [
              "<div>\n",
              "<style scoped>\n",
              "    .dataframe tbody tr th:only-of-type {\n",
              "        vertical-align: middle;\n",
              "    }\n",
              "\n",
              "    .dataframe tbody tr th {\n",
              "        vertical-align: top;\n",
              "    }\n",
              "\n",
              "    .dataframe thead th {\n",
              "        text-align: right;\n",
              "    }\n",
              "</style>\n",
              "<table border=\"1\" class=\"dataframe\">\n",
              "  <thead>\n",
              "    <tr style=\"text-align: right;\">\n",
              "      <th></th>\n",
              "      <th>nome</th>\n",
              "      <th>PredicaoML01</th>\n",
              "      <th>PredicaoML01B</th>\n",
              "      <th>PredicaoML02</th>\n",
              "    </tr>\n",
              "  </thead>\n",
              "  <tbody>\n",
              "    <tr>\n",
              "      <th>22672</th>\n",
              "      <td>Daniel, Wu</td>\n",
              "      <td>0</td>\n",
              "      <td>[0.9712613311116339, 0.02873866888836604]</td>\n",
              "      <td>-0.010159</td>\n",
              "    </tr>\n",
              "    <tr>\n",
              "      <th>3029</th>\n",
              "      <td>Brian, Wright</td>\n",
              "      <td>1</td>\n",
              "      <td>[0.10609475169972526, 0.8939052483002747]</td>\n",
              "      <td>0.591703</td>\n",
              "    </tr>\n",
              "    <tr>\n",
              "      <th>19240</th>\n",
              "      <td>Andre, Dave</td>\n",
              "      <td>1</td>\n",
              "      <td>[0.16488817236745124, 0.8351118276325488]</td>\n",
              "      <td>0.623655</td>\n",
              "    </tr>\n",
              "    <tr>\n",
              "      <th>44198</th>\n",
              "      <td>Alma Ruby, Cordova</td>\n",
              "      <td>1</td>\n",
              "      <td>[0.006931977891545316, 0.9930680221084547]</td>\n",
              "      <td>1.026087</td>\n",
              "    </tr>\n",
              "  </tbody>\n",
              "</table>\n",
              "</div>"
            ],
            "text/plain": [
              "                     nome  ...  PredicaoML02\n",
              "22672          Daniel, Wu  ...     -0.010159\n",
              "3029        Brian, Wright  ...      0.591703\n",
              "19240         Andre, Dave  ...      0.623655\n",
              "44198  Alma Ruby, Cordova  ...      1.026087\n",
              "\n",
              "[4 rows x 4 columns]"
            ]
          },
          "metadata": {
            "tags": []
          },
          "execution_count": 69
        }
      ]
    },
    {
      "cell_type": "code",
      "metadata": {
        "id": "xoppo_YQE-mt"
      },
      "source": [
        ""
      ],
      "execution_count": null,
      "outputs": []
    }
  ]
}