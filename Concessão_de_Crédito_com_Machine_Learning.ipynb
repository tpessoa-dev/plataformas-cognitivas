{
  "nbformat": 4,
  "nbformat_minor": 0,
  "metadata": {
    "colab": {
      "name": "Concessão de Crédito com Machine Learning.ipynb",
      "provenance": [],
      "toc_visible": true,
      "include_colab_link": true
    },
    "kernelspec": {
      "name": "python3",
      "display_name": "Python 3"
    }
  },
  "cells": [
    {
      "cell_type": "markdown",
      "metadata": {
        "id": "view-in-github",
        "colab_type": "text"
      },
      "source": [
        "<a href=\"https://colab.research.google.com/github/tpessoa-dev/plataformas-cognitivas/blob/main/Concess%C3%A3o_de_Cr%C3%A9dito_com_Machine_Learning.ipynb\" target=\"_parent\"><img src=\"https://colab.research.google.com/assets/colab-badge.svg\" alt=\"Open In Colab\"/></a>"
      ]
    },
    {
      "cell_type": "markdown",
      "metadata": {
        "id": "pG-o99QvFlS4"
      },
      "source": [
        "# Configurações"
      ]
    },
    {
      "cell_type": "markdown",
      "metadata": {
        "id": "aiXgHWzaKgcO"
      },
      "source": [
        "![alt text](https://github.com/elthonf/plataformas-cognitivas-docker/blob/master/images/capa.png?raw=1)"
      ]
    },
    {
      "cell_type": "code",
      "metadata": {
        "id": "AII-AcywAFml",
        "cellView": "form"
      },
      "source": [
        "#@title Parâmetros da solução\n",
        "#@markdown Informe a quantidade de clientes que devem ser analisados.\n",
        "qtde_clientes = 6  #@param {type: \"slider\", min: 1, max: 10}\n",
        "\n",
        "#@markdown Informe o IP do servidor de predição da sua solução:\n",
        "my_server_ip = \"35.222.152.218\" #@param {type:\"string\"}\n",
        "\n",
        "#@markdown Informe a porta do servidor de predição da sua solução, se nada foi alterado, deve ser 443:\n",
        "my_server_port = \"443\" #@param {type:\"string\"}\n",
        "\n",
        "\n",
        "#@markdown Ah, e não se esqueça de executar esta célula!\n"
      ],
      "execution_count": 1,
      "outputs": []
    },
    {
      "cell_type": "code",
      "metadata": {
        "id": "bL7_Uitf-_Uv"
      },
      "source": [
        "import requests\n",
        "import pandas as pd\n",
        "import json"
      ],
      "execution_count": 2,
      "outputs": []
    },
    {
      "cell_type": "markdown",
      "metadata": {
        "id": "EnnjKg0_-6Q4"
      },
      "source": [
        "# Obtenção dos empréstimos pendentes de análise\n",
        "\n",
        "Vamos agora obter os clientes que estã precisand de empréstimo e exibí-los na tela"
      ]
    },
    {
      "cell_type": "code",
      "metadata": {
        "id": "HO5QEWjz_eYk"
      },
      "source": [
        "url = \"https://us-central1-emf-teacher.cloudfunctions.net/function-aulas-getclient?qtde={0}\".format(qtde_clientes)\n",
        "headers = {'Content-Type': 'application/json'}\n",
        "response = requests.request(\"GET\", url, headers=headers)\n",
        "response_content = response.text.encode('utf8').decode()\n",
        "clientes = pd.read_json(response_content)"
      ],
      "execution_count": 3,
      "outputs": []
    },
    {
      "cell_type": "code",
      "metadata": {
        "id": "Yg6oYQyw_sXc",
        "colab": {
          "base_uri": "https://localhost:8080/",
          "height": 235
        },
        "outputId": "42d6a250-40fb-4ec5-c6fd-5ad448ed699c"
      },
      "source": [
        "clientes"
      ],
      "execution_count": 4,
      "outputs": [
        {
          "output_type": "execute_result",
          "data": {
            "text/html": [
              "<div>\n",
              "<style scoped>\n",
              "    .dataframe tbody tr th:only-of-type {\n",
              "        vertical-align: middle;\n",
              "    }\n",
              "\n",
              "    .dataframe tbody tr th {\n",
              "        vertical-align: top;\n",
              "    }\n",
              "\n",
              "    .dataframe thead th {\n",
              "        text-align: right;\n",
              "    }\n",
              "</style>\n",
              "<table border=\"1\" class=\"dataframe\">\n",
              "  <thead>\n",
              "    <tr style=\"text-align: right;\">\n",
              "      <th></th>\n",
              "      <th>nome</th>\n",
              "      <th>renda</th>\n",
              "      <th>idade</th>\n",
              "      <th>etnia</th>\n",
              "      <th>sexo</th>\n",
              "      <th>casapropria</th>\n",
              "      <th>outrasrendas</th>\n",
              "      <th>estadocivil</th>\n",
              "      <th>escolaridade</th>\n",
              "    </tr>\n",
              "  </thead>\n",
              "  <tbody>\n",
              "    <tr>\n",
              "      <th>11662</th>\n",
              "      <td>Jesse, Jones</td>\n",
              "      <td>3985.035660</td>\n",
              "      <td>55.220183</td>\n",
              "      <td>0</td>\n",
              "      <td>1</td>\n",
              "      <td>1</td>\n",
              "      <td>0</td>\n",
              "      <td>0</td>\n",
              "      <td>2</td>\n",
              "    </tr>\n",
              "    <tr>\n",
              "      <th>11215</th>\n",
              "      <td>Jahlysa, Tran</td>\n",
              "      <td>3017.500093</td>\n",
              "      <td>25.750213</td>\n",
              "      <td>0</td>\n",
              "      <td>1</td>\n",
              "      <td>0</td>\n",
              "      <td>0</td>\n",
              "      <td>0</td>\n",
              "      <td>2</td>\n",
              "    </tr>\n",
              "    <tr>\n",
              "      <th>46709</th>\n",
              "      <td>Meagan, Monarrez</td>\n",
              "      <td>4373.593186</td>\n",
              "      <td>43.462012</td>\n",
              "      <td>0</td>\n",
              "      <td>1</td>\n",
              "      <td>1</td>\n",
              "      <td>1</td>\n",
              "      <td>1</td>\n",
              "      <td>2</td>\n",
              "    </tr>\n",
              "    <tr>\n",
              "      <th>18231</th>\n",
              "      <td>Victor, Hernandez</td>\n",
              "      <td>3665.541064</td>\n",
              "      <td>28.507155</td>\n",
              "      <td>1</td>\n",
              "      <td>0</td>\n",
              "      <td>1</td>\n",
              "      <td>1</td>\n",
              "      <td>1</td>\n",
              "      <td>2</td>\n",
              "    </tr>\n",
              "    <tr>\n",
              "      <th>33367</th>\n",
              "      <td>Jasmine, Moreno</td>\n",
              "      <td>3482.393954</td>\n",
              "      <td>35.719835</td>\n",
              "      <td>0</td>\n",
              "      <td>1</td>\n",
              "      <td>1</td>\n",
              "      <td>1</td>\n",
              "      <td>1</td>\n",
              "      <td>0</td>\n",
              "    </tr>\n",
              "    <tr>\n",
              "      <th>7410</th>\n",
              "      <td>Renee, Moquino</td>\n",
              "      <td>3177.975340</td>\n",
              "      <td>37.891813</td>\n",
              "      <td>1</td>\n",
              "      <td>1</td>\n",
              "      <td>1</td>\n",
              "      <td>0</td>\n",
              "      <td>1</td>\n",
              "      <td>2</td>\n",
              "    </tr>\n",
              "  </tbody>\n",
              "</table>\n",
              "</div>"
            ],
            "text/plain": [
              "                    nome        renda  ...  estadocivil  escolaridade\n",
              "11662       Jesse, Jones  3985.035660  ...            0             2\n",
              "11215      Jahlysa, Tran  3017.500093  ...            0             2\n",
              "46709   Meagan, Monarrez  4373.593186  ...            1             2\n",
              "18231  Victor, Hernandez  3665.541064  ...            1             2\n",
              "33367    Jasmine, Moreno  3482.393954  ...            1             0\n",
              "7410      Renee, Moquino  3177.975340  ...            1             2\n",
              "\n",
              "[6 rows x 9 columns]"
            ]
          },
          "metadata": {
            "tags": []
          },
          "execution_count": 4
        }
      ]
    },
    {
      "cell_type": "markdown",
      "metadata": {
        "id": "I8VIiDB8GaLw"
      },
      "source": [
        "# Predição\n",
        "\n",
        "O cliente agora será submetido a dois modelos de Machine Learning preparados para a análise."
      ]
    },
    {
      "cell_type": "code",
      "metadata": {
        "id": "qE27sOO0GPFC"
      },
      "source": [
        "url = \"http://{}:{}/predict\".format(my_server_ip, my_server_port)\n",
        "headers = {'Content-Type': 'application/json'}\n",
        "conteudo = clientes.to_json()"
      ],
      "execution_count": 5,
      "outputs": []
    },
    {
      "cell_type": "code",
      "metadata": {
        "id": "ufspC1N0ExsM",
        "colab": {
          "base_uri": "https://localhost:8080/"
        },
        "outputId": "4bae2809-c3ad-42ba-908f-7f45abf3d7b1"
      },
      "source": [
        "response01 = requests.request(\"POST\", url + \"?model=modelo01\", headers=headers, data=conteudo)\n",
        "respostas01 = json.loads(response01.text.encode('utf8').decode())\n",
        "respostas01"
      ],
      "execution_count": 6,
      "outputs": [
        {
          "output_type": "execute_result",
          "data": {
            "text/plain": [
              "{'prediction': [0, 1, 0, 0, 0, 0],\n",
              " 'proba': [[0.9228494245453985, 0.07715057545460144],\n",
              "  [0.04597488365257296, 0.954025116347427],\n",
              "  [0.9953121687214376, 0.004687831278562434],\n",
              "  [0.9373435728672841, 0.06265642713271591],\n",
              "  [0.8977153416335896, 0.10228465836641044],\n",
              "  [0.7535118402624263, 0.2464881597375737]]}"
            ]
          },
          "metadata": {
            "tags": []
          },
          "execution_count": 6
        }
      ]
    },
    {
      "cell_type": "code",
      "metadata": {
        "id": "S_O_UBleE05F"
      },
      "source": [
        "df_01 = pd.Series(respostas01['prediction'], index = clientes.index, name=\"PredicaoML01\")\n",
        "df_01B = pd.Series(respostas01['proba'], index = clientes.index, name=\"PredicaoML01B\")"
      ],
      "execution_count": 7,
      "outputs": []
    },
    {
      "cell_type": "code",
      "metadata": {
        "id": "3X_p_bAPFXhr",
        "colab": {
          "base_uri": "https://localhost:8080/"
        },
        "outputId": "8c6a2f30-4e7e-4b0f-a10d-ec3359c9229f"
      },
      "source": [
        "response02 = requests.request(\"POST\", url + \"?model=modelo02\", headers=headers, data=conteudo)\n",
        "respostas02 = json.loads(response02.text.encode('utf8').decode())\n",
        "respostas02"
      ],
      "execution_count": 8,
      "outputs": [
        {
          "output_type": "execute_result",
          "data": {
            "text/plain": [
              "{'prediction': [0.13534460157225717,\n",
              "  1.0711610170621109,\n",
              "  0.02057058726599434,\n",
              "  0.04166179721793638,\n",
              "  0.24266802936497,\n",
              "  0.27502317856286396]}"
            ]
          },
          "metadata": {
            "tags": []
          },
          "execution_count": 8
        }
      ]
    },
    {
      "cell_type": "code",
      "metadata": {
        "id": "A10MTY8tG_8d"
      },
      "source": [
        "df_02 = pd.Series(respostas02['prediction'], index = clientes.index, name=\"PredicaoML02\")"
      ],
      "execution_count": 9,
      "outputs": []
    },
    {
      "cell_type": "code",
      "metadata": {
        "id": "KrVb0COfE2p6",
        "colab": {
          "base_uri": "https://localhost:8080/",
          "height": 235
        },
        "outputId": "a54d29a2-793e-4c77-8ba5-d001d443e762"
      },
      "source": [
        "pd.DataFrame(clientes.loc[:,\"nome\"])\\\n",
        "    .merge(right= df_01, left_index=True, right_index=True)\\\n",
        "    .merge(df_01B, left_index=True, right_index=True)\\\n",
        "    .merge(df_02, left_index=True, right_index=True)"
      ],
      "execution_count": 10,
      "outputs": [
        {
          "output_type": "execute_result",
          "data": {
            "text/html": [
              "<div>\n",
              "<style scoped>\n",
              "    .dataframe tbody tr th:only-of-type {\n",
              "        vertical-align: middle;\n",
              "    }\n",
              "\n",
              "    .dataframe tbody tr th {\n",
              "        vertical-align: top;\n",
              "    }\n",
              "\n",
              "    .dataframe thead th {\n",
              "        text-align: right;\n",
              "    }\n",
              "</style>\n",
              "<table border=\"1\" class=\"dataframe\">\n",
              "  <thead>\n",
              "    <tr style=\"text-align: right;\">\n",
              "      <th></th>\n",
              "      <th>nome</th>\n",
              "      <th>PredicaoML01</th>\n",
              "      <th>PredicaoML01B</th>\n",
              "      <th>PredicaoML02</th>\n",
              "    </tr>\n",
              "  </thead>\n",
              "  <tbody>\n",
              "    <tr>\n",
              "      <th>11662</th>\n",
              "      <td>Jesse, Jones</td>\n",
              "      <td>0</td>\n",
              "      <td>[0.9228494245453985, 0.07715057545460144]</td>\n",
              "      <td>0.135345</td>\n",
              "    </tr>\n",
              "    <tr>\n",
              "      <th>11215</th>\n",
              "      <td>Jahlysa, Tran</td>\n",
              "      <td>1</td>\n",
              "      <td>[0.04597488365257296, 0.954025116347427]</td>\n",
              "      <td>1.071161</td>\n",
              "    </tr>\n",
              "    <tr>\n",
              "      <th>46709</th>\n",
              "      <td>Meagan, Monarrez</td>\n",
              "      <td>0</td>\n",
              "      <td>[0.9953121687214376, 0.004687831278562434]</td>\n",
              "      <td>0.020571</td>\n",
              "    </tr>\n",
              "    <tr>\n",
              "      <th>18231</th>\n",
              "      <td>Victor, Hernandez</td>\n",
              "      <td>0</td>\n",
              "      <td>[0.9373435728672841, 0.06265642713271591]</td>\n",
              "      <td>0.041662</td>\n",
              "    </tr>\n",
              "    <tr>\n",
              "      <th>33367</th>\n",
              "      <td>Jasmine, Moreno</td>\n",
              "      <td>0</td>\n",
              "      <td>[0.8977153416335896, 0.10228465836641044]</td>\n",
              "      <td>0.242668</td>\n",
              "    </tr>\n",
              "    <tr>\n",
              "      <th>7410</th>\n",
              "      <td>Renee, Moquino</td>\n",
              "      <td>0</td>\n",
              "      <td>[0.7535118402624263, 0.2464881597375737]</td>\n",
              "      <td>0.275023</td>\n",
              "    </tr>\n",
              "  </tbody>\n",
              "</table>\n",
              "</div>"
            ],
            "text/plain": [
              "                    nome  ...  PredicaoML02\n",
              "11662       Jesse, Jones  ...      0.135345\n",
              "11215      Jahlysa, Tran  ...      1.071161\n",
              "46709   Meagan, Monarrez  ...      0.020571\n",
              "18231  Victor, Hernandez  ...      0.041662\n",
              "33367    Jasmine, Moreno  ...      0.242668\n",
              "7410      Renee, Moquino  ...      0.275023\n",
              "\n",
              "[6 rows x 4 columns]"
            ]
          },
          "metadata": {
            "tags": []
          },
          "execution_count": 10
        }
      ]
    },
    {
      "cell_type": "markdown",
      "metadata": {
        "id": "vdES6tsg2F2l"
      },
      "source": [
        "# **Conclusão**\n",
        "\n"
      ]
    },
    {
      "cell_type": "markdown",
      "metadata": {
        "id": "O9jiboEu2TvF"
      },
      "source": [
        "O cliente **Jahlysa, Tran** aponta com grande risco de Default e portanto terá o empréstimo negado.\n",
        "\n",
        "O cliente **Meagan, Monarrez** apresenta o mais alto score para bom pagador e portanto pode contar com linhas de créditos diferenciadas\n",
        "\n",
        "Os demais clientes apresentam scores positivos e podem contar com linhas de crédito padrão."
      ]
    }
  ]
}