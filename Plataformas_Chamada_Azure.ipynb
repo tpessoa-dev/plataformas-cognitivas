{
  "nbformat": 4,
  "nbformat_minor": 0,
  "metadata": {
    "colab": {
      "name": "Plataformas - Chamada Azure.ipynb",
      "provenance": [],
      "collapsed_sections": [],
      "toc_visible": true,
      "include_colab_link": true
    },
    "kernelspec": {
      "name": "python3",
      "display_name": "Python 3"
    }
  },
  "cells": [
    {
      "cell_type": "markdown",
      "metadata": {
        "id": "view-in-github",
        "colab_type": "text"
      },
      "source": [
        "<a href=\"https://colab.research.google.com/github/tpessoa-dev/plataformas-cognitivas/blob/main/Plataformas_Chamada_Azure.ipynb\" target=\"_parent\"><img src=\"https://colab.research.google.com/assets/colab-badge.svg\" alt=\"Open In Colab\"/></a>"
      ]
    },
    {
      "cell_type": "markdown",
      "metadata": {
        "id": "ys3g7bIIbBfK"
      },
      "source": [
        "# 1 - Setup"
      ]
    },
    {
      "cell_type": "code",
      "metadata": {
        "id": "emdqf8QrbCkY"
      },
      "source": [
        "import os.path\n",
        "from google.colab import files\n",
        "import requests\n",
        "import pandas as pd"
      ],
      "execution_count": null,
      "outputs": []
    },
    {
      "cell_type": "code",
      "metadata": {
        "id": "YovrggMuSaal"
      },
      "source": [
        "!git clone https://github.com/elthonf/azure-ml.git"
      ],
      "execution_count": null,
      "outputs": []
    },
    {
      "cell_type": "markdown",
      "metadata": {
        "id": "_J1c5p5Cbmal"
      },
      "source": [
        "#2 - Processamento\n"
      ]
    },
    {
      "cell_type": "markdown",
      "metadata": {
        "id": "ZAtIEbYeb_bb"
      },
      "source": [
        "Carrega dados"
      ]
    },
    {
      "cell_type": "code",
      "metadata": {
        "id": "2i7F9PDfbnUN"
      },
      "source": [
        "mydf = pd.read_csv('./azure-ml/datasets/statistical/BaseUnknown03.csv')\n",
        "\n",
        "mysample = mydf.sample(10).drop('nome', axis=1) #Obtém X exemplos aleatórios\n",
        "# Atenção! Verificar se o teu modelo possui a coluna etnia, caso contrário, também é necessário remover\n",
        "# com a instrução a seguir:\n",
        "#mysample = mysample.sample(20).drop('etnia', axis=1)"
      ],
      "execution_count": null,
      "outputs": []
    },
    {
      "cell_type": "code",
      "metadata": {
        "id": "824cZfg0mHuf"
      },
      "source": [
        "mysample"
      ],
      "execution_count": null,
      "outputs": []
    },
    {
      "cell_type": "markdown",
      "metadata": {
        "id": "oKv1ngC1cF-G"
      },
      "source": [
        "Prepara chamada"
      ]
    },
    {
      "cell_type": "code",
      "metadata": {
        "id": "XwnLpRn0bkh_"
      },
      "source": [
        "url = \"http://caeb8a1b-d711-4cb0-91b8-ff24a454079d.southcentralus.azurecontainer.io/score\" #Coloque aqui o URL da Azure\n",
        "headers = {'Content-Type': 'application/json'}\n",
        "#Caso seja com chave, adicionar o código abaixo\n",
        "#authKey = \"OkAlwlfeMZCBnUkAlu9QxCwRdSA1b5rh\" #Coloque aqui a chave do Web Servicec\n",
        "#headers = {'Content-Type': 'application/json', 'Authorization': ('Bearer ' + authKey)}\n",
        "\n",
        "\n",
        "conteudo = mysample.to_json(orient='split')"
      ],
      "execution_count": null,
      "outputs": []
    },
    {
      "cell_type": "markdown",
      "metadata": {
        "id": "6xN4qB9lcMTg"
      },
      "source": [
        "Chama a tua API"
      ]
    },
    {
      "cell_type": "code",
      "metadata": {
        "id": "YdPJA786cHBr"
      },
      "source": [
        "response = requests.request(\"POST\", url, headers=headers, data=conteudo)\n",
        "print(\"Resposta da API:\")\n",
        "print(response.text.encode('utf8').decode())"
      ],
      "execution_count": null,
      "outputs": []
    },
    {
      "cell_type": "markdown",
      "metadata": {
        "id": "WI3WyM3rmTdp"
      },
      "source": [
        "Coloque aqui a sua interpretação do modelo (obrigatório):"
      ]
    }
  ]
}