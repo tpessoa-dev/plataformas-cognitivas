{
  "nbformat": 4,
  "nbformat_minor": 0,
  "metadata": {
    "colab": {
      "name": "Plataformas Azure - Face Find.ipynb",
      "provenance": [],
      "collapsed_sections": [],
      "toc_visible": true,
      "include_colab_link": true
    },
    "kernelspec": {
      "name": "python3",
      "display_name": "Python 3"
    }
  },
  "cells": [
    {
      "cell_type": "markdown",
      "metadata": {
        "id": "view-in-github",
        "colab_type": "text"
      },
      "source": [
        "<a href=\"https://colab.research.google.com/github/tpessoa-dev/plataformas-cognitivas/blob/main/Plataformas_Azure_Face_Find.ipynb\" target=\"_parent\"><img src=\"https://colab.research.google.com/assets/colab-badge.svg\" alt=\"Open In Colab\"/></a>"
      ]
    },
    {
      "cell_type": "markdown",
      "metadata": {
        "id": "zZUDUNNfUbk1"
      },
      "source": [
        "# Setup"
      ]
    },
    {
      "cell_type": "code",
      "metadata": {
        "id": "Qu33LvaQUULH"
      },
      "source": [
        "!git clone https://github.com/elthonf/azure-ml.git"
      ],
      "execution_count": null,
      "outputs": []
    },
    {
      "cell_type": "code",
      "metadata": {
        "id": "Br1478-VU352"
      },
      "source": [
        "!pip install azure-cognitiveservices-vision-face\n",
        "!pip install Pillow"
      ],
      "execution_count": null,
      "outputs": []
    },
    {
      "cell_type": "code",
      "metadata": {
        "id": "5OAWVfVuUe8v"
      },
      "source": [
        "from azure.cognitiveservices.vision.face import FaceClient\n",
        "from msrest.authentication import CognitiveServicesCredentials\n",
        "from PIL import Image, ImageDraw\n",
        "import json\n"
      ],
      "execution_count": null,
      "outputs": []
    },
    {
      "cell_type": "code",
      "metadata": {
        "id": "znkKmv4DUzbA"
      },
      "source": [
        "def getRectangle(faceDictionary):\n",
        "    \"\"\"\n",
        "    Função para criar um retângulo a partir de uma face identificada pelo Azure Face Detection\n",
        "    :param faceDictionary:\n",
        "    :return:\n",
        "    \"\"\"\n",
        "    rect = faceDictionary.face_rectangle\n",
        "    left = rect.left\n",
        "    top = rect.top\n",
        "    right = left + rect.width\n",
        "    bottom = top + rect.height\n",
        "\n",
        "    return ((left, top), (right, bottom))"
      ],
      "execution_count": null,
      "outputs": []
    },
    {
      "cell_type": "code",
      "metadata": {
        "id": "jAPXcs26VHiz"
      },
      "source": [
        ""
      ],
      "execution_count": null,
      "outputs": []
    },
    {
      "cell_type": "markdown",
      "metadata": {
        "id": "Edt8OpPAVJI6"
      },
      "source": [
        "# Cliente de API"
      ]
    },
    {
      "cell_type": "code",
      "metadata": {
        "id": "cDCjxBzkVK4h"
      },
      "source": [
        "KEY = \"\" #Coloque aqui sua chave\n",
        "ENDPOINT = \"\" #Coloque aqui seu endpoint (Ponto de Extremidade)\n",
        "face_client = FaceClient(ENDPOINT, CognitiveServicesCredentials(KEY))"
      ],
      "execution_count": null,
      "outputs": []
    },
    {
      "cell_type": "markdown",
      "metadata": {
        "id": "S4II2bazXxZ-"
      },
      "source": [
        "Obtém arquivos"
      ]
    },
    {
      "cell_type": "code",
      "metadata": {
        "id": "KUtgYGu4VT8o"
      },
      "source": [
        "imagefile01 = \"./azure-ml/datasets/facial/elthon00.jpg\" #Imagem com a face única\n",
        "NomeDoDonoDoRosto = \"Elthon\" #Nome da pessoa que está na face única\n",
        "imagefile02 = \"./azure-ml/datasets/facial/elthon03.jpg\" #Imagem com as faces a procurar"
      ],
      "execution_count": null,
      "outputs": []
    },
    {
      "cell_type": "markdown",
      "metadata": {
        "id": "mO3irswcYDlQ"
      },
      "source": [
        "Identifica FaceIDs da imagem 01"
      ]
    },
    {
      "cell_type": "code",
      "metadata": {
        "id": "_eLjNogFV9E2"
      },
      "source": [
        "with open(imagefile01, 'r+b') as w:\n",
        "    detected_faces01 = face_client.face.detect_with_stream(image=w)\n",
        "\n",
        "for face in detected_faces01:\n",
        "    face_to_find = face.face_id\n",
        "    print(\"**** [{0}] foi detectado com face id [{1}] em : {2}\".format(NomeDoDonoDoRosto, face.face_id, face.face_rectangle))"
      ],
      "execution_count": null,
      "outputs": []
    },
    {
      "cell_type": "markdown",
      "metadata": {
        "id": "DyMRkFxsYAXG"
      },
      "source": [
        "Identifica FaceIDs da imagem 02"
      ]
    },
    {
      "cell_type": "code",
      "metadata": {
        "id": "SHGlecHpYApi"
      },
      "source": [
        "with open(imagefile02, 'r+b') as w:\n",
        "    detected_faces02 = face_client.face.detect_with_stream(image=w)\n",
        "faces_to_compare = []\n",
        "for face in detected_faces02:\n",
        "    faces_to_compare.append(face.face_id)\n",
        "    print(\"**** Detected face id [{0}] on : {1}\".format(face.face_id, face.face_rectangle))\n",
        "\n",
        "#Chama API para identificar faces similares\n",
        "similar_faces = face_client.face.find_similar(face_id=face_to_find, face_ids=faces_to_compare)"
      ],
      "execution_count": null,
      "outputs": []
    },
    {
      "cell_type": "code",
      "metadata": {
        "id": "FgJ6S1DOYJK2"
      },
      "source": [
        "if not similar_faces[0]:\n",
        "    print('Sem rostos similares na segunda imagem.')\n",
        "else:\n",
        "    for similar in similar_faces:\n",
        "        print(\"Face [{0}] similar à face [{1}] com {2} de confiança.\".format( face_to_find, similar.face_id, similar.confidence))\n",
        "    img = Image.open(imagefile02)\n",
        "    draw = ImageDraw.Draw(img)\n",
        "    img = Image.open(imagefile02)\n",
        "    draw = ImageDraw.Draw(img)\n",
        "    for face in detected_faces02: #Loop de todas as faces na foto 2\n",
        "        if face.face_id in list(map(lambda x: x.face_id, similar_faces)): #Se a face estiver entre as similares\n",
        "            draw.rectangle(xy=getRectangle(face), outline='red')\n",
        "            draw.text(xy=(face.face_rectangle.left, face.face_rectangle.top + face.face_rectangle.height),\n",
        "                      text=NomeDoDonoDoRosto,\n",
        "                      fill=\"red\")\n"
      ],
      "execution_count": null,
      "outputs": []
    },
    {
      "cell_type": "code",
      "metadata": {
        "id": "PW0aDPj5YP-w"
      },
      "source": [
        "img"
      ],
      "execution_count": null,
      "outputs": []
    },
    {
      "cell_type": "code",
      "metadata": {
        "id": "bmCZKmXSYTaf"
      },
      "source": [
        ""
      ],
      "execution_count": null,
      "outputs": []
    }
  ]
}